{
 "cells": [
  {
   "cell_type": "code",
   "execution_count": 51,
   "metadata": {},
   "outputs": [],
   "source": [
    "import pandas as pd\n",
    "import numpy as np\n",
    "import os\n",
    "from tqdm import tqdm\n",
    "os.chdir('/home/lichi/jupiter/imaginarium')\n",
    "from random import sample\n",
    "\n",
    "\n",
    "\n",
    "from PIL import Image\n",
    "from keras.applications.vgg19 import VGG19\n",
    "from keras.models import Model\n",
    "from keras.preprocessing import image\n",
    "from keras.applications.imagenet_utils import preprocess_input\n",
    "import matplotlib.pyplot as plt\n",
    "import matplotlib.image as mpimg\n",
    "from sklearn.metrics import mean_squared_error\n",
    "\n",
    "from visual import tools, evaluation"
   ]
  },
  {
   "cell_type": "markdown",
   "metadata": {},
   "source": [
    "#### Читаем представления для картинок и слов"
   ]
  },
  {
   "cell_type": "code",
   "execution_count": 6,
   "metadata": {},
   "outputs": [],
   "source": [
    "import pickle\n",
    "with open('preprocessed_data/words_coco_vectors.pickle', 'rb') as f:\n",
    "    words_vectors = pickle.load( f)\n",
    "with open('preprocessed_data/image_coco_vectors.pickle', 'rb') as f:\n",
    "    image_vectors = pickle.load( f)"
   ]
  },
  {
   "cell_type": "markdown",
   "metadata": {},
   "source": [
    "### Считаем бэйзлайн для задачи\n",
    "\n",
    "Если мы выбираем k случайных картинок, ищем к ним ближайшее слово, а потом считаем, к какой из картинок это слово ближе всего."
   ]
  },
  {
   "cell_type": "code",
   "execution_count": 28,
   "metadata": {},
   "outputs": [],
   "source": [
    "def images_words(image_vectors, words_vectors, k):\n",
    "    image_vectors_k = image_vectors[\n",
    "        np.array(sample(range(1,len(image_vectors)), k))]\n",
    "    picture_index1 = np.random.choice(k, 1)\n",
    "    picture1 = image_vectors_k[picture_index1].reshape(1024,)\n",
    "    mse_picture = np.array([mean_squared_error(picture1, x)\n",
    "                                for x in words_vectors])\n",
    "    closest_word = words_vectors[np.argmin(mse_picture)]\n",
    "    mse_words = np.array([mean_squared_error(closest_word, x)\n",
    "                                for x in image_vectors_k])\n",
    "    picture_index2 = np.argmin(mse_words)\n",
    "    return picture_index1 == picture_index2"
   ]
  },
  {
   "cell_type": "markdown",
   "metadata": {},
   "source": [
    "### Берем разное количество испытаний"
   ]
  },
  {
   "cell_type": "code",
   "execution_count": 46,
   "metadata": {},
   "outputs": [],
   "source": [
    "k = 5\n",
    "array_5 = [images_words(image_vectors, words_vectors, k) for x in range(1000)]"
   ]
  },
  {
   "cell_type": "code",
   "execution_count": 52,
   "metadata": {},
   "outputs": [
    {
     "name": "stderr",
     "output_type": "stream",
     "text": [
      "100%|██████████| 100/100 [00:15<00:00,  6.41it/s]\n"
     ]
    }
   ],
   "source": [
    "k = 10\n",
    "array_10 = [images_words(image_vectors, words_vectors, k) for x in tqdm(range(100))]"
   ]
  },
  {
   "cell_type": "code",
   "execution_count": 53,
   "metadata": {},
   "outputs": [
    {
     "data": {
      "text/plain": [
       "(0.903, 0.9)"
      ]
     },
     "execution_count": 53,
     "metadata": {},
     "output_type": "execute_result"
    }
   ],
   "source": [
    "np.mean(array_5), np.mean(array_10)"
   ]
  },
  {
   "cell_type": "markdown",
   "metadata": {},
   "source": [
    "### Считаем бейзлайн для непосредственной задачи"
   ]
  },
  {
   "cell_type": "code",
   "execution_count": null,
   "metadata": {
    "collapsed": true
   },
   "outputs": [],
   "source": [
    "def images_words(image_vectors, words_vectors, k):\n",
    "    ### Сэмплирую слово, считаю ближайшее\n",
    "    image_vectors_k = image_vectors[\n",
    "        np.array(sample(range(1,len(image_vectors)), k))]\n",
    "    picture_index1 = np.random.choice(k, 1)\n",
    "    picture1 = image_vectors_k[picture_index1].reshape(1024,)\n",
    "    mse_picture = np.array([mean_squared_error(picture1, x)\n",
    "                                for x in words_vectors])\n",
    "    closest_word = words_vectors[np.argmin(mse_picture)]\n",
    "    ### Сэмплирую еще 3 раза, считаю ближайшую картинку\n",
    "    picture_index_list = [picture_index1]\n",
    "    for player in range(3):\n",
    "        image_vectors_k = image_vectors[\n",
    "            np.array(sample(range(1,len(image_vectors)), k))]\n",
    "        mse_words = np.array([mean_squared_error(closest_word, x)\n",
    "                                for x in image_vectors_k])\n",
    "        picture_index_list.append(np.argmin(mse_words))\n",
    "    return picture_index_list"
   ]
  },
  {
   "cell_type": "code",
   "execution_count": null,
   "metadata": {
    "collapsed": true
   },
   "outputs": [],
   "source": []
  },
  {
   "cell_type": "code",
   "execution_count": null,
   "metadata": {
    "collapsed": true
   },
   "outputs": [],
   "source": []
  },
  {
   "cell_type": "code",
   "execution_count": null,
   "metadata": {
    "collapsed": true
   },
   "outputs": [],
   "source": []
  },
  {
   "cell_type": "code",
   "execution_count": null,
   "metadata": {
    "collapsed": true
   },
   "outputs": [],
   "source": []
  },
  {
   "cell_type": "code",
   "execution_count": null,
   "metadata": {
    "collapsed": true
   },
   "outputs": [],
   "source": []
  },
  {
   "cell_type": "code",
   "execution_count": null,
   "metadata": {
    "collapsed": true
   },
   "outputs": [],
   "source": []
  },
  {
   "cell_type": "markdown",
   "metadata": {},
   "source": [
    "## Черновик"
   ]
  },
  {
   "cell_type": "markdown",
   "metadata": {
    "collapsed": true
   },
   "source": [
    "##### Ищем ближайшие k слова к картинке, а потом смотрим, встретилась ли в топе близких к этим словам k картинкам, исходная картинка"
   ]
  },
  {
   "cell_type": "code",
   "execution_count": 4,
   "metadata": {},
   "outputs": [
    {
     "name": "stdout",
     "output_type": "stream",
     "text": [
      "5\n",
      "10\n"
     ]
    }
   ],
   "source": [
    "tmp_is_pic_near_pic = []\n",
    "k_range = [5,10]\n",
    "k_mean = []\n",
    "for k in k_range:\n",
    "    print k\n",
    "    for ind_pic in range(len(image_vectors)):\n",
    "        ind_pic = 0\n",
    "        mse_picture = np.array([mean_squared_error(image_vectors[ind_pic], x)\n",
    "                                for x in words_vectors])\n",
    "        idx_words = np.argpartition(mse_picture, k)\n",
    "        is_pic_near_pic = []\n",
    "        for ind_word in list(idx_words[:k]):\n",
    "            mse_words = np.array([mean_squared_error(words_vectors[ind_word], x)\n",
    "                                for x in image_vectors])\n",
    "            idx_images = np.argpartition(mse_words, k)[:k]\n",
    "            tmp_is_pic_near_pic.append(ind_pic in idx_images)\n",
    "        is_pic_near_pic = np.mean(tmp_is_pic_near_pic)\n",
    "    k_mean.append(np.mean(tmp_is_pic_near_pic))"
   ]
  },
  {
   "cell_type": "code",
   "execution_count": 5,
   "metadata": {},
   "outputs": [
    {
     "data": {
      "image/png": "[encoded data removed]",
      "text/plain": [
       "<matplotlib.figure.Figure at 0x7f33b6aea2d0>"
      ]
     },
     "metadata": {},
     "output_type": "display_data"
    }
   ],
   "source": [
    "plt.plot(k_range, k_mean)\n",
    "plt.title('The proportion of images meet in the top-k images \\n for the nearest top-k words \\n images-words - f30k, words-images -coco')\n",
    "plt.xlabel('k')\n",
    "plt.ylabel('Proportion')\n",
    "plt.show()"
   ]
  },
  {
   "cell_type": "markdown",
   "metadata": {},
   "source": [
    "### Пишем сетку"
   ]
  },
  {
   "cell_type": "markdown",
   "metadata": {},
   "source": [
    "Берем 5 случайных картинок, из них выбираем одну\n",
    "\n",
    "1) y - ohe номера картинки. \n",
    "\n",
    "2) X1 -  расстояние от картинки до топ 5 слов( часть речи, длина этих слов, сколько раз эти слова встречаются в топ-5 других картинок)\n",
    "\n",
    "3) X2 - расстояние от полученного среднего вектора слов до 5 картинок, сколько раз картинки встречаются в топ-5 этих слов\n",
    "\n",
    "4) Лосс - логлосс при обучении 2 игрока, при обучении 1 игрока - 1.5*p*(1-p)*(1-p) + p*p*(1-p)*1.5\n",
    "\n",
    "\n"
   ]
  },
  {
   "cell_type": "markdown",
   "metadata": {},
   "source": [
    "### Матрица, в какой доле картинок слово в топ-5, расстояния от картинкок до слов"
   ]
  },
  {
   "cell_type": "code",
   "execution_count": 6,
   "metadata": {
    "collapsed": true
   },
   "outputs": [],
   "source": [
    "k = 10\n",
    "idx_images_array = []\n",
    "mse_images_array = []\n",
    "mse_images_top_array = []\n",
    "for i in range(len(words_vectors)):\n",
    "    mse_words = np.array([mean_squared_error(words_vectors[i], x)\n",
    "                                    for x in image_vectors])\n",
    "    idx_images = np.argpartition(mse_words, k)[:k]\n",
    "    idx_images_array.append([1 if x in idx_images else 0 for x in range(len(mse_words))])\n",
    "    mse_images_array.append(mse_words)\n",
    "    mse_images_top_array.append(mse_words[idx_images])\n",
    "idx_images_array = np.array(idx_images_array)\n",
    "mse_images_array = np.array(mse_images_array)\n",
    "mse_images_top_array = np.array(mse_images_top_array)"
   ]
  },
  {
   "cell_type": "code",
   "execution_count": 7,
   "metadata": {
    "collapsed": true
   },
   "outputs": [],
   "source": [
    "norm_idx_images_array = idx_images_array.sum(axis = 0) / float(idx_images_array.sum())"
   ]
  },
  {
   "cell_type": "markdown",
   "metadata": {},
   "source": [
    "Матрица, в какой доле слов, эта картинка в топ-k"
   ]
  },
  {
   "cell_type": "code",
   "execution_count": 8,
   "metadata": {
    "collapsed": true
   },
   "outputs": [],
   "source": [
    "k = 10\n",
    "idx_words_array = []\n",
    "mse_words_array = []\n",
    "mse_words_top_array = []\n",
    "for i in range(len(image_vectors)):\n",
    "    mse_words = np.array([mean_squared_error(image_vectors[i], x)\n",
    "                                    for x in words_vectors])\n",
    "    idx_words = np.argpartition(mse_words, k)[:k]\n",
    "    idx_words_array.append([1 if x in idx_words else 0 for x in range(len(mse_words))])\n",
    "    mse_words_array.append(mse_words)\n",
    "    mse_words_top_array.append(mse_words[idx_words])\n",
    "idx_words_array = np.array(idx_words_array)\n",
    "mse_words_array = np.array(mse_words_array)\n",
    "mse_words_top_array = np.array(mse_words_top_array)"
   ]
  },
  {
   "cell_type": "code",
   "execution_count": 13,
   "metadata": {
    "collapsed": true
   },
   "outputs": [
    {
     "data": {
      "text/plain": [
       "array([[0.00152146, 0.00155576, 0.00154716, ..., 0.00155907, 0.00148566,\n",
       "        0.00156056],\n",
       "       [0.00159509, 0.00159204, 0.00160633, ..., 0.00161372, 0.00162023,\n",
       "        0.00161243],\n",
       "       [0.00133949, 0.00137937, 0.00126285, ..., 0.00141016, 0.00142145,\n",
       "        0.00141249],\n",
       "       ...,\n",
       "       [0.00157614, 0.00157397, 0.00155784, ..., 0.001566  , 0.00158731,\n",
       "        0.00157408],\n",
       "       [0.00147161, 0.00151804, 0.00151538, ..., 0.00152432, 0.00154058,\n",
       "        0.001546  ],\n",
       "       [0.00149485, 0.00150175, 0.00146853, ..., 0.00144939, 0.0015252 ,\n",
       "        0.00152812]], dtype=float32)"
      ]
     },
     "execution_count": 13,
     "metadata": {},
     "output_type": "execute_result"
    }
   ],
   "source": [
    "mse_words_top_array"
   ]
  },
  {
   "cell_type": "code",
   "execution_count": 10,
   "metadata": {
    "collapsed": true
   },
   "outputs": [],
   "source": [
    "norm_idx_words_array = idx_words_array.sum(axis = 0) / float(idx_words_array.sum())"
   ]
  },
  {
   "cell_type": "markdown",
   "metadata": {},
   "source": [
    "#### Записываю данные"
   ]
  },
  {
   "cell_type": "code",
   "execution_count": 22,
   "metadata": {
    "collapsed": true
   },
   "outputs": [],
   "source": [
    "import pickle\n",
    "# Дампим массив, в котором содержатся индексы  топ10,\n",
    "# близких по mse слов-ассоциаций к картинке для каждого ckjdf\n",
    "with open('preprocessed_data/idx_images_array.pickle', 'wb') as f:\n",
    "    pickle.dump(idx_images_array, f)\n",
    "# Дампим массив, в котором содержатся индексы  топ10,\n",
    "# близких по mse картинок-ассоциаций к словам для каждой картинки\n",
    "with open('preprocessed_data/idx_words_array.pickle', 'wb') as f:\n",
    "    pickle.dump(idx_words_array, f)\n",
    "# Дампим массив, в котором содержатся инфа о том,\n",
    "# в скольки процентах случаев это слово входит в топ-10 ближайших для всех картинок\n",
    "with open('preprocessed_data/norm_idx_words_array.pickle', 'wb') as f:\n",
    "    pickle.dump(norm_idx_words_array, f)\n",
    "# Дампим массив, в котором содержатся инфа о том,\n",
    "# в скольки процентах случаев картинка входит в топ-10 ближайших для всех слов\n",
    "with open('preprocessed_data/norm_idx_images_array.pickle', 'wb') as f:\n",
    "    pickle.dump(norm_idx_images_array, f)\n",
    "# Дампим массив, в котором содержатся расстояние до топ k слов \n",
    "with open('preprocessed_data/mse_words_top_array.pickle', 'wb') as f:\n",
    "    pickle.dump(mse_words_top_array, f)\n",
    "# Дампим массив, в котором содержатся расстояние до топ k слов \n",
    "with open('preprocessed_data/mse_words_top_array.pickle', 'wb') as f:\n",
    "    pickle.dump(mse_words_top_array, f)\n",
    "    "
   ]
  },
  {
   "cell_type": "code",
   "execution_count": null,
   "metadata": {
    "collapsed": true
   },
   "outputs": [],
   "source": []
  }
 ],
 "metadata": {
  "kernelspec": {
   "display_name": "Python 2",
   "language": "python",
   "name": "python2"
  },
  "language_info": {
   "codemirror_mode": {
    "name": "ipython",
    "version": 2
   },
   "file_extension": ".py",
   "mimetype": "text/x-python",
   "name": "python",
   "nbconvert_exporter": "python",
   "pygments_lexer": "ipython2",
   "version": "2.7.6"
  }
 },
 "nbformat": 4,
 "nbformat_minor": 2
}
