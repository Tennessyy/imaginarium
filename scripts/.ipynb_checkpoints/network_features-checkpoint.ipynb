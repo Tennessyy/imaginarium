{
 "cells": [
  {
   "cell_type": "raw",
   "metadata": {},
   "source": [
    "!wget http://www.cs.toronto.edu/~rkiros/datasets/f8k.zip\n",
    "!wget http://www.cs.toronto.edu/~rkiros/datasets/f30k.zip\n",
    "!wget http://www.cs.toronto.edu/~rkiros/datasets/coco.zip\n",
    "!wget http://www.cs.toronto.edu/~rkiros/models/vse.zip\n",
    "!git clone https://github.com/ryankiros/visual-semantic-embedding.git\n",
    "!git clone https://github.com/fchollet/deep-learning-models.git"
   ]
  },
  {
   "cell_type": "code",
   "execution_count": 2,
   "metadata": {},
   "outputs": [
    {
     "name": "stderr",
     "output_type": "stream",
     "text": [
      "/usr/local/lib/python2.7/dist-packages/h5py/__init__.py:36: FutureWarning: Conversion of the second argument of issubdtype from `float` to `np.floating` is deprecated. In future, it will be treated as `np.float64 == np.dtype(float).type`.\n",
      "  from ._conv import register_converters as _register_converters\n",
      "Using TensorFlow backend.\n",
      "WARNING (theano.tensor.blas): Using NumPy C-API based implementation for BLAS functions.\n"
     ]
    }
   ],
   "source": [
    "import pandas as pd\n",
    "import numpy as np\n",
    "import os\n",
    "from random import sample\n",
    "\n",
    "from PIL import Image\n",
    "from keras.applications.vgg19 import VGG19\n",
    "from keras.models import Model\n",
    "from keras.preprocessing import image\n",
    "from keras.applications.imagenet_utils import preprocess_input\n",
    "import matplotlib.pyplot as plt\n",
    "import matplotlib.image as mpimg\n",
    "from sklearn.metrics import mean_squared_error\n",
    "\n",
    "from visual import tools, evaluation"
   ]
  },
  {
   "cell_type": "code",
   "execution_count": 3,
   "metadata": {
    "collapsed": true
   },
   "outputs": [
    {
     "name": "stdout",
     "output_type": "stream",
     "text": [
      "/home/lichi/jupiter/imaginarium/pretrained_models/coco.npz\n",
      "Loading dictionary...\n",
      "Creating inverted dictionary...\n",
      "Loading model options...\n",
      "Loading model parameters...\n",
      "Compiling sentence encoder...\n",
      "Compiling image encoder...\n",
      "Packing up...\n",
      "/home/lichi/jupiter/imaginarium/pretrained_models/f30k.npz\n",
      "Loading dictionary...\n",
      "Creating inverted dictionary...\n",
      "Loading model options...\n",
      "Loading model parameters...\n",
      "Compiling sentence encoder...\n",
      "Compiling image encoder...\n",
      "Packing up...\n"
     ]
    }
   ],
   "source": [
    "path_to_model =  '/home/lichi/jupiter/imaginarium/pretrained_models/coco.npz'\n",
    "path_to_model_f30k =  '/home/lichi/jupiter/imaginarium/pretrained_models/f30k.npz'\n",
    "model = tools.load_model(path_to_model = path_to_model)\n",
    "model_f30k = tools.load_model(path_to_model = path_to_model_f30k)\n",
    "#evaluation.evalrank(model, data='f8k', split='test')"
   ]
  },
  {
   "cell_type": "markdown",
   "metadata": {},
   "source": [
    "#### Читаем картинки, строим эмбеддинги и извлекаем из них VGG19 фичи"
   ]
  },
  {
   "cell_type": "code",
   "execution_count": 4,
   "metadata": {
    "collapsed": true
   },
   "outputs": [
    {
     "name": "stderr",
     "output_type": "stream",
     "text": [
      "/usr/local/lib/python2.7/dist-packages/ipykernel_launcher.py:2: UserWarning: Update your `Model` call to the Keras 2 API: `Model(outputs=Tensor(\"fc..., inputs=Tensor(\"in...)`\n",
      "  \n"
     ]
    },
    {
     "name": "stdout",
     "output_type": "stream",
     "text": [
      "img 17.jpeg\n",
      "img 4.jpeg\n",
      "img 16.jpeg\n",
      "img 3.jpeg\n",
      "img 8.jpeg\n",
      "img 20.jpeg\n",
      "img 23.jpeg\n",
      "img 18.jpeg\n",
      "img 15.jpeg\n",
      "img 13.jpeg\n",
      "img 2.jpeg\n",
      "img 22.jpeg\n",
      ".ipynb_checkpoints\n",
      "img 14.jpeg\n",
      "img 11.jpeg\n",
      "img 9.jpeg\n",
      "img 7.jpeg\n",
      "img 21.jpeg\n",
      "img 10.jpeg\n",
      "img 6.jpeg\n",
      "img 19.jpeg\n",
      "img 12.jpeg\n",
      "img 5.jpeg\n"
     ]
    }
   ],
   "source": [
    "base_model = VGG19(weights='imagenet', include_top=True)\n",
    "model_vgg19 = Model(input=base_model.input, output=base_model.get_layer('fc2').output)\n",
    "\n",
    "paths_images = os.listdir('images')\n",
    "img_list = []\n",
    "feat_list = []\n",
    "for path in paths_images:\n",
    "    print path\n",
    "    if path!='.ipynb_checkpoints':\n",
    "        img=mpimg.imread('images/' + path,0)\n",
    "        img_crop = img[30:-30,30:-211]\n",
    "        h = img_crop.shape[0]\n",
    "        w = img_crop.shape[1]\n",
    "        img16 = []\n",
    "        feat16 = []\n",
    "        for i in np.arange(0,1,0.5):\n",
    "            for j in np.arange(0,1,0.25):\n",
    "                pic = img_crop[int(h*i):int(h*(i+1/2.)),int(w*j):int(w*(j+1/4.))]\n",
    "                pil = Image.fromarray(pic)\n",
    "                path_save = 'images_preprocessed/'+path[:-5]+str(i)+str(j)+ \".jpeg\"\n",
    "                pil.save(path_save)\n",
    "                img = image.load_img(path_save, target_size=(224, 224))\n",
    "                pic = image.img_to_array(img)\n",
    "                pic = np.expand_dims(pic, axis=0)\n",
    "                pic = preprocess_input(pic)\n",
    "                features = model_vgg19.predict(pic)\n",
    "                img16.append(img)\n",
    "                feat16.append(features)\n",
    "                \n",
    "        img_list += img16\n",
    "        feat_list += feat16"
   ]
  },
  {
   "cell_type": "code",
   "execution_count": 5,
   "metadata": {
    "collapsed": true
   },
   "outputs": [
    {
     "data": {
      "image/png": "[encoded data removed]",
      "text/plain": [
       "<PIL.Image.Image image mode=RGB size=224x224 at 0x7F8BC5ECD510>"
      ]
     },
     "execution_count": 5,
     "metadata": {},
     "output_type": "execute_result"
    }
   ],
   "source": [
    "i = 50\n",
    "img_list[i]\n"
   ]
  },
  {
   "cell_type": "code",
   "execution_count": 7,
   "metadata": {
    "collapsed": true
   },
   "outputs": [],
   "source": [
    "feat_list = [x.reshape(4096) for x in feat_list]\n",
    "image_vectors = tools.encode_images(model, feat_list)\n",
    "image_vectors_f30k = tools.encode_images(model_f30k, feat_list)"
   ]
  },
  {
   "cell_type": "markdown",
   "metadata": {},
   "source": [
    "#### Берем топ-частотных слов"
   ]
  },
  {
   "cell_type": "code",
   "execution_count": 8,
   "metadata": {},
   "outputs": [
    {
     "name": "stdout",
     "output_type": "stream",
     "text": [
      "1\n",
      "1\n"
     ]
    }
   ],
   "source": [
    "#words = pd.read_csv('words/4k_word_list.txt', sep = ',', header = -1)[0]\n",
    "words = pd.read_csv('words/top1000_words.txt', sep = ',', header = -1).T[0]\n",
    "words = np.array([x.replace(' ', '') for x in words])\n",
    "words_vectors = tools.encode_sentences(model, words, verbose=True)\n",
    "words_vectors_f30k = tools.encode_sentences(model_f30k, words, verbose=True)"
   ]
  },
  {
   "cell_type": "markdown",
   "metadata": {},
   "source": [
    "#### Сохраняем представления для картинок в имаджинариуме и слов"
   ]
  },
  {
   "cell_type": "code",
   "execution_count": 10,
   "metadata": {
    "collapsed": true
   },
   "outputs": [],
   "source": [
    "import pickle\n",
    "with open('preprocessed_data/words_coco_vectors.pickle', 'wb') as f:\n",
    "    pickle.dump(words_vectors, f)\n",
    "with open('preprocessed_data/image_coco_vectors.pickle', 'wb') as f:\n",
    "    pickle.dump(image_vectors, f)"
   ]
  },
  {
   "cell_type": "markdown",
   "metadata": {
    "collapsed": true
   },
   "source": [
    "##### Ищем ближайшие k слова к картинке, а потом смотрим, встретилась ли в топе близких к этим словам k картинкам, исходная картинка"
   ]
  },
  {
   "cell_type": "code",
   "execution_count": null,
   "metadata": {
    "collapsed": true
   },
   "outputs": [],
   "source": [
    "tmp_is_pic_near_pic = []\n",
    "k_range = [5,10]\n",
    "k_mean = []\n",
    "for k in k_range:\n",
    "    print k\n",
    "    for ind_pic in range(len(img_list)):\n",
    "        ind_pic = 0\n",
    "        mse_picture = np.array([mean_squared_error(image_vectors[ind_pic], x)\n",
    "                                for x in words_vectors])\n",
    "        idx_words = np.argpartition(mse_picture, k)\n",
    "        is_pic_near_pic = []\n",
    "        for ind_word in list(idx_words[:k]):\n",
    "            mse_words = np.array([mean_squared_error(words_vectors_f30k[ind_word], x)\n",
    "                                for x in image_vectors_f30k])\n",
    "            idx_images = np.argpartition(mse_words, k)[:k]\n",
    "            tmp_is_pic_near_pic.append(ind_pic in idx_images)\n",
    "        is_pic_near_pic = np.mean(tmp_is_pic_near_pic)\n",
    "    k_mean.append(np.mean(tmp_is_pic_near_pic))"
   ]
  },
  {
   "cell_type": "code",
   "execution_count": null,
   "metadata": {
    "collapsed": true
   },
   "outputs": [],
   "source": [
    "plt.plot(k_range, k_mean)\n",
    "plt.title('The proportion of images meet in the top-k images \\n for the nearest top-k words \\n images-words - f30k, words-images -coco')\n",
    "plt.xlabel('k')\n",
    "plt.ylabel('Proportion')\n",
    "plt.show()\n"
   ]
  },
  {
   "cell_type": "markdown",
   "metadata": {},
   "source": [
    "### Пишем сетку"
   ]
  },
  {
   "cell_type": "markdown",
   "metadata": {},
   "source": [
    "Берем 5 случайных картинок, из них выбираем одну\n",
    "\n",
    "1) y - ohe номера картинки. \n",
    "\n",
    "2) X1 -  расстояние от картинки до топ 5 слов( часть речи, длина этих слов, сколько раз эти слова встречаются в топ-5 других картинок)\n",
    "\n",
    "3) X2 - расстояние от полученного среднего вектора слов до 5 картинок, сколько раз картинки встречаются в топ-5 этих слов\n",
    "\n",
    "4) Лосс - логлосс при обучении 2 игрока, при обучении 1 игрока - 1.5*p*(1-p)*(1-p) + p*p*(1-p)*1.5\n",
    "\n",
    "\n"
   ]
  },
  {
   "cell_type": "markdown",
   "metadata": {},
   "source": [
    "### Строим модель"
   ]
  },
  {
   "cell_type": "markdown",
   "metadata": {},
   "source": [
    "Матрица, в какой доле картинок слово в топ-5, расстояния от картинкок до слов"
   ]
  },
  {
   "cell_type": "code",
   "execution_count": null,
   "metadata": {
    "collapsed": true
   },
   "outputs": [],
   "source": [
    "k = 10\n",
    "idx_images_array = []\n",
    "mse_images_array = []\n",
    "mse_images_top_array = []\n",
    "for i in range(len(words_vectors)):\n",
    "    mse_words = np.array([mean_squared_error(words_vectors[i], x)\n",
    "                                    for x in image_vectors])\n",
    "    idx_images = np.argpartition(mse_words, k)[:k]\n",
    "    idx_images_array.append([1 if x in idx_images else 0 for x in range(len(mse_words))])\n",
    "    mse_images_array.append(mse_words)\n",
    "    mse_images_top_array.append(mse_words[idx_images])\n",
    "idx_images_array = np.array(idx_images_array)\n",
    "mse_images_array = np.array(mse_images_array)\n",
    "mse_images_top_array = np.array(mse_images_top_array)"
   ]
  },
  {
   "cell_type": "code",
   "execution_count": null,
   "metadata": {
    "collapsed": true
   },
   "outputs": [],
   "source": [
    "idx_images_array"
   ]
  },
  {
   "cell_type": "code",
   "execution_count": null,
   "metadata": {
    "collapsed": true
   },
   "outputs": [],
   "source": [
    "i = 106\n",
    "words[i]"
   ]
  },
  {
   "cell_type": "code",
   "execution_count": null,
   "metadata": {
    "collapsed": true
   },
   "outputs": [],
   "source": [
    "idx_images_array1 = np.array([mean_squared_error(words_vectors[i], x)\n",
    "                                    for x in image_vectors])\n",
    "ind = np.argpartition(idx_images_array1, k)[:k]\n",
    "img_list[ind[0]]"
   ]
  },
  {
   "cell_type": "code",
   "execution_count": null,
   "metadata": {
    "collapsed": true
   },
   "outputs": [],
   "source": [
    "norm_idx_images_array = idx_images_array.sum(axis = 0) / float(idx_images_array.sum())"
   ]
  },
  {
   "cell_type": "markdown",
   "metadata": {},
   "source": [
    "Матрица, в какой доле слов, эта картинка в топ-5"
   ]
  },
  {
   "cell_type": "code",
   "execution_count": null,
   "metadata": {
    "collapsed": true
   },
   "outputs": [],
   "source": [
    "k = 10\n",
    "idx_words_array = []\n",
    "mse_words_array = []\n",
    "mse_words_top_array = []\n",
    "for i in range(len(image_vectors)):\n",
    "    mse_words = np.array([mean_squared_error(image_vectors[i], x)\n",
    "                                    for x in words_vectors])\n",
    "    idx_words = np.argpartition(mse_words, k)[:k]\n",
    "    idx_words_array.append([1 if x in idx_words else 0 for x in range(len(mse_words))])\n",
    "    mse_words_array.append(mse_words)\n",
    "    mse_words_top_array.append(mse_words[idx_words])\n",
    "idx_words_array = np.array(idx_words_array)\n",
    "mse_words_array = np.array(mse_words_array)\n",
    "mse_words_top_array = np.array(mse_words_top_array)"
   ]
  },
  {
   "cell_type": "code",
   "execution_count": null,
   "metadata": {
    "collapsed": true
   },
   "outputs": [],
   "source": [
    "np.where(idx_words_array[0]==1)"
   ]
  },
  {
   "cell_type": "code",
   "execution_count": null,
   "metadata": {
    "collapsed": true
   },
   "outputs": [],
   "source": [
    "norm_idx_words_array = idx_words_array.sum(axis = 0) / float(idx_words_array.sum())"
   ]
  },
  {
   "cell_type": "markdown",
   "metadata": {},
   "source": [
    "### Обучающая выборка"
   ]
  },
  {
   "cell_type": "code",
   "execution_count": null,
   "metadata": {
    "collapsed": true
   },
   "outputs": [],
   "source": [
    "X_ind, y_ind, y, X1 = [], [], [], []\n",
    "X_img_freq = []\n",
    "num_samples = 100000\n",
    "k = 10\n",
    "for i in range(num_samples):\n",
    "    X_ind.append(np.array(sample(range(1,len(img_list)), k)))\n",
    "    y_ind.append(sample(X_ind[i], 1))\n",
    "    y.append(np.array([1 if x==y_ind[i] else 0 for x in X_ind[i]]))\n",
    "    dist_words = mse_words_top_array[y_ind[i]]\n",
    "    freq_word = norm_idx_words_array[np.where(idx_words_array[0]==1)]\n",
    "    X1.append(np.concatenate([dist_words.reshape(k,1), freq_word.reshape(k,1)], axis = 1))\n",
    "    freq_image = norm_idx_images_array[np.where(idx_images_array[0]==1)]\n",
    "    X_img_freq.append(freq_word)"
   ]
  },
  {
   "cell_type": "code",
   "execution_count": null,
   "metadata": {
    "collapsed": true
   },
   "outputs": [],
   "source": [
    "idx_images_array"
   ]
  },
  {
   "cell_type": "code",
   "execution_count": null,
   "metadata": {
    "collapsed": true
   },
   "outputs": [],
   "source": [
    "X2 = image_vectors[X_ind].reshape(num_samples,1024,k)\n",
    "X1 = np.array(X1).reshape(num_samples,2,k)\n",
    "y = np.array(y).reshape(num_samples,1,k)\n",
    "X3 = X2.reshape(num_samples,k,1024)\n",
    "X30 = X3[:,0,:].reshape(num_samples,1024)\n",
    "X31 = X3[:,1,:].reshape(num_samples,1024)\n",
    "X_img_freq = np.array(X_img_freq)"
   ]
  },
  {
   "cell_type": "markdown",
   "metadata": {},
   "source": [
    "### Сетка, которая пока просто подбирает идеальное слово под случайно выбранную картинку для 1 агента,  а потом 2 агент просто выбирает ближайшее слово (или учит как выбирать dense слоем (тоже такой штраф за небанальность))"
   ]
  },
  {
   "cell_type": "code",
   "execution_count": 9,
   "metadata": {
    "collapsed": true
   },
   "outputs": [],
   "source": [
    "def mean_squared_error_keras(y_true, y_pred):\n",
    "    return K.mean(K.square(y_pred - y_true), axis=2)\n",
    "k = 10\n",
    "from keras.models import Model\n",
    "import keras.backend as K\n",
    "from keras.layers import Conv1D,Activation, Reshape, Conv2D,Input, Dense, dot, multiply, add, concatenate, Lambda"
   ]
  },
  {
   "cell_type": "code",
   "execution_count": 10,
   "metadata": {
    "collapsed": true
   },
   "outputs": [],
   "source": [
    "\n",
    "# Сетка, которая пока просто подбирает идеальное слово под случайно выбранную картинку для 1 агента, \n",
    "# а потом 2 агент просто выбирает ближайшее слово\n",
    "\n",
    "# Входы 10 ближайших пар, заранее сгенерированные расстояния между ближайшими словами и картинками, и частоту топ 10 \n",
    "# близости каждого слова к ближайшим 10 картинкам\n",
    "inputs1 = Input(shape=(2,k))\n",
    "# Эмбеддинги для слов\n",
    "inputs2 = Input(shape=(1024,k))\n",
    "inputs21 = Input(shape=(k,1024))\n",
    "# OHE-вектор, какое слово было истинным\n",
    "inputs3 = Input(shape=(1,k))\n",
    "#  Учим свертку, которая делает штраф-поощрения за банальность (дистанция между словами, попсовость слов)\n",
    "# На выходе получили веса для каждого слова\n",
    "conv1d = Conv1D(k, (2), activation='softmax', padding = 'valid')(inputs1)\n",
    "#predictions = Dense(5, activation='softmax')(conv1d)\n",
    "# усредняем слова с весами, выученными сверткой\n",
    "merge_layer = multiply([conv1d, inputs2])\n",
    "# делаем повтор, чтобы потом считать новые минимальные дистанции\n",
    "sum_layer = Lambda(lambda x: K.repeat(K.sum(x, axis = 2), k), output_shape=(1024, k))(merge_layer)\n",
    "\n",
    "# считаем разницу между полученными средними одного и другого\n",
    "distance_layer = Lambda(lambda x: mean_squared_error_keras(x[0], x[1]),\n",
    "                        output_shape=(1,k))([inputs21, sum_layer])\n",
    "\n",
    "#features_img = concatenate([distance_layer, inputs3], axis = 1)\n",
    "#output = Conv1D(5, (2), activation='softmax', padding = 'valid')(features_img)\n",
    "\n",
    "# Выбираем правильный ответ (аналог агента)\n",
    "output = Dense(k, activation='softmax')(distance_layer)\n",
    "\n",
    "#подбираем картинки\n",
    "model_keras = Model(inputs=[inputs1, inputs2, inputs21], outputs=output)\n",
    "model_keras.compile(optimizer='rmsprop',\n",
    "              loss='categorical_crossentropy',\n",
    "              metrics=['accuracy'])\n",
    "\n",
    "\n",
    "\n"
   ]
  },
  {
   "cell_type": "raw",
   "metadata": {
    "collapsed": true
   },
   "source": [
    "model_keras.fit([X1, X2, X2.reshape(num_samples, k,1024)],y, epochs = 10, \n",
    "                verbose = True, batch_size = 500, )"
   ]
  },
  {
   "cell_type": "markdown",
   "metadata": {},
   "source": [
    "#### Отрисовать сетку"
   ]
  },
  {
   "cell_type": "code",
   "execution_count": null,
   "metadata": {
    "collapsed": true
   },
   "outputs": [],
   "source": [
    "from keras.utils import plot_model\n",
    "plot_model(model_hard, to_file='model_hard.png')\n",
    "\n",
    "from IPython.display import SVG\n",
    "from keras.utils.vis_utils import model_to_dot\n",
    "\n",
    "SVG(model_to_dot(model_keras).create(prog='dot', format='svg' ))\n"
   ]
  },
  {
   "cell_type": "markdown",
   "metadata": {},
   "source": [
    "### Сетка, которая доучивает еще dense слой к эмбеддингам"
   ]
  },
  {
   "cell_type": "markdown",
   "metadata": {},
   "source": [
    "#### Обучающая выборка 2 (Сделать генератор)"
   ]
  },
  {
   "cell_type": "raw",
   "metadata": {
    "collapsed": true
   },
   "source": [
    "# Датасет - подготавливаем наборы из 10 картинок , выбираем из них случайно одну\n",
    "num_samples = 2000\n",
    "k = 10\n",
    "num_words = 998\n",
    "X_images = []\n",
    "y_true_image = []\n",
    "for i in range(num_samples):\n",
    "    img = np.array(sample(range(1,len(img_list)), k))\n",
    "    X_images.append(img)\n",
    "    true_image = sample(img, 1)\n",
    "    y_true_image.append(np.array([1 if x==true_image else 0 for x in X_images[i]]))\n",
    "# Эмбеддинги для всех картинок\n",
    "X_images = image_vectors[X_images].reshape(num_samples,1024,k)\n",
    "# Эмбеддинги для правильной картинки, размноженные 10 раз\n",
    "t =np.array(X_images)[:,:,np.argmax(y_true_image)]\n",
    "X_true_img = np.repeat(t.reshape(t.shape[0],t.shape[1],1),num_words,axis =2).reshape(num_samples, num_words, 1024)\n",
    "# Эмбеддинги для всех текстов\n",
    "X_all_texts = np.repeat(words_vectors.reshape(1, num_words, 1024),num_samples, axis = 0 )\n",
    "# Решейплю\n",
    "X_images = X_images.reshape(num_samples, k,1024)\n",
    "# Ответы\n",
    "y_true_image = np.array(y_true_image).reshape(num_samples,1, k)"
   ]
  },
  {
   "cell_type": "markdown",
   "metadata": {
    "collapsed": true
   },
   "source": [
    "### Генератор"
   ]
  },
  {
   "cell_type": "code",
   "execution_count": 11,
   "metadata": {
    "collapsed": true
   },
   "outputs": [],
   "source": [
    "# Сэмплируем случайные k векторов\n",
    "def generate_arrays_from_file(image_vectors,words_vectors, num_samples = 50, k = 10, num_words = 998):\n",
    "    while 1:\n",
    "        X_images = []\n",
    "        y_true_image = []\n",
    "        for i in range(num_samples):\n",
    "            img = np.array(sample(range(1,len(image_vectors)), k))\n",
    "            X_images.append(img)\n",
    "            true_image = sample(img, 1)\n",
    "            y_true_image.append(np.array([1 if x==true_image else 0 for x in X_images[i]]))\n",
    "        # Эмбеддинги для всех картинок\n",
    "        X_images = image_vectors[X_images].reshape(num_samples,1024,k)\n",
    "        # Эмбеддинги для правильной картинки, размноженные 10 раз\n",
    "        t =np.array(X_images)[:,:,np.argmax(y_true_image)]\n",
    "        X_true_img = np.repeat(t.reshape(t.shape[0],t.shape[1],1),num_words,axis =2).reshape(num_samples, num_words, 1024)\n",
    "        # Эмбеддинги для всех текстов\n",
    "        X_all_texts = np.repeat(words_vectors.reshape(1, num_words, 1024),num_samples, axis = 0 )\n",
    "        # Решейплю\n",
    "        X_images = X_images.reshape(num_samples, k,1024)\n",
    "        # Ответы\n",
    "        y_true_image = np.array(y_true_image).reshape(num_samples,1, k)\n",
    "        yield ([X_images, X_true_img, X_all_texts], y_true_image)\n",
    "    #for i in range(0, len(X), batch_size):\n",
    "    #    x = generator_w2vec.generator(X[i:i+batch_size])\n",
    "    #    y_r = y[i:i+batch_size,:]\n",
    "    #    yield ([x[0], x[1].reshape(batch_size, 50, 300)], y_r)\n",
    "   "
   ]
  },
  {
   "cell_type": "markdown",
   "metadata": {},
   "source": [
    "### Сетка"
   ]
  },
  {
   "cell_type": "code",
   "execution_count": 12,
   "metadata": {
    "collapsed": true
   },
   "outputs": [],
   "source": [
    "emb_dim = 100\n",
    "k = 10\n",
    "num_words = 998\n",
    "# Вектора для k картинок\n",
    "X_images_net = Input(shape=(k,1024), name = 'X_images_net')\n",
    "# Вектор для правильной картинки, размноженной 1000 раз - по количеству слов\n",
    "X_image_true_net = Input(shape=(num_words, 1024), name = 'X_image_true_net')\n",
    "# Вектора для всех слов\n",
    "X_text_all_net = Input(shape = (num_words, 1024), name = 'X_text_all_net')\n",
    "# Вектор для того, какая картинка была авторской\n",
    "y_true_image_net = Input(shape=(1,k), name = 'y_true_image_net')\n",
    "\n",
    "conv_img_words2 = Dense(100, activation = 'softmax', name = 'dense_img_words2')\n",
    "# Эмбеддинги для правильной картинки (размноженной по числу слов)\n",
    "image_net2 = conv_img_words2(X_image_true_net)\n",
    "# Эмбединги для слов\n",
    "word_net2 = conv_img_words2(X_text_all_net)\n",
    "# Считаю расстояния от картинки до текста, представляю картинку как взвешенную сумму слов\n",
    "distance_layer2 = Lambda(lambda x: mean_squared_error_keras(x[0], x[1]),\n",
    "                        output_shape=(1,num_words), name = 'distance_layer2')([image_net2, word_net2])\n",
    "weights_for_words2 = Dense(num_words, activation='softmax', name = 'weights_for_words2')(distance_layer2)\n",
    "# Меняем форму слоев, чтобы их перемножить\n",
    "weights_for_words2_resh = Reshape((1,num_words), name = 'weights_for_words2_resh')(weights_for_words2)\n",
    "word_net2_resh = Reshape((emb_dim,num_words), name = 'word_net2_resh')(word_net2)\n",
    "# Перемножаем\n",
    "merge_layer2 = multiply([weights_for_words2_resh, word_net2_resh], name = 'merge_layer2')\n",
    "# Усредняем, получаем вектор для финального слова\n",
    "sum_layer2 = Lambda(lambda x: K.sum(x, axis = 2), output_shape=(1,emb_dim), name = 'sum_layer2')(merge_layer2)\n",
    "# Обрабатываем Dense слоем k картинок\n",
    "image_all_net2 = conv_img_words2(X_images_net)\n",
    "# Размножаем вектор для финального слова\n",
    "final_word_vector_k = Lambda(lambda x: K.repeat(x, k), output_shape=(10, emb_dim),\n",
    "                             name = 'final_word_vector_k')(sum_layer2)\n",
    "# Считаем расстояния от полученного вектора слов до k картинок\n",
    "distance_layer_final = Lambda(lambda x: mean_squared_error_keras(x[0], x[1]),\n",
    "                        output_shape=(1,k),\n",
    "                              name = 'distance_layer_final')([image_all_net2, final_word_vector_k])\n",
    "# Подаем в Dense\n",
    "#output2 = Activation('softmax', name = 'output2')(distance_layer_final)\n",
    "\n",
    "output2 = Dense(k, activation = 'softmax', name = 'output2')(distance_layer_final)\n",
    "\n",
    "#подбираем картинки\n",
    "model_hard = Model(inputs=[X_images_net, X_image_true_net, X_text_all_net], outputs=output2)\n",
    "model_hard.compile(optimizer='rmsprop',\n",
    "              loss='categorical_crossentropy',\n",
    "              metrics=['accuracy'])\n",
    "\n",
    "#\n",
    "# Бейзлайн - количество угаданных слов или лосс по фиксированным image captioning эмбеддингам"
   ]
  },
  {
   "cell_type": "raw",
   "metadata": {},
   "source": [
    "model_hard.fit([X_images, X_true_img, X_all_texts],y_true_image, epochs = 5, \n",
    "                verbose = True, batch_size = 50, validation_split=0.1) \n"
   ]
  },
  {
   "cell_type": "raw",
   "metadata": {
    "collapsed": true
   },
   "source": [
    "batch_size = 200\n",
    "fun_train = generate_arrays_from_file(image_vectors,words_vectors, num_samples = 50, k = 10, num_words = 998)\n",
    "#fun_val = generate_arrays_from_file(X_val, np.array(y_val), batch_size)\n",
    "#steps = len(X_train)/batch_size\\\n",
    "steps = 20\n",
    "epochs = 1\n",
    "model_hard.fit_generator(fun_train,steps, epochs, verbose=1, shuffle = True) #validation_steps=fun_val,"
   ]
  },
  {
   "cell_type": "markdown",
   "metadata": {},
   "source": [
    "### Фитим сетку на всех картинках из coco"
   ]
  },
  {
   "cell_type": "code",
   "execution_count": 13,
   "metadata": {
    "collapsed": true
   },
   "outputs": [],
   "source": [
    "path_coco_imgs = 'data_coco_flkr/coco_test_ims.npy'\n",
    "images_coco = np.load(path_coco_imgs)\n",
    "image_vectors_coco = tools.encode_images(model, images_coco)"
   ]
  },
  {
   "cell_type": "code",
   "execution_count": 14,
   "metadata": {},
   "outputs": [
    {
     "data": {
      "text/plain": [
       "((5000, 1024), (176, 1024))"
      ]
     },
     "execution_count": 14,
     "metadata": {},
     "output_type": "execute_result"
    }
   ],
   "source": [
    "image_vectors_coco.shape, image_vectors.shape"
   ]
  },
  {
   "cell_type": "code",
   "execution_count": 16,
   "metadata": {},
   "outputs": [
    {
     "name": "stdout",
     "output_type": "stream",
     "text": [
      "Epoch 1/2\n",
      "100/100 [==============================] - 143s 1s/step - loss: 11.5121 - acc: 0.1054\n",
      "Epoch 2/2\n",
      "100/100 [==============================] - 139s 1s/step - loss: 11.5133 - acc: 0.0972\n"
     ]
    },
    {
     "data": {
      "text/plain": [
       "<keras.callbacks.History at 0x7f1d98047a50>"
      ]
     },
     "execution_count": 16,
     "metadata": {},
     "output_type": "execute_result"
    }
   ],
   "source": [
    "import keras\n",
    "batch_size = 200\n",
    "fun_train = generate_arrays_from_file(image_vectors_coco,words_vectors, num_samples = 50, k = 10, num_words = 998)\n",
    "steps = 100\n",
    "epochs = 2\n",
    "tbCallBack = keras.callbacks.TensorBoard(log_dir='Graph', histogram_freq=0,  \n",
    "          write_graph=True, write_images=True)\n",
    "#tbCallback.set_model(tbCallBack)\n",
    "\n",
    "model_hard.fit_generator(fun_train,steps, epochs, verbose=1, shuffle = True, callbacks=[tbCallBack]) #validation_steps=fun_val,"
   ]
  },
  {
   "cell_type": "code",
   "execution_count": null,
   "metadata": {
    "collapsed": true
   },
   "outputs": [],
   "source": [
    "import tensorflow as tf\n",
    "from tensorflow.python import debug as tf_debug\n",
    "import keras\n",
    "keras.backend.set_session(\n",
    "    tf_debug.TensorBoardDebugWrapperSession(tf.Session(), \"lichi.haze.yandex.net:6007\"))"
   ]
  },
  {
   "cell_type": "markdown",
   "metadata": {},
   "source": [
    "## PCA, tsne\n",
    "### Tensorbord\n",
    "#### Выбирать не случайно топ- не хабные ближе\n",
    "#### \n"
   ]
  },
  {
   "cell_type": "markdown",
   "metadata": {},
   "source": [
    "#### Проверяем, что все shapes сходятся"
   ]
  },
  {
   "cell_type": "code",
   "execution_count": null,
   "metadata": {
    "collapsed": true
   },
   "outputs": [],
   "source": [
    "X_images.shape, X_images_net"
   ]
  },
  {
   "cell_type": "code",
   "execution_count": null,
   "metadata": {
    "collapsed": true
   },
   "outputs": [],
   "source": [
    "X_true_img.shape, X_image_true_net"
   ]
  },
  {
   "cell_type": "code",
   "execution_count": null,
   "metadata": {
    "collapsed": true
   },
   "outputs": [],
   "source": [
    "X_all_texts.shape, X_text_all_net"
   ]
  },
  {
   "cell_type": "code",
   "execution_count": null,
   "metadata": {
    "collapsed": true
   },
   "outputs": [],
   "source": [
    "y_true_image.shape, output2"
   ]
  },
  {
   "cell_type": "code",
   "execution_count": null,
   "metadata": {
    "collapsed": true
   },
   "outputs": [],
   "source": []
  },
  {
   "cell_type": "markdown",
   "metadata": {},
   "source": [
    "# Черновик"
   ]
  },
  {
   "cell_type": "code",
   "execution_count": null,
   "metadata": {
    "collapsed": true
   },
   "outputs": [],
   "source": [
    "\n",
    "\n",
    "model = VGG19(weights='imagenet', include_top=False)\n",
    "\n",
    "img_path = 'images/' + path\n",
    "img = image.load_img(img_path, target_size=(500, 500))\n",
    "x = image.img_to_array(img)\n",
    "x = np.expand_dims(x, axis=0)\n",
    "x = preprocess_input(x)\n",
    "\n",
    "features = model.predict(x)"
   ]
  },
  {
   "cell_type": "markdown",
   "metadata": {},
   "source": [
    "#### Берем картинки из тестового сета"
   ]
  },
  {
   "cell_type": "code",
   "execution_count": null,
   "metadata": {
    "collapsed": true
   },
   "outputs": [],
   "source": [
    "images_coco = np.load('data_coco_flkr/coco_test_ims.npy')"
   ]
  },
  {
   "cell_type": "code",
   "execution_count": null,
   "metadata": {
    "collapsed": true
   },
   "outputs": [],
   "source": [
    "k = 400\n",
    "plt.imshow(images_coco[k].reshape(64,64,1))\n",
    "plt.show()"
   ]
  },
  {
   "cell_type": "code",
   "execution_count": null,
   "metadata": {
    "collapsed": true
   },
   "outputs": [],
   "source": [
    "\n",
    "%pylab inline\n",
    "# чуть покрасивше картинки:\n",
    "#pd.set_option('display.mpl_style', 'default')\n",
    "import warnings\n",
    "warnings.filterwarnings(\"ignore\")\n",
    "plt.rcParams['figure.figsize'] = 8, 6\n",
    "plt.rcParams['axes.grid'] = True\n",
    "pd.set_option('display.max_columns', None)\n",
    "import matplotlib.pyplot as plt\n",
    "import matplotlib as mpl\n",
    "mpl.rcParams['font.family'] = 'Ubuntu'\n",
    "plt.rc('text', usetex=False)\n",
    "plt.rc('font', family='serif')\n",
    "plt.rc('font', weight='bold')\n",
    "plt.rc('xtick', labelsize=10) \n",
    "plt.rc('ytick', labelsize=10)\n",
    "# чтобы был русский шрифт\n",
    "from matplotlib import rc\n",
    "font = {'family': 'Verdana',\n",
    "        'weight': 'normal'}\n",
    "rc('font', **font)\n",
    "\n"
   ]
  },
  {
   "cell_type": "code",
   "execution_count": null,
   "metadata": {
    "collapsed": true
   },
   "outputs": [],
   "source": []
  }
 ],
 "metadata": {
  "kernelspec": {
   "display_name": "Python 2",
   "language": "python",
   "name": "python2"
  },
  "language_info": {
   "codemirror_mode": {
    "name": "ipython",
    "version": 2
   },
   "file_extension": ".py",
   "mimetype": "text/x-python",
   "name": "python",
   "nbconvert_exporter": "python",
   "pygments_lexer": "ipython2",
   "version": "2.7.6"
  }
 },
 "nbformat": 4,
 "nbformat_minor": 2
}
