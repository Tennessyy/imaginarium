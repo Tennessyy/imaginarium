{
 "cells": [
  {
   "cell_type": "raw",
   "metadata": {},
   "source": [
    "!wget http://www.cs.toronto.edu/~rkiros/datasets/f8k.zip\n",
    "!wget http://www.cs.toronto.edu/~rkiros/datasets/f30k.zip\n",
    "!wget http://www.cs.toronto.edu/~rkiros/datasets/coco.zip\n",
    "!wget http://www.cs.toronto.edu/~rkiros/models/vse.zip\n",
    "!git clone https://github.com/ryankiros/visual-semantic-embedding.git\n",
    "!git clone https://github.com/fchollet/deep-learning-models.git"
   ]
  },
  {
   "cell_type": "code",
   "execution_count": 1,
   "metadata": {},
   "outputs": [
    {
     "name": "stderr",
     "output_type": "stream",
     "text": [
      "/usr/local/lib/python2.7/dist-packages/h5py/__init__.py:36: FutureWarning: Conversion of the second argument of issubdtype from `float` to `np.floating` is deprecated. In future, it will be treated as `np.float64 == np.dtype(float).type`.\n",
      "  from ._conv import register_converters as _register_converters\n",
      "Using TensorFlow backend.\n"
     ]
    }
   ],
   "source": [
    "import pandas as pd\n",
    "import numpy as np\n",
    "import pickle\n",
    "import os\n",
    "os.chdir('/home/lichi/jupiter/imaginarium')\n",
    "\n",
    "from random import sample\n",
    "from PIL import Image\n",
    "from keras.applications.vgg19 import VGG19\n",
    "from keras.models import Model\n",
    "from keras.preprocessing import image\n",
    "from keras.applications.imagenet_utils import preprocess_input\n",
    "from keras.models import Model\n",
    "import keras.backend as K\n",
    "from keras.layers import Conv1D,Activation, Reshape, Conv2D,Input, Dense, dot, multiply, add, concatenate, Lambda\n",
    "\n",
    "import matplotlib.pyplot as plt\n",
    "import matplotlib.image as mpimg\n",
    "from sklearn.metrics import mean_squared_error\n",
    "\n",
    "from visual import tools, evaluation"
   ]
  },
  {
   "cell_type": "code",
   "execution_count": 2,
   "metadata": {
    "collapsed": true
   },
   "outputs": [],
   "source": [
    "with open('preprocessed_data/words_coco_vectors.pickle', 'rb') as f:\n",
    "    words_vectors = pickle.load( f)\n",
    "with open('preprocessed_data/image_coco_vectors.pickle', 'rb') as f:\n",
    "    image_vectors = pickle.load( f)"
   ]
  },
  {
   "cell_type": "code",
   "execution_count": 4,
   "metadata": {
    "collapsed": true
   },
   "outputs": [],
   "source": [
    "# Сэмплируем случайные k векторов\n",
    "def generate_arrays_from_file(image_vectors,words_vectors, num_samples = 50, k = 10, num_words = 998):\n",
    "    while 1:\n",
    "        X_images = []\n",
    "        y_true_image = []\n",
    "        for i in range(num_samples):\n",
    "            img = np.array(sample(range(1,len(image_vectors)), k))\n",
    "            X_images.append(img)\n",
    "            true_image = sample(img, 1)\n",
    "            y_true_image.append(np.array([1 if x==true_image else 0 for x in X_images[i]]))\n",
    "        # Эмбеддинги для всех картинок\n",
    "        X_images = image_vectors[X_images].reshape(num_samples,1024,k)\n",
    "        # Эмбеддинги для правильной картинки, размноженные 10 раз\n",
    "        t =np.array(X_images)[:,:,np.argmax(y_true_image)]\n",
    "        X_true_img = np.repeat(t.reshape(t.shape[0],t.shape[1],1),\n",
    "                               num_words,axis =2).reshape(num_samples, num_words, 1024)\n",
    "        # Эмбеддинги для всех текстов\n",
    "        X_all_texts = np.repeat(words_vectors.reshape(1, num_words, 1024),num_samples, axis = 0 )\n",
    "        # Решейплю\n",
    "        X_images = X_images.reshape(num_samples, k,1024)\n",
    "        # Ответы\n",
    "        y_true_image = np.array(y_true_image).reshape(num_samples,1, k)\n",
    "        yield ([X_images, X_true_img, X_all_texts], y_true_image)\n",
    "   "
   ]
  },
  {
   "cell_type": "markdown",
   "metadata": {},
   "source": [
    "### Выборка"
   ]
  },
  {
   "cell_type": "code",
   "execution_count": 6,
   "metadata": {},
   "outputs": [],
   "source": [
    "# Датасет - подготавливаем наборы из 10 картинок , выбираем из них случайно одну\n",
    "num_samples = 100\n",
    "k = 10\n",
    "num_words = 998\n",
    "X_images = []\n",
    "y_true_image = []\n",
    "for i in range(num_samples):\n",
    "    img = np.array(sample(range(1,len(image_vectors)), k))\n",
    "    X_images.append(img)\n",
    "    true_image = sample(img, 1)\n",
    "    y_true_image.append(np.array([1 if x==true_image else 0 for x in X_images[i]]))\n",
    "# Эмбеддинги для всех картинок\n",
    "X_images = image_vectors[X_images].reshape(num_samples,1024,k)\n",
    "# Эмбеддинги для правильной картинки, размноженные 10 раз\n",
    "t =np.array(X_images)[:,:,np.argmax(y_true_image)]\n",
    "X_true_img = np.repeat(t.reshape(t.shape[0],t.shape[1],1),num_words,axis =2).reshape(num_samples, num_words, 1024)\n",
    "# Эмбеддинги для всех текстов\n",
    "X_all_texts = np.repeat(words_vectors.reshape(1, num_words, 1024),num_samples, axis = 0 )\n",
    "# Решейплю\n",
    "X_images = X_images.reshape(num_samples, k,1024)\n",
    "# Ответы\n",
    "y_true_image = np.array(y_true_image).reshape(num_samples,1, k)\n",
    "\n",
    "#model_hard.fit([X_images, X_true_img, X_all_texts],y_true_image, epochs = 10, \n",
    "#                verbose = True, batch_size = 50, validation_split=0.1) \n"
   ]
  },
  {
   "cell_type": "markdown",
   "metadata": {
    "collapsed": true
   },
   "source": [
    "### Генератор"
   ]
  },
  {
   "cell_type": "code",
   "execution_count": 7,
   "metadata": {
    "collapsed": true
   },
   "outputs": [],
   "source": [
    "def mean_squared_error_keras(y_true, y_pred):\n",
    "    return K.mean(K.square(y_pred - y_true), axis=2)\n",
    "k = 10"
   ]
  },
  {
   "cell_type": "raw",
   "metadata": {},
   "source": [
    "import tensorflow as tf\n",
    "def mean_squared_error_keras(y_true, y_pred):\n",
    "    return K.mean(K.cos(y_pred - y_true), axis=2)\n",
    "k = 10"
   ]
  },
  {
   "cell_type": "markdown",
   "metadata": {},
   "source": [
    "### Сетка"
   ]
  },
  {
   "cell_type": "code",
   "execution_count": 22,
   "metadata": {},
   "outputs": [],
   "source": [
    "emb_dim = 100\n",
    "k = 10\n",
    "num_words = 998\n",
    "# Вектора для k картинок\n",
    "X_images_net = Input(shape=(k,1024), name = 'X_images_net')\n",
    "\n",
    "# Вектор для правильной картинки, размноженной 1000 раз - по количеству слов\n",
    "X_image_true_net = Input(shape=(num_words, 1024), name = 'X_image_true_net')\n",
    "\n",
    "# Вектора для всех слов\n",
    "X_text_all_net = Input(shape = (num_words, 1024), name = 'X_text_all_net')\n",
    "\n",
    "# Вектор для того, какая картинка была авторской\n",
    "y_true_image_net = Input(shape=(1,k), name = 'y_true_image_net')\n",
    "\n",
    "conv_img_words2 = Dense(100, name = 'dense_img_words2')\n",
    "\n",
    "# Эмбеддинги для правильной картинки (размноженной по числу слов)\n",
    "image_net2 = conv_img_words2(X_image_true_net)\n",
    "# Эмбединги для слов\n",
    "word_net2 = conv_img_words2(X_text_all_net)\n",
    "\n",
    "# Обрабатываем Dense слоем k картинок\n",
    "image_all_net2 = conv_img_words2(X_images_net)\n",
    "\n",
    "# Считаю расстояния от картинки до текста, представляю картинку как взвешенную сумму слов\n",
    "distance_layer2 = Lambda(lambda x: mean_squared_error_keras(x[0], x[1]),\n",
    "                        output_shape=(1,num_words), name = 'distance_layer2')([image_net2, word_net2])\n",
    "weights_for_words2 = Activation('softmax',name = 'weights_for_words2')(distance_layer2)\n",
    "\n",
    "# Меняем форму слоев, чтобы их перемножить\n",
    "weights_for_words2_resh = Reshape((num_words, 1), name = 'weights_for_words2_resh')(weights_for_words2)\n",
    "#word_net2_resh = Reshape((emb_dim,num_words), name = 'word_net2_resh')(word_net2)\n",
    "\n",
    "\n",
    "\n",
    "# Перемножаем\n",
    "merge_layer2 = multiply([word_net2, weights_for_words2_resh ],  name = 'merge_layer2')\n",
    "\n",
    "# Усредняем, получаем вектор для финального слова\n",
    "sum_layer2 = Lambda(lambda x: K.sum(x, axis = 1), output_shape=(1,emb_dim), name = 'sum_layer2')(merge_layer2)\n",
    "\n",
    "# Размножаем вектор для финального слова\n",
    "final_word_vector_k = Lambda(lambda x: K.repeat(x, k), output_shape=(10, emb_dim),\n",
    "                             name = 'final_word_vector_k')(sum_layer2)\n",
    "\n",
    "# Считаем расстояния от полученного вектора слов до k картинок\n",
    "distance_layer_final = Lambda(lambda x: mean_squared_error_keras(x[0], x[1]),\n",
    "                        output_shape=(1,k),\n",
    "                              name = 'distance_layer_final')([image_all_net2, final_word_vector_k])\n",
    "# Подаем в Dense\n",
    "#output2 = Activation('softmax', name = 'output2')(distance_layer_final)\n",
    "\n",
    "overfit_layer = Dense(1000, activation = 'relu', name = 'overfit_layer')(distance_layer_final)\n",
    "\n",
    "output2 = Dense(k, activation = 'softmax', name = 'output2')(overfit_layer)\n",
    "\n",
    "#подбираем картинки\n",
    "model_hard = Model(inputs=[X_images_net, X_image_true_net, X_text_all_net], outputs=output2)\n",
    "model_hard.compile(optimizer='adam',\n",
    "              loss='categorical_crossentropy',\n",
    "              metrics=['accuracy'])\n",
    "\n",
    "#\n",
    "# Бейзлайн - количество угаданных слов или лосс по фиксированным image captioning эмбеддингам"
   ]
  },
  {
   "cell_type": "code",
   "execution_count": 23,
   "metadata": {},
   "outputs": [
    {
     "data": {
      "text/plain": [
       "<tf.Tensor 'distance_layer_final_5/Mean:0' shape=(?, 10) dtype=float32>"
      ]
     },
     "execution_count": 23,
     "metadata": {},
     "output_type": "execute_result"
    }
   ],
   "source": [
    "distance_layer_final"
   ]
  },
  {
   "cell_type": "code",
   "execution_count": 24,
   "metadata": {
    "scrolled": false
   },
   "outputs": [
    {
     "name": "stdout",
     "output_type": "stream",
     "text": [
      "Epoch 1/1\n",
      "10/10 [==============================] - 15s 2s/step - loss: 11.5155 - acc: 0.1009\n"
     ]
    },
    {
     "data": {
      "text/plain": [
       "<keras.callbacks.History at 0x7f1dd91ea410>"
      ]
     },
     "execution_count": 24,
     "metadata": {},
     "output_type": "execute_result"
    }
   ],
   "source": [
    "batch_size = 200\n",
    "fun_train = generate_arrays_from_file(image_vectors,words_vectors, num_samples = 50, k = 10, num_words = 998)\n",
    "#fun_val = generate_arrays_from_file(X_val, np.array(y_val), batch_size)\n",
    "#steps = len(X_train)/batch_size\\\n",
    "steps = 10\n",
    "\n",
    "epochs = 1\n",
    "model_hard.fit_generator(fun_train,steps, epochs, verbose=1, shuffle = True) #validation_steps=fun_val,"
   ]
  },
  {
   "cell_type": "markdown",
   "metadata": {},
   "source": [
    "### Строю графики промежуточных слоев сетки"
   ]
  },
  {
   "cell_type": "code",
   "execution_count": 25,
   "metadata": {},
   "outputs": [],
   "source": [
    "from keras import models \n",
    "distance_picture_words = models.Model(inputs=model_hard.input,\n",
    "                                 outputs=model_hard.get_layer('distance_layer2').output)\n",
    "#intermediate_layer_model1 = models.Model(inputs=model_hard.input,\n",
    "#                                 outputs=model_hard.get_layer('dense_img_words2').get_output_at(0))\n",
    "denselayer_words = models.Model(inputs=model_hard.input,\n",
    "                                 outputs=model_hard.get_layer('dense_img_words2').get_output_at(0))\n",
    "denselayer_images = models.Model(inputs=model_hard.input,\n",
    "                                 outputs=model_hard.get_layer('dense_img_words2').get_output_at(1))\n",
    "merge_layer2 = models.Model(inputs=model_hard.input,\n",
    "                                 outputs=model_hard.get_layer('merge_layer2').output)"
   ]
  },
  {
   "cell_type": "code",
   "execution_count": 26,
   "metadata": {},
   "outputs": [],
   "source": [
    "n = 30\n",
    "weights_words = distance_picture_words.predict([X_images[:n], X_true_img[:n], X_all_texts[:n]])\n",
    "image_net2 = denselayer_images.predict([X_images[:n], X_true_img[:n], X_all_texts[:n]])\n",
    "word_net2 = denselayer_words.predict([X_images[:n], X_true_img[:n], X_all_texts[:n]])\n",
    "merge_test = merge_layer2.predict([X_images[:n], X_true_img[:n], X_all_texts[:n]])"
   ]
  },
  {
   "cell_type": "markdown",
   "metadata": {},
   "source": [
    "Проверяем, правильно ли считается среднеквадратичная ошибка между словами и картинками, чтобы сделать финальный вектор слова"
   ]
  },
  {
   "cell_type": "code",
   "execution_count": 27,
   "metadata": {},
   "outputs": [],
   "source": [
    "assert np.round(weights_words[0][0],5) == np.round(mean_squared_error(image_net2[0][0], word_net2[0][0]),5)"
   ]
  },
  {
   "cell_type": "markdown",
   "metadata": {},
   "source": [
    "Проверяем, правильно ли перемножаем слова с весами"
   ]
  },
  {
   "cell_type": "code",
   "execution_count": 28,
   "metadata": {},
   "outputs": [],
   "source": [
    "assert (word_net2[0][0]*weights_words[0][0]).shape[0] == 100"
   ]
  },
  {
   "cell_type": "code",
   "execution_count": 29,
   "metadata": {},
   "outputs": [
    {
     "ename": "AssertionError",
     "evalue": "",
     "output_type": "error",
     "traceback": [
      "\u001b[0;31m---------------------------------------------------------------------------\u001b[0m",
      "\u001b[0;31mAssertionError\u001b[0m                            Traceback (most recent call last)",
      "\u001b[0;32m<ipython-input-29-c0b889fb86e8>\u001b[0m in \u001b[0;36m<module>\u001b[0;34m()\u001b[0m\n\u001b[1;32m      1\u001b[0m assert (np.round(merge_test[0][0],5)\n\u001b[0;32m----> 2\u001b[0;31m         ==np.round(word_net2[0][0]*weights_words[0][0], 5)).all()\n\u001b[0m",
      "\u001b[0;31mAssertionError\u001b[0m: "
     ]
    }
   ],
   "source": [
    "assert (np.round(merge_test[0][0],5)\n",
    "        ==np.round(word_net2[0][0]*weights_words[0][0], 5)).all()"
   ]
  },
  {
   "cell_type": "code",
   "execution_count": 30,
   "metadata": {},
   "outputs": [
    {
     "data": {
      "text/plain": [
       "array([-3.68482233e-06,  7.95736014e-06,  2.63404286e-06,  6.68968323e-06,\n",
       "        6.33536320e-06,  4.81354846e-07,  9.01035378e-07,  5.55222130e-07,\n",
       "        9.91057846e-07,  1.36186827e-06, -4.41718748e-06, -1.90490411e-07,\n",
       "        2.00643535e-06,  7.16615546e-07,  2.55419354e-06, -2.70040846e-06,\n",
       "       -3.43318220e-06,  3.41823608e-07, -2.83793913e-08,  6.83551616e-06,\n",
       "       -1.35016080e-06, -7.12644623e-06, -4.36587783e-07,  3.04640537e-07,\n",
       "       -2.45193314e-06,  1.65412689e-06,  1.37384131e-06, -5.84899453e-06,\n",
       "       -1.01806927e-05, -6.78183142e-07, -6.67143695e-07,  3.86095735e-06,\n",
       "       -1.01896585e-05, -4.40864778e-06, -3.65997994e-06, -4.54908900e-07,\n",
       "       -3.20305935e-06,  4.81059033e-07, -1.83798136e-06,  3.00694023e-06,\n",
       "        6.49060894e-06,  2.15841965e-06,  4.26055112e-06, -2.00542604e-06,\n",
       "        4.61691172e-07,  6.20901483e-06, -1.14730765e-05, -6.02518367e-06,\n",
       "        1.43960506e-06,  2.50463859e-06,  6.15921920e-07, -3.44658770e-06,\n",
       "       -2.59822764e-06, -6.78683728e-06,  2.22303561e-06, -5.33237380e-06,\n",
       "        5.68557709e-07, -3.58381840e-06, -3.69695414e-07, -1.92342895e-06,\n",
       "       -1.80380187e-06, -2.58714704e-06, -2.50492690e-06, -4.10312452e-07,\n",
       "       -1.19873812e-05, -3.83692026e-07, -1.70287956e-06, -1.86172724e-06,\n",
       "        2.05436436e-06, -1.59295519e-06,  7.49277433e-06, -2.53878875e-06,\n",
       "       -9.00360249e-07,  7.56879263e-06, -1.30806234e-06, -1.40707505e-06,\n",
       "        4.08509095e-06,  4.18361469e-06,  2.78853213e-06,  4.03199283e-06,\n",
       "       -2.05654533e-06, -3.12853831e-06, -2.12493183e-06,  1.08711322e-06,\n",
       "        4.72036845e-06, -4.34142152e-07, -3.09179950e-06, -6.64161189e-06,\n",
       "        1.91587992e-06,  1.10483461e-06,  4.98436566e-06, -1.23767495e-06,\n",
       "       -1.86978866e-06, -1.98760790e-06, -5.74910882e-06,  9.74337922e-07,\n",
       "       -5.20421190e-06, -1.09186351e-06,  1.72409568e-06,  6.75800720e-06],\n",
       "      dtype=float32)"
      ]
     },
     "execution_count": 30,
     "metadata": {},
     "output_type": "execute_result"
    }
   ],
   "source": [
    "(word_net2[0][0]*weights_words[0][0])"
   ]
  },
  {
   "cell_type": "code",
   "execution_count": 31,
   "metadata": {},
   "outputs": [
    {
     "data": {
      "text/plain": [
       "array([ 3.5553003e-05,  1.1842615e-05,  2.1259017e-05,  1.5623331e-06,\n",
       "        5.7627938e-05,  5.3266949e-06,  2.3165794e-05, -3.1383694e-05,\n",
       "        1.1306450e-05,  1.0540484e-05,  1.2617386e-05,  2.4720557e-05,\n",
       "        5.0416173e-05,  3.5360204e-05,  1.5835642e-05,  5.6906687e-05,\n",
       "       -4.0628052e-05, -4.2293035e-05,  3.3809607e-05, -4.7846635e-05,\n",
       "        1.4348419e-05,  9.7491402e-06, -3.7196362e-05, -1.0522694e-04,\n",
       "        8.5627114e-05,  4.7201294e-05,  1.9370784e-05, -2.1708511e-05,\n",
       "        4.9405095e-05, -2.5453395e-05, -2.4812784e-05, -2.1006970e-05,\n",
       "       -6.2709769e-05,  4.4566335e-05, -3.9728289e-05, -2.2232860e-05,\n",
       "        1.3617886e-06,  1.4487798e-05,  7.1440074e-05, -6.8848487e-05,\n",
       "       -9.1207003e-05,  4.9428269e-05,  1.7125587e-06,  3.2879127e-06,\n",
       "       -6.6526172e-06, -4.4553872e-06, -6.2840295e-06,  1.9463479e-05,\n",
       "       -2.7808255e-05,  7.6791775e-06,  4.7598194e-05, -1.8935390e-05,\n",
       "        1.1378222e-05, -1.0358445e-05, -4.1516530e-05, -2.5835259e-05,\n",
       "        7.3313895e-05, -2.5518257e-05,  4.2326566e-05, -2.8218716e-05,\n",
       "        4.5367746e-05,  7.4361873e-05, -2.3977624e-05,  3.0360412e-05,\n",
       "        3.8283491e-05,  1.2445311e-05, -7.3178749e-06, -3.4100747e-06,\n",
       "        1.4025663e-06, -3.5358749e-05, -2.3079832e-05,  2.5393978e-05,\n",
       "       -3.7353642e-05, -3.7299680e-05,  4.1620846e-05, -6.4608525e-05,\n",
       "       -4.5971278e-06, -1.7519882e-05,  5.7972324e-05,  2.2502243e-05,\n",
       "       -5.7532179e-06, -5.1571797e-06,  1.1555076e-05,  3.5427511e-06,\n",
       "        2.6473672e-05,  1.9703813e-05,  1.9597790e-05,  3.4378096e-05,\n",
       "        3.5839448e-06,  3.9486411e-05, -4.5648405e-05, -4.5042845e-05,\n",
       "        3.2315551e-05, -3.0375177e-05,  3.4553138e-06, -1.1995450e-05,\n",
       "        4.8954549e-05, -1.1066296e-04, -5.0797604e-05,  2.6465026e-05],\n",
       "      dtype=float32)"
      ]
     },
     "execution_count": 31,
     "metadata": {},
     "output_type": "execute_result"
    }
   ],
   "source": [
    "merge_test[0][0]"
   ]
  },
  {
   "cell_type": "markdown",
   "metadata": {},
   "source": [
    "### Отрисовываем"
   ]
  },
  {
   "cell_type": "code",
   "execution_count": 15,
   "metadata": {},
   "outputs": [
    {
     "data": {
      "image/svg+xml": [
       "<svg height=\"712pt\" viewBox=\"0.00 0.00 772.00 712.00\" width=\"772pt\" xmlns=\"http://www.w3.org/2000/svg\" xmlns:xlink=\"http://www.w3.org/1999/xlink\">\n",
       "<g class=\"graph\" id=\"graph0\" transform=\"scale(1 1) rotate(0) translate(4 708)\">\n",
       "<title>G</title>\n",
       "<polygon fill=\"white\" points=\"-4,4 -4,-708 768,-708 768,4 -4,4\" stroke=\"none\"/>\n",
       "<!-- 140473398340816 -->\n",
       "<g class=\"node\" id=\"node1\"><title>140473398340816</title>\n",
       "<polygon fill=\"none\" points=\"78,-667 78,-703 284,-703 284,-667 78,-667\" stroke=\"black\"/>\n",
       "<text font-family=\"Times,serif\" font-size=\"14.00\" text-anchor=\"middle\" x=\"181\" y=\"-681.3\">X_images_net: InputLayer</text>\n",
       "</g>\n",
       "<!-- 140473398391248 -->\n",
       "<g class=\"node\" id=\"node4\"><title>140473398391248</title>\n",
       "<polygon fill=\"none\" points=\"317,-593 317,-629 523,-629 523,-593 317,-593\" stroke=\"black\"/>\n",
       "<text font-family=\"Times,serif\" font-size=\"14.00\" text-anchor=\"middle\" x=\"420\" y=\"-607.3\">dense_img_words2: Dense</text>\n",
       "</g>\n",
       "<!-- 140473398340816&#45;&gt;140473398391248 -->\n",
       "<g class=\"edge\" id=\"edge3\"><title>140473398340816-&gt;140473398391248</title>\n",
       "<path d=\"M237.64,-666.937C272.338,-656.484 316.921,-643.053 353.319,-632.088\" fill=\"none\" stroke=\"black\"/>\n",
       "<polygon fill=\"black\" points=\"354.788,-635.301 363.353,-629.065 352.769,-628.598 354.788,-635.301\" stroke=\"black\"/>\n",
       "</g>\n",
       "<!-- 140473398341008 -->\n",
       "<g class=\"node\" id=\"node2\"><title>140473398341008</title>\n",
       "<polygon fill=\"none\" points=\"302,-667 302,-703 538,-703 538,-667 302,-667\" stroke=\"black\"/>\n",
       "<text font-family=\"Times,serif\" font-size=\"14.00\" text-anchor=\"middle\" x=\"420\" y=\"-681.3\">X_image_true_net: InputLayer</text>\n",
       "</g>\n",
       "<!-- 140473398341008&#45;&gt;140473398391248 -->\n",
       "<g class=\"edge\" id=\"edge1\"><title>140473398341008-&gt;140473398391248</title>\n",
       "<path d=\"M420,-666.937C420,-658.807 420,-648.876 420,-639.705\" fill=\"none\" stroke=\"black\"/>\n",
       "<polygon fill=\"black\" points=\"423.5,-639.441 420,-629.441 416.5,-639.441 423.5,-639.441\" stroke=\"black\"/>\n",
       "</g>\n",
       "<!-- 140473398341520 -->\n",
       "<g class=\"node\" id=\"node3\"><title>140473398341520</title>\n",
       "<polygon fill=\"none\" points=\"556,-667 556,-703 764,-703 764,-667 556,-667\" stroke=\"black\"/>\n",
       "<text font-family=\"Times,serif\" font-size=\"14.00\" text-anchor=\"middle\" x=\"660\" y=\"-681.3\">X_text_all_net: InputLayer</text>\n",
       "</g>\n",
       "<!-- 140473398341520&#45;&gt;140473398391248 -->\n",
       "<g class=\"edge\" id=\"edge2\"><title>140473398341520-&gt;140473398391248</title>\n",
       "<path d=\"M603.123,-666.937C568.131,-656.439 523.128,-642.938 486.492,-631.948\" fill=\"none\" stroke=\"black\"/>\n",
       "<polygon fill=\"black\" points=\"487.468,-628.586 476.884,-629.065 485.456,-635.291 487.468,-628.586\" stroke=\"black\"/>\n",
       "</g>\n",
       "<!-- 140473395640656 -->\n",
       "<g class=\"node\" id=\"node5\"><title>140473395640656</title>\n",
       "<polygon fill=\"none\" points=\"130.5,-519 130.5,-555 327.5,-555 327.5,-519 130.5,-519\" stroke=\"black\"/>\n",
       "<text font-family=\"Times,serif\" font-size=\"14.00\" text-anchor=\"middle\" x=\"229\" y=\"-533.3\">distance_layer2: Lambda</text>\n",
       "</g>\n",
       "<!-- 140473398391248&#45;&gt;140473395640656 -->\n",
       "<g class=\"edge\" id=\"edge4\"><title>140473398391248-&gt;140473395640656</title>\n",
       "<path d=\"M374.736,-592.937C347.48,-582.663 312.593,-569.511 283.786,-558.652\" fill=\"none\" stroke=\"black\"/>\n",
       "<polygon fill=\"black\" points=\"284.862,-555.317 274.27,-555.065 282.393,-561.868 284.862,-555.317\" stroke=\"black\"/>\n",
       "</g>\n",
       "<!-- 140473398390928 -->\n",
       "<g class=\"node\" id=\"node7\"><title>140473398390928</title>\n",
       "<polygon fill=\"none\" points=\"286.5,-445 286.5,-481 487.5,-481 487.5,-445 286.5,-445\" stroke=\"black\"/>\n",
       "<text font-family=\"Times,serif\" font-size=\"14.00\" text-anchor=\"middle\" x=\"387\" y=\"-459.3\">word_net2_resh: Reshape</text>\n",
       "</g>\n",
       "<!-- 140473398391248&#45;&gt;140473398390928 -->\n",
       "<g class=\"edge\" id=\"edge7\"><title>140473398391248-&gt;140473398390928</title>\n",
       "<path d=\"M467.947,-592.956C490.672,-581.546 513.447,-563.812 516,-538\" fill=\"none\" stroke=\"black\"/>\n",
       "<path d=\"M516,-536C518.374,-511.997 501.595,-495.913 479.415,-485.169\" fill=\"none\" stroke=\"black\"/>\n",
       "<polygon fill=\"black\" points=\"480.539,-481.84 469.976,-481.025 477.726,-488.249 480.539,-481.84\" stroke=\"black\"/>\n",
       "</g>\n",
       "<!-- 140473395822352 -->\n",
       "<g class=\"node\" id=\"node11\"><title>140473395822352</title>\n",
       "<polygon fill=\"none\" points=\"332,-149 332,-185 558,-185 558,-149 332,-149\" stroke=\"black\"/>\n",
       "<text font-family=\"Times,serif\" font-size=\"14.00\" text-anchor=\"middle\" x=\"445\" y=\"-163.3\">distance_layer_final: Lambda</text>\n",
       "</g>\n",
       "<!-- 140473398391248&#45;&gt;140473395822352 -->\n",
       "<g class=\"edge\" id=\"edge12\"><title>140473398391248-&gt;140473395822352</title>\n",
       "<path d=\"M516,-536C522.387,-471.426 516,-454.889 516,-390 516,-390 516,-390 516,-314 516,-272.156 515.525,-259.01 496,-222 490.276,-211.15 481.763,-200.906 473.325,-192.317\" fill=\"none\" stroke=\"black\"/>\n",
       "<polygon fill=\"black\" points=\"475.618,-189.666 466.001,-185.222 470.748,-194.694 475.618,-189.666\" stroke=\"black\"/>\n",
       "</g>\n",
       "<!-- 140473398390992 -->\n",
       "<g class=\"node\" id=\"node6\"><title>140473398390992</title>\n",
       "<polygon fill=\"none\" points=\"-0.5,-445 -0.5,-481 268.5,-481 268.5,-445 -0.5,-445\" stroke=\"black\"/>\n",
       "<text font-family=\"Times,serif\" font-size=\"14.00\" text-anchor=\"middle\" x=\"134\" y=\"-459.3\">weights_for_words2_resh: Reshape</text>\n",
       "</g>\n",
       "<!-- 140473395640656&#45;&gt;140473398390992 -->\n",
       "<g class=\"edge\" id=\"edge6\"><title>140473395640656-&gt;140473398390992</title>\n",
       "<path d=\"M206.486,-518.937C194.036,-509.501 178.385,-497.639 164.814,-487.354\" fill=\"none\" stroke=\"black\"/>\n",
       "<polygon fill=\"black\" points=\"166.765,-484.441 156.681,-481.19 162.537,-490.02 166.765,-484.441\" stroke=\"black\"/>\n",
       "</g>\n",
       "<!-- 140473398391888 -->\n",
       "<g class=\"node\" id=\"node8\"><title>140473398391888</title>\n",
       "<polygon fill=\"none\" points=\"281.5,-371 281.5,-407 466.5,-407 466.5,-371 281.5,-371\" stroke=\"black\"/>\n",
       "<text font-family=\"Times,serif\" font-size=\"14.00\" text-anchor=\"middle\" x=\"374\" y=\"-385.3\">merge_layer2: Multiply</text>\n",
       "</g>\n",
       "<!-- 140473398390992&#45;&gt;140473398391888 -->\n",
       "<g class=\"edge\" id=\"edge8\"><title>140473398390992-&gt;140473398391888</title>\n",
       "<path d=\"M190.877,-444.937C225.869,-434.439 270.872,-420.938 307.508,-409.948\" fill=\"none\" stroke=\"black\"/>\n",
       "<polygon fill=\"black\" points=\"308.544,-413.291 317.116,-407.065 306.532,-406.586 308.544,-413.291\" stroke=\"black\"/>\n",
       "</g>\n",
       "<!-- 140473398390928&#45;&gt;140473398391888 -->\n",
       "<g class=\"edge\" id=\"edge9\"><title>140473398390928-&gt;140473398391888</title>\n",
       "<path d=\"M383.919,-444.937C382.435,-436.719 380.619,-426.66 378.948,-417.406\" fill=\"none\" stroke=\"black\"/>\n",
       "<polygon fill=\"black\" points=\"382.37,-416.66 377.149,-407.441 375.482,-417.903 382.37,-416.66\" stroke=\"black\"/>\n",
       "</g>\n",
       "<!-- 140473395822224 -->\n",
       "<g class=\"node\" id=\"node9\"><title>140473395822224</title>\n",
       "<polygon fill=\"none\" points=\"291,-297 291,-333 457,-333 457,-297 291,-297\" stroke=\"black\"/>\n",
       "<text font-family=\"Times,serif\" font-size=\"14.00\" text-anchor=\"middle\" x=\"374\" y=\"-311.3\">sum_layer2: Lambda</text>\n",
       "</g>\n",
       "<!-- 140473398391888&#45;&gt;140473395822224 -->\n",
       "<g class=\"edge\" id=\"edge10\"><title>140473398391888-&gt;140473395822224</title>\n",
       "<path d=\"M374,-370.937C374,-362.807 374,-352.876 374,-343.705\" fill=\"none\" stroke=\"black\"/>\n",
       "<polygon fill=\"black\" points=\"377.5,-343.441 374,-333.441 370.5,-343.441 377.5,-343.441\" stroke=\"black\"/>\n",
       "</g>\n",
       "<!-- 140473395820688 -->\n",
       "<g class=\"node\" id=\"node10\"><title>140473395820688</title>\n",
       "<polygon fill=\"none\" points=\"260.5,-223 260.5,-259 487.5,-259 487.5,-223 260.5,-223\" stroke=\"black\"/>\n",
       "<text font-family=\"Times,serif\" font-size=\"14.00\" text-anchor=\"middle\" x=\"374\" y=\"-237.3\">final_word_vector_k: Lambda</text>\n",
       "</g>\n",
       "<!-- 140473395822224&#45;&gt;140473395820688 -->\n",
       "<g class=\"edge\" id=\"edge11\"><title>140473395822224-&gt;140473395820688</title>\n",
       "<path d=\"M374,-296.937C374,-288.807 374,-278.876 374,-269.705\" fill=\"none\" stroke=\"black\"/>\n",
       "<polygon fill=\"black\" points=\"377.5,-269.441 374,-259.441 370.5,-269.441 377.5,-269.441\" stroke=\"black\"/>\n",
       "</g>\n",
       "<!-- 140473395820688&#45;&gt;140473395822352 -->\n",
       "<g class=\"edge\" id=\"edge13\"><title>140473395820688-&gt;140473395822352</title>\n",
       "<path d=\"M390.826,-222.937C399.714,-213.924 410.786,-202.696 420.599,-192.744\" fill=\"none\" stroke=\"black\"/>\n",
       "<polygon fill=\"black\" points=\"423.272,-195.019 427.802,-185.441 418.288,-190.104 423.272,-195.019\" stroke=\"black\"/>\n",
       "</g>\n",
       "<!-- 140473395354064 -->\n",
       "<g class=\"node\" id=\"node12\"><title>140473395354064</title>\n",
       "<polygon fill=\"none\" points=\"365,-75 365,-111 525,-111 525,-75 365,-75\" stroke=\"black\"/>\n",
       "<text font-family=\"Times,serif\" font-size=\"14.00\" text-anchor=\"middle\" x=\"445\" y=\"-89.3\">overfit_layer: Dense</text>\n",
       "</g>\n",
       "<!-- 140473395822352&#45;&gt;140473395354064 -->\n",
       "<g class=\"edge\" id=\"edge14\"><title>140473395822352-&gt;140473395354064</title>\n",
       "<path d=\"M445,-148.937C445,-140.807 445,-130.876 445,-121.705\" fill=\"none\" stroke=\"black\"/>\n",
       "<polygon fill=\"black\" points=\"448.5,-121.441 445,-111.441 441.5,-121.441 448.5,-121.441\" stroke=\"black\"/>\n",
       "</g>\n",
       "<!-- 140473395353744 -->\n",
       "<g class=\"node\" id=\"node13\"><title>140473395353744</title>\n",
       "<polygon fill=\"none\" points=\"382,-1 382,-37 508,-37 508,-1 382,-1\" stroke=\"black\"/>\n",
       "<text font-family=\"Times,serif\" font-size=\"14.00\" text-anchor=\"middle\" x=\"445\" y=\"-15.3\">output2: Dense</text>\n",
       "</g>\n",
       "<!-- 140473395354064&#45;&gt;140473395353744 -->\n",
       "<g class=\"edge\" id=\"edge15\"><title>140473395354064-&gt;140473395353744</title>\n",
       "<path d=\"M445,-74.937C445,-66.8072 445,-56.8761 445,-47.7047\" fill=\"none\" stroke=\"black\"/>\n",
       "<polygon fill=\"black\" points=\"448.5,-47.4406 445,-37.4407 441.5,-47.4407 448.5,-47.4406\" stroke=\"black\"/>\n",
       "</g>\n",
       "</g>\n",
       "</svg>"
      ],
      "text/plain": [
       "<IPython.core.display.SVG object>"
      ]
     },
     "execution_count": 15,
     "metadata": {},
     "output_type": "execute_result"
    }
   ],
   "source": [
    "from keras.utils import plot_model\n",
    "plot_model(model_hard, to_file='model_hard.png')\n",
    "\n",
    "from IPython.display import SVG\n",
    "from keras.utils.vis_utils import model_to_dot\n",
    "\n",
    "SVG(model_to_dot(model_hard).create(prog='dot', format='svg' ))\n"
   ]
  },
  {
   "cell_type": "code",
   "execution_count": null,
   "metadata": {
    "collapsed": true
   },
   "outputs": [],
   "source": [
    "path_coco_imgs = 'data_coco_flkr/coco_test_ims.npy'\n",
    "images_coco = np.load(path_coco_imgs)\n",
    "image_vectors_coco = tools.encode_images(model, images_coco)"
   ]
  },
  {
   "cell_type": "code",
   "execution_count": null,
   "metadata": {
    "collapsed": true
   },
   "outputs": [],
   "source": [
    "import keras\n",
    "batch_size = 200\n",
    "fun_train = generate_arrays_from_file(image_vectors_coco,words_vectors, num_samples = 50, k = 10, num_words = 998)\n",
    "steps = 100\n",
    "epochs = 2\n",
    "\n",
    "tbCallBack = keras.callbacks.TensorBoard(log_dir='Graph', histogram_freq=0,  \n",
    "          write_graph=True, write_images=True)\n",
    "#tbCallback.set_model(tbCallBack)\n",
    "\n",
    "model_hard.fit_generator(fun_train,steps, epochs, verbose=1,\n",
    "                         shuffle = True, callbacks=[tbCallBack]) #validation_steps=fun_val,"
   ]
  },
  {
   "cell_type": "code",
   "execution_count": null,
   "metadata": {
    "collapsed": true
   },
   "outputs": [],
   "source": [
    "import tensorflow as tf\n",
    "from tensorflow.python import debug as tf_debug\n",
    "import keras\n",
    "keras.backend.set_session(\n",
    "    tf_debug.TensorBoardDebugWrapperSession(tf.Session(), \"lichi.haze.yandex.net:6007\"))"
   ]
  },
  {
   "cell_type": "code",
   "execution_count": null,
   "metadata": {
    "collapsed": true
   },
   "outputs": [],
   "source": [
    "%pylab inline\n",
    "# чуть покрасивше картинки:\n",
    "#pd.set_option('display.mpl_style', 'default')\n",
    "import warnings\n",
    "warnings.filterwarnings(\"ignore\")\n",
    "plt.rcParams['figure.figsize'] = 8, 6\n",
    "plt.rcParams['axes.grid'] = True\n",
    "pd.set_option('display.max_columns', None)\n",
    "import matplotlib.pyplot as plt\n",
    "import matplotlib as mpl\n",
    "mpl.rcParams['font.family'] = 'Ubuntu'\n",
    "plt.rc('text', usetex=False)\n",
    "plt.rc('font', family='serif')\n",
    "plt.rc('font', weight='bold')\n",
    "plt.rc('xtick', labelsize=10) \n",
    "plt.rc('ytick', labelsize=10)\n",
    "# чтобы был русский шрифт\n",
    "from matplotlib import rc\n",
    "font = {'family': 'Verdana',\n",
    "        'weight': 'normal'}\n",
    "rc('font', **font)\n"
   ]
  },
  {
   "cell_type": "code",
   "execution_count": null,
   "metadata": {
    "collapsed": true
   },
   "outputs": [],
   "source": [
    "\n",
    "# Размножаем вектор для multiply слоя\n",
    "weights_for_words2_resh_1000 = Lambda(lambda x: K.repeat(x, 100), output_shape=(100, num_words),\n",
    "                             name = 'weights_for_words2_resh_1000')(weights_for_words2)"
   ]
  }
 ],
 "metadata": {
  "kernelspec": {
   "display_name": "Python 2",
   "language": "python",
   "name": "python2"
  },
  "language_info": {
   "codemirror_mode": {
    "name": "ipython",
    "version": 2
   },
   "file_extension": ".py",
   "mimetype": "text/x-python",
   "name": "python",
   "nbconvert_exporter": "python",
   "pygments_lexer": "ipython2",
   "version": "2.7.6"
  }
 },
 "nbformat": 4,
 "nbformat_minor": 2
}
