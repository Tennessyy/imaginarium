{
 "cells": [
  {
   "cell_type": "raw",
   "metadata": {},
   "source": [
    "!wget http://www.cs.toronto.edu/~rkiros/datasets/f8k.zip\n",
    "!wget http://www.cs.toronto.edu/~rkiros/datasets/f30k.zip\n",
    "!wget http://www.cs.toronto.edu/~rkiros/datasets/coco.zip\n",
    "!wget http://www.cs.toronto.edu/~rkiros/models/vse.zip\n",
    "!git clone https://github.com/ryankiros/visual-semantic-embedding.git\n",
    "!git clone https://github.com/fchollet/deep-learning-models.git"
   ]
  },
  {
   "cell_type": "code",
   "execution_count": 23,
   "metadata": {},
   "outputs": [
    {
     "name": "stdout",
     "output_type": "stream",
     "text": [
      "pretrained_models/coco.npz\n",
      "Loading dictionary...\n",
      "Creating inverted dictionary...\n",
      "Loading model options...\n",
      "Loading model parameters...\n",
      "Compiling sentence encoder...\n",
      "Compiling image encoder...\n",
      "Packing up...\n"
     ]
    }
   ],
   "source": [
    "import pandas as pd\n",
    "import numpy as np\n",
    "import os\n",
    "from random import sample\n",
    "#\n",
    "#from PIL import Image\n",
    "from keras.applications.vgg19 import VGG19\n",
    "from keras.preprocessing import image\n",
    "from keras.applications.imagenet_utils import preprocess_input\n",
    "\n",
    "\n",
    "model = VGG19(weights='imagenet', include_top=False)\n",
    "#model_final_classes = VGG19(weights='imagenet', include_top=True)\n",
    "from visual_semantic_embedding import tools, evaluation\n",
    "coco = tools.load_model('pretrained_models/coco.npz')"
   ]
  },
  {
   "cell_type": "code",
   "execution_count": 24,
   "metadata": {
    "collapsed": true
   },
   "outputs": [
    {
     "name": "stdout",
     "output_type": "stream",
     "text": [
      "_________________________________________________________________\n",
      "Layer (type)                 Output Shape              Param #   \n",
      "=================================================================\n",
      "input_5 (InputLayer)         (None, None, None, 3)     0         \n",
      "_________________________________________________________________\n",
      "block1_conv1 (Conv2D)        (None, None, None, 64)    1792      \n",
      "_________________________________________________________________\n",
      "block1_conv2 (Conv2D)        (None, None, None, 64)    36928     \n",
      "_________________________________________________________________\n",
      "block1_pool (MaxPooling2D)   (None, None, None, 64)    0         \n",
      "_________________________________________________________________\n",
      "block2_conv1 (Conv2D)        (None, None, None, 128)   73856     \n",
      "_________________________________________________________________\n",
      "block2_conv2 (Conv2D)        (None, None, None, 128)   147584    \n",
      "_________________________________________________________________\n",
      "block2_pool (MaxPooling2D)   (None, None, None, 128)   0         \n",
      "_________________________________________________________________\n",
      "block3_conv1 (Conv2D)        (None, None, None, 256)   295168    \n",
      "_________________________________________________________________\n",
      "block3_conv2 (Conv2D)        (None, None, None, 256)   590080    \n",
      "_________________________________________________________________\n",
      "block3_conv3 (Conv2D)        (None, None, None, 256)   590080    \n",
      "_________________________________________________________________\n",
      "block3_conv4 (Conv2D)        (None, None, None, 256)   590080    \n",
      "_________________________________________________________________\n",
      "block3_pool (MaxPooling2D)   (None, None, None, 256)   0         \n",
      "_________________________________________________________________\n",
      "block4_conv1 (Conv2D)        (None, None, None, 512)   1180160   \n",
      "_________________________________________________________________\n",
      "block4_conv2 (Conv2D)        (None, None, None, 512)   2359808   \n",
      "_________________________________________________________________\n",
      "block4_conv3 (Conv2D)        (None, None, None, 512)   2359808   \n",
      "_________________________________________________________________\n",
      "block4_conv4 (Conv2D)        (None, None, None, 512)   2359808   \n",
      "_________________________________________________________________\n",
      "block4_pool (MaxPooling2D)   (None, None, None, 512)   0         \n",
      "_________________________________________________________________\n",
      "block5_conv1 (Conv2D)        (None, None, None, 512)   2359808   \n",
      "_________________________________________________________________\n",
      "block5_conv2 (Conv2D)        (None, None, None, 512)   2359808   \n",
      "_________________________________________________________________\n",
      "block5_conv3 (Conv2D)        (None, None, None, 512)   2359808   \n",
      "_________________________________________________________________\n",
      "block5_conv4 (Conv2D)        (None, None, None, 512)   2359808   \n",
      "_________________________________________________________________\n",
      "block5_pool (MaxPooling2D)   (None, None, None, 512)   0         \n",
      "=================================================================\n",
      "Total params: 20,024,384\n",
      "Trainable params: 20,024,384\n",
      "Non-trainable params: 0\n",
      "_________________________________________________________________\n"
     ]
    }
   ],
   "source": [
    "model.summary()"
   ]
  },
  {
   "cell_type": "code",
   "execution_count": 28,
   "metadata": {},
   "outputs": [],
   "source": [
    "folder = 'data/images/imaginarium/'\n",
    "paths_images = os.listdir(folder)\n",
    "img_path = '{0}/{1}'.format(folder, paths_images[0])\n",
    "img = image.load_img(img_path, target_size=(500, 500))\n",
    "x = image.img_to_array(img)\n",
    "x = np.expand_dims(x, axis=0)\n",
    "x = preprocess_input(x)\n",
    "features = model.predict(x)\n"
   ]
  },
  {
   "cell_type": "markdown",
   "metadata": {},
   "source": [
    "### Получаем вектора для картинок"
   ]
  },
  {
   "cell_type": "code",
   "execution_count": 29,
   "metadata": {},
   "outputs": [],
   "source": [
    "coco_test = np.load('data/images/coco/coco_test_ims.npy')\n",
    "coco_dev = np.load('data/images/coco/coco_dev_ims.npy')\n",
    "#####\n",
    "img_vec = np.concatenate([coco_test, coco_dev])\n",
    "image_vectors = tools.encode_images(coco, img_vec)"
   ]
  },
  {
   "cell_type": "code",
   "execution_count": 30,
   "metadata": {},
   "outputs": [],
   "source": [
    "pd.DataFrame(image_vectors).to_csv('data/images/coco/coco_img.csv')"
   ]
  },
  {
   "cell_type": "markdown",
   "metadata": {},
   "source": [
    "### Предсказываем класс"
   ]
  },
  {
   "cell_type": "code",
   "execution_count": null,
   "metadata": {},
   "outputs": [],
   "source": []
  },
  {
   "cell_type": "code",
   "execution_count": null,
   "metadata": {},
   "outputs": [],
   "source": []
  },
  {
   "cell_type": "code",
   "execution_count": null,
   "metadata": {},
   "outputs": [],
   "source": []
  },
  {
   "cell_type": "code",
   "execution_count": null,
   "metadata": {},
   "outputs": [],
   "source": []
  },
  {
   "cell_type": "code",
   "execution_count": null,
   "metadata": {},
   "outputs": [],
   "source": []
  },
  {
   "cell_type": "markdown",
   "metadata": {},
   "source": [
    "#### Читаем текст"
   ]
  },
  {
   "cell_type": "code",
   "execution_count": 34,
   "metadata": {},
   "outputs": [],
   "source": [
    "words_text = {}\n",
    "words_list = ['1000', '4000']\n",
    "for num_word in words_list:\n",
    "    tmp = pd.read_csv('data/words/top{0}_words.txt'.format(num_word), sep = ',', header = -1).T[0]\n",
    "    tmp = [x.replace(' ', '') for x in tmp]\n",
    "    words_text[num_word] = {'array': np.array(tmp),\n",
    "                            'ind2word': {ind:word for ind, word in enumerate(tmp)}}\n",
    "    "
   ]
  },
  {
   "cell_type": "markdown",
   "metadata": {},
   "source": [
    "##### Читаем модели"
   ]
  },
  {
   "cell_type": "code",
   "execution_count": 30,
   "metadata": {
    "collapsed": true
   },
   "outputs": [
    {
     "name": "stdout",
     "output_type": "stream",
     "text": [
      "pretrained_models/coco.npz\n",
      "Loading dictionary...\n",
      "Creating inverted dictionary...\n",
      "Loading model options...\n",
      "Loading model parameters...\n",
      "Compiling sentence encoder...\n",
      "Compiling image encoder...\n",
      "Packing up...\n",
      "pretrained_models/f8k.npz\n",
      "Loading dictionary...\n",
      "Creating inverted dictionary...\n",
      "Loading model options...\n",
      "Loading model parameters...\n",
      "Compiling sentence encoder...\n",
      "Compiling image encoder...\n",
      "Packing up...\n",
      "pretrained_models/f30k.npz\n",
      "Loading dictionary...\n",
      "Creating inverted dictionary...\n",
      "Loading model options...\n",
      "Loading model parameters...\n",
      "Compiling sentence encoder...\n",
      "Compiling image encoder...\n",
      "Packing up...\n"
     ]
    }
   ],
   "source": [
    "model_list = ['coco', 'f8k', 'f30k']\n",
    "model_weights = {}\n",
    "for model_name in model_list:\n",
    "    model_weights[model_name] = tools.load_model('pretrained_models/{0}.npz'.format(model_name))"
   ]
  },
  {
   "cell_type": "markdown",
   "metadata": {},
   "source": [
    "#### Делаем словарь с векторами"
   ]
  },
  {
   "cell_type": "code",
   "execution_count": 31,
   "metadata": {},
   "outputs": [],
   "source": [
    "pretrained_vectors = {}\n",
    "for num_word in words_list:\n",
    "    for model_name in model_list:\n",
    "        pretrained_vectors['{0}_{1}'.format(num_word, model_name)] = tools.encode_sentences(\n",
    "            model_weights[model_name], words_text['array'][num_word])"
   ]
  },
  {
   "cell_type": "markdown",
   "metadata": {},
   "source": [
    "##### Достаем классы из картинок"
   ]
  },
  {
   "cell_type": "code",
   "execution_count": 16,
   "metadata": {},
   "outputs": [
    {
     "ename": "NameError",
     "evalue": "name 'model_final_classes' is not defined",
     "output_type": "error",
     "traceback": [
      "\u001b[0;31m---------------------------------------------------------------------------\u001b[0m",
      "\u001b[0;31mNameError\u001b[0m                                 Traceback (most recent call last)",
      "\u001b[0;32m<ipython-input-16-1b8a11f7e6ea>\u001b[0m in \u001b[0;36m<module>\u001b[0;34m()\u001b[0m\n\u001b[0;32m----> 1\u001b[0;31m \u001b[0mmodel_final_classes\u001b[0m\u001b[0;34m\u001b[0m\u001b[0m\n\u001b[0m",
      "\u001b[0;31mNameError\u001b[0m: name 'model_final_classes' is not defined"
     ]
    }
   ],
   "source": [
    "model_final_classes"
   ]
  },
  {
   "cell_type": "code",
   "execution_count": null,
   "metadata": {},
   "outputs": [],
   "source": []
  },
  {
   "cell_type": "code",
   "execution_count": null,
   "metadata": {},
   "outputs": [],
   "source": []
  },
  {
   "cell_type": "code",
   "execution_count": null,
   "metadata": {},
   "outputs": [],
   "source": []
  },
  {
   "cell_type": "code",
   "execution_count": null,
   "metadata": {},
   "outputs": [],
   "source": []
  },
  {
   "cell_type": "code",
   "execution_count": null,
   "metadata": {},
   "outputs": [],
   "source": []
  },
  {
   "cell_type": "code",
   "execution_count": null,
   "metadata": {},
   "outputs": [],
   "source": []
  },
  {
   "cell_type": "code",
   "execution_count": null,
   "metadata": {},
   "outputs": [],
   "source": []
  },
  {
   "cell_type": "markdown",
   "metadata": {},
   "source": [
    "#### Берем тексты, делаем для них признаки\n",
    "###### https://gitlab.com/dikonov/Universal-Dictionary-of-Concepts/blob/master/data/csv/dict-nl-eng.csv"
   ]
  },
  {
   "cell_type": "code",
   "execution_count": 104,
   "metadata": {},
   "outputs": [],
   "source": [
    "words_text['df'] = {}\n",
    "table_semantic = pd.read_csv('data/words/dict-nl-eng.csv', sep = '\\t', header = -1)[8:]\n",
    "table_semantic['word'] = table_semantic[0].apply(lambda x: x[1:-1] if ('-' not in x)\n",
    "                                                 else '')"
   ]
  },
  {
   "cell_type": "code",
   "execution_count": 105,
   "metadata": {},
   "outputs": [],
   "source": [
    "def get_tag_wordnet(x, ind):\n",
    "    try:\n",
    "        return x.split('(')[1].split(')')[0].split(',')[0].split('>')[ind]\n",
    "    except:\n",
    "        return ''\n",
    "    \n",
    "table_semantic['definition'] = table_semantic[2].apply(lambda x: get_tag_wordnet(x, 1))\n",
    "table_semantic['concept'] = table_semantic[2].apply(lambda x: get_tag_wordnet(x, 2))\n",
    "table_semantic['smth'] = table_semantic[2].apply(lambda x: get_tag_wordnet(x, 0))"
   ]
  },
  {
   "cell_type": "markdown",
   "metadata": {},
   "source": [
    "##### Получаем для них вектора"
   ]
  },
  {
   "cell_type": "code",
   "execution_count": 106,
   "metadata": {},
   "outputs": [],
   "source": [
    "table_semantic['concept'] = table_semantic[['definition', 'concept']].apply(\n",
    "    lambda x:  x[0] if x[1] == '' else x[1], axis = 1)\n",
    "table_semantic['definition'] = table_semantic[['definition', 'concept']].apply(\n",
    "    lambda x:  '' if x[1] == x[0] else x[0], axis = 1)\n",
    "\n",
    "table_semantic['pos'] = table_semantic[5].apply(lambda x: x[1:-1])"
   ]
  },
  {
   "cell_type": "code",
   "execution_count": 107,
   "metadata": {},
   "outputs": [],
   "source": [
    "cols_list  = ['word', 'pos', 'concept', 'definition', 'smth']\n",
    "table_semantic = table_semantic[cols_list]"
   ]
  },
  {
   "cell_type": "code",
   "execution_count": 110,
   "metadata": {},
   "outputs": [],
   "source": [
    "# definition -  семантическое поле\n",
    "table_semantic['title'] = table_semantic['word'].apply(lambda x: x.istitle())"
   ]
  },
  {
   "cell_type": "markdown",
   "metadata": {},
   "source": [
    "#### Читаем картинки, строим эмбеддинги и извлекаем из них VGG19 фичи"
   ]
  },
  {
   "cell_type": "code",
   "execution_count": 11,
   "metadata": {
    "collapsed": true
   },
   "outputs": [
    {
     "name": "stderr",
     "output_type": "stream",
     "text": [
      "/usr/local/lib/python2.7/dist-packages/ipykernel_launcher.py:2: UserWarning: Update your `Model` call to the Keras 2 API: `Model(outputs=Tensor(\"fc..., inputs=Tensor(\"in...)`\n",
      "  \n"
     ]
    },
    {
     "name": "stdout",
     "output_type": "stream",
     "text": [
      "img 17.jpeg\n",
      "img 4.jpeg\n",
      "img 16.jpeg\n",
      "img 3.jpeg\n",
      "img 8.jpeg\n",
      "img 20.jpeg\n",
      "img 23.jpeg\n",
      "img 18.jpeg\n",
      "img 15.jpeg\n",
      "img 13.jpeg\n",
      "img 2.jpeg\n",
      "img 22.jpeg\n",
      ".ipynb_checkpoints\n",
      "img 14.jpeg\n",
      "img 11.jpeg\n",
      "img 9.jpeg\n",
      "img 7.jpeg\n",
      "img 21.jpeg\n",
      "img 10.jpeg\n",
      "img 6.jpeg\n",
      "img 19.jpeg\n",
      "img 12.jpeg\n",
      "img 5.jpeg\n"
     ]
    }
   ],
   "source": [
    "base_model = VGG19(weights='imagenet', include_top=True)\n",
    "model_vgg19 = Model(input=base_model.input, output=base_model.get_layer('fc2').output)\n",
    "\n",
    "paths_images = os.listdir('images')\n",
    "img_list = []\n",
    "feat_list = []\n",
    "for path in paths_images:\n",
    "    print path\n",
    "    if path!='.ipynb_checkpoints':\n",
    "        img=mpimg.imread('images/' + path,0)\n",
    "        img_crop = img[30:-30,30:-211]\n",
    "        h = img_crop.shape[0]\n",
    "        w = img_crop.shape[1]\n",
    "        img16 = []\n",
    "        feat16 = []\n",
    "        for i in np.arange(0,1,0.5):\n",
    "            for j in np.arange(0,1,0.25):\n",
    "                pic = img_crop[int(h*i):int(h*(i+1/2.)),int(w*j):int(w*(j+1/4.))]\n",
    "                pil = Image.fromarray(pic)\n",
    "                path_save = 'images_preprocessed/'+path[:-5]+str(i)+str(j)+ \".jpeg\"\n",
    "                pil.save(path_save)\n",
    "                img = image.load_img(path_save, target_size=(224, 224))\n",
    "                pic = image.img_to_array(img)\n",
    "                pic = np.expand_dims(pic, axis=0)\n",
    "                pic = preprocess_input(pic)\n",
    "                features = model_vgg19.predict(pic)\n",
    "                img16.append(img)\n",
    "                feat16.append(features)\n",
    "                \n",
    "        img_list += img16\n",
    "        feat_list += feat16"
   ]
  },
  {
   "cell_type": "code",
   "execution_count": 15,
   "metadata": {
    "collapsed": true
   },
   "outputs": [],
   "source": [
    "feat_list = [x.reshape(4096) for x in feat_list]\n",
    "image_vectors = tools.encode_images(model, feat_list)\n",
    "image_vectors_f30k = tools.encode_images(model_f30k, feat_list)"
   ]
  },
  {
   "cell_type": "markdown",
   "metadata": {},
   "source": [
    "#### Берем топ-частотных слов"
   ]
  },
  {
   "cell_type": "code",
   "execution_count": 126,
   "metadata": {},
   "outputs": [
    {
     "name": "stdout",
     "output_type": "stream",
     "text": [
      "1\n",
      "1\n"
     ]
    }
   ],
   "source": [
    "#words = pd.read_csv('words/4k_word_list.txt', sep = ',', header = -1)[0]\n",
    "words = pd.read_csv('words/top1000_words.txt', sep = ',', header = -1).T[0]\n",
    "words = np.array([x.replace(' ', '') for x in words])\n",
    "words_vectors = tools.encode_sentences(model, words, verbose=True)\n",
    "words_vectors_f30k = tools.encode_sentences(model_f30k, words, verbose=True)"
   ]
  },
  {
   "cell_type": "code",
   "execution_count": 127,
   "metadata": {
    "collapsed": true
   },
   "outputs": [
    {
     "data": {
      "text/plain": [
       "array(['a', 'about', 'above', 'across', 'act', 'active', 'activity',\n",
       "       'add', 'afraid', 'after', 'again', 'age', 'ago', 'agree', 'air',\n",
       "       'all', 'alone', 'along', 'already', 'always', 'am', 'amount', 'an',\n",
       "       'and', 'angry', 'another', 'answer', 'any', 'anyone', 'anything',\n",
       "       'anytime', 'appear', 'apple', 'are', 'area', 'arm', 'army',\n",
       "       'around', 'arrive', 'art', 'as', 'ask', 'at', 'attack', 'aunt',\n",
       "       'autumn', 'away', 'baby', 'back', 'bad', 'bag', 'ball', 'bank',\n",
       "       'base', 'basket', 'bath', 'be', 'bean', 'bear', 'beautiful', 'bed',\n",
       "       'bedroom', 'beer', 'behave', 'before', 'begin', 'behind', 'bell',\n",
       "       'below', 'besides', 'best', 'better', 'between', 'big', 'bird',\n",
       "       'birth', 'birthday', 'bit', 'bite', 'black', 'bleed', 'block',\n",
       "       'blood', 'blow', 'blue', 'board', 'boat', 'body', 'boil', 'bone',\n",
       "       'book', 'border', 'born', 'borrow', 'both', 'bottle', 'bottom',\n",
       "       'bowl', 'box', 'boy', 'branch', 'brave', 'bread', 'break',\n",
       "       'breakfast', 'breathe', 'bridge', 'bright', 'bring', 'brother',\n",
       "       'brown', 'brush', 'build', 'burn', 'business', 'bus', 'busy',\n",
       "       'but', 'buy', 'by', 'cake', 'call', 'can', 'candle', 'cap', 'car',\n",
       "       'card', 'care', 'careful', 'careless', 'carry', 'case', 'cat',\n",
       "       'catch', 'central', 'century', 'certain', 'chair', 'chance',\n",
       "       'change', 'chase', 'cheap', 'cheese', 'chicken', 'child',\n",
       "       'children', 'chocolate', 'choice', 'choose', 'circle', 'city',\n",
       "       'class', 'clever', 'clean', 'clear', 'climb', 'clock', 'cloth',\n",
       "       'clothes', 'cloud', 'cloudy', 'close', 'coffee', 'coat', 'coin',\n",
       "       'cold', 'collect', 'colour', 'comb', 'comfortable', 'common',\n",
       "       'compare', 'come', 'complete', 'computer', 'condition', 'continue',\n",
       "       'control', 'cook', 'cool', 'copper', 'corn', 'corner', 'correct',\n",
       "       'cost', 'contain', 'count', 'country', 'course', 'cover', 'crash',\n",
       "       'cross', 'cry', 'cup', 'cupboard', 'cut', 'dance', 'dangerous',\n",
       "       'dark', 'daughter', 'day', 'dead', 'decide', 'decrease', 'deep',\n",
       "       'deer', 'depend', 'desk', 'destroy', 'develop', 'die', 'different',\n",
       "       'difficult', 'dinner', 'direction', 'dirty', 'discover', 'dish',\n",
       "       'do', 'dog', 'door', 'double', 'down', 'draw', 'dream', 'dress',\n",
       "       'drink', 'drive', 'drop', 'dry', 'duck', 'dust', 'duty', 'each',\n",
       "       'ear', 'early', 'earn', 'earth', 'east', 'easy', 'eat',\n",
       "       'education', 'effect', 'egg', 'eight', 'either', 'electric',\n",
       "       'elephant', 'else', 'empty', 'end', 'enemy', 'enjoy', 'enough',\n",
       "       'enter', 'equal', 'entrance', 'escape', 'even', 'evening', 'event',\n",
       "       'ever', 'every', 'everyone', 'exact', 'everybody', 'examination',\n",
       "       'example', 'except', 'excited', 'exercise', 'expect', 'expensive',\n",
       "       'explain', 'extremely', 'eye', 'face', 'fact', 'fail', 'fall',\n",
       "       'false', 'family', 'famous', 'far', 'farm', 'father', 'fast',\n",
       "       'fat', 'fault', 'fear', 'feed', 'feel', 'female', 'fever', 'few',\n",
       "       'fight', 'fill', 'film', 'find', 'fine', 'finger', 'finish',\n",
       "       'fire', 'first', 'fish', 'fit', 'five', 'fix', 'flag', 'flat',\n",
       "       'float', 'floor', 'flour', 'flower', 'fly', 'fold', 'food', 'fool',\n",
       "       'foot', 'football', 'for', 'force', 'foreign', 'forest', 'forget',\n",
       "       'forgive', 'fork', 'form', 'fox', 'four', 'free', 'freedom',\n",
       "       'freeze', 'fresh', 'friend', 'friendly', 'from', 'front', 'fruit',\n",
       "       'full', 'fun', 'funny', 'furniture', 'further', 'future', 'game',\n",
       "       'garden', 'gate', 'general', 'gentleman', 'get', 'gift', 'give',\n",
       "       'glad', 'glass', 'go', 'goat', 'god', 'gold', 'good', 'goodbye',\n",
       "       'grandfather', 'grandmother', 'grass', 'grave', 'great', 'green',\n",
       "       'gray', 'ground', 'group', 'grow', 'gun', 'hair', 'half', 'hall',\n",
       "       'hammer', 'hand', 'happen', 'happy', 'hard', 'hat', 'hate', 'have',\n",
       "       'he', 'head', 'healthy', 'hear', 'heavy', 'heart', 'heaven',\n",
       "       'height', 'hello', 'help', 'hen', 'her', 'here', 'hers', 'hide',\n",
       "       'high', 'hill', 'him', 'his', 'hit', 'hobby', 'hold', 'hole',\n",
       "       'holiday', 'home', 'hope', 'horse', 'hospital', 'hot', 'hotel',\n",
       "       'house', 'how', 'hundred', 'hungry', 'hour', 'hurry', 'husband',\n",
       "       'hurt', 'I', 'ice', 'idea', 'if', 'important', 'in', 'increase',\n",
       "       'inside', 'into', 'introduce', 'invent', 'iron', 'invite', 'is',\n",
       "       'island', 'it', 'its', 'jelly', 'job', 'join', 'juice', 'jump',\n",
       "       'just', 'keep', 'key', 'kill', 'kind', 'king', 'kitchen', 'knee',\n",
       "       'knife', 'knock', 'know.', 'ladder', 'lady', 'lamp', 'land',\n",
       "       'large', 'last', 'late', 'lately', 'laugh', 'lazy', 'lead', 'leaf',\n",
       "       'learn', 'leave', 'leg', 'left', 'lend', 'length', 'less',\n",
       "       'lesson', 'let', 'letter', 'library', 'lie', 'life', 'light',\n",
       "       'like', 'lion', 'lip', 'list', 'listen', 'little', 'live', 'lock',\n",
       "       'lonely', 'long', 'look', 'lose', 'lot', 'love', 'low', 'lower',\n",
       "       'luck', 'machine', 'main', 'make', 'male', 'man', 'many', 'map',\n",
       "       'mark', 'market', 'marry', 'matter', 'may', 'me', 'meal', 'mean',\n",
       "       'measure', 'meat', 'medicine', 'meet', 'member', 'mention',\n",
       "       'method', 'middle', 'milk', 'million', 'mind', 'minute', 'miss',\n",
       "       'mistake', 'mix', 'model', 'modern', 'moment', 'money', 'monkey',\n",
       "       'month', 'moon', 'more', 'morning', 'most', 'mother', 'mountain',\n",
       "       'mouth', 'move', 'much', 'music', 'must', 'my', 'name', 'narrow',\n",
       "       'nation', 'nature', 'near', 'nearly', 'neck', 'need', 'needle',\n",
       "       'neighbour', 'neither', 'net', 'never', 'new', 'news', 'newspaper',\n",
       "       'next', 'nice', 'night', 'nine', 'no', 'noble', 'noise', 'none',\n",
       "       'nor', 'north', 'nose', 'not', 'nothing', 'notice', 'now',\n",
       "       'number', 'obey', 'object', 'ocean', 'of', 'off', 'offer',\n",
       "       'office', 'often', 'oil', 'old', 'on', 'one', 'only', 'open',\n",
       "       'opposite', 'or', 'orange', 'order', 'other', 'our', 'out',\n",
       "       'outside', 'over', 'own', 'page', 'pain', 'paint', 'pair', 'pan',\n",
       "       'paper', 'parent', 'park', 'part', 'partner', 'party', 'pass',\n",
       "       'past', 'path', 'pay', 'peace', 'pen', 'pencil', 'people',\n",
       "       'pepper', 'per', 'perfect', 'period', 'person', 'petrol',\n",
       "       'photograph', 'piano', 'pick', 'picture', 'piece', 'pig', 'pin',\n",
       "       'pink', 'place', 'plane', 'plant', 'plastic', 'plate', 'play',\n",
       "       'please', 'pleased', 'plenty', 'pocket', 'point', 'poison',\n",
       "       'police', 'polite', 'pool', 'poor', 'popular', 'position',\n",
       "       'possible', 'potato', 'pour', 'power', 'present', 'press',\n",
       "       'pretty', 'prevent', 'price', 'prince', 'prison', 'private',\n",
       "       'prize', 'probably', 'problem', 'produce', 'promise', 'proper',\n",
       "       'protect', 'provide', 'public', 'pull', 'punish', 'pupil', 'push',\n",
       "       'put', 'queen', 'question', 'quick', 'quiet', 'quite', 'radio',\n",
       "       'rain', 'rainy', 'raise', 'reach', 'read', 'ready', 'real',\n",
       "       'really', 'receive', 'record', 'red', 'remember', 'remind',\n",
       "       'remove', 'rent', 'repair', 'repeat', 'reply', 'report', 'rest',\n",
       "       'restaurant', 'result', 'return', 'rice', 'rich', 'ride', 'right',\n",
       "       'ring', 'rise', 'road', 'rob', 'rock', 'room', 'round', 'rubber',\n",
       "       'rude', 'rule', 'ruler', 'run', 'rush', 'sad', 'safe', 'sail',\n",
       "       'salt', 'same', 'sand', 'save', 'say', 'school', 'science',\n",
       "       'scissors', 'search', 'seat', 'second', 'see', 'seem', 'sell',\n",
       "       'send', 'sentence', 'serve', 'seven', 'several', 'sex', 'shade',\n",
       "       'shadow', 'shake', 'shape', 'share', 'sharp', 'she', 'sheep',\n",
       "       'sheet', 'shelf', 'shine', 'ship', 'shirt', 'shoe', 'shoot',\n",
       "       'shop', 'short', 'should', 'shoulder', 'shout', 'show', 'sick',\n",
       "       'side', 'signal', 'silence', 'silly', 'silver', 'similar',\n",
       "       'simple', 'single', 'since', 'sing', 'sink', 'sister', 'sit',\n",
       "       'six', 'size', 'skill', 'skin', 'skirt', 'sky', 'sleep', 'slip',\n",
       "       'slow', 'small', 'smell', 'smile', 'smoke', 'snow', 'so', 'soap',\n",
       "       'sock', 'soft', 'some', 'someone', 'something', 'sometimes', 'son',\n",
       "       'soon', 'sorry', 'sound', 'soup', 'south', 'space', 'speak',\n",
       "       'special', 'speed', 'spell', 'spend', 'spoon', 'sport', 'spread',\n",
       "       'spring', 'square', 'stamp', 'stand', 'star', 'start', 'station',\n",
       "       'stay', 'steal', 'steam', 'step', 'still', 'stomach', 'stone',\n",
       "       'stop', 'store', 'storm', 'story', 'strange', 'street', 'strong',\n",
       "       'structure', 'student', 'study', 'stupid', 'subject', 'substance',\n",
       "       'successful', 'such', 'sudden', 'sugar', 'suitable', 'summer',\n",
       "       'sun', 'sunny', 'support', 'sure', 'surprise', 'sweet', 'swim',\n",
       "       'sword', 'table', 'take', 'talk', 'tall', 'taste', 'taxi', 'tea',\n",
       "       'teach', 'team', 'tear', 'telephone', 'television', 'tell', 'ten',\n",
       "       'tennis', 'terrible', 'test', 'than', 'that', 'the', 'their',\n",
       "       'then', 'there', 'therefore', 'these', 'thick', 'thin', 'thing',\n",
       "       'think', 'third', 'this', 'though', 'threat', 'three', 'tidy',\n",
       "       'tie', 'title', 'to', 'today', 'toe', 'together', 'tomorrow',\n",
       "       'tonight', 'too', 'tool', 'tooth', 'top', 'total', 'touch', 'town',\n",
       "       'train', 'tram', 'travel', 'tree', 'trouble', 'true', 'trust',\n",
       "       'twice', 'try', 'turn', 'type', 'ugly', 'uncle', 'under',\n",
       "       'understand', 'unit', 'until', 'up', 'use', 'useful', 'usual',\n",
       "       'usually', 'vegetable', 'very', 'village', 'voice', 'visit',\n",
       "       'wait', 'wake', 'walk', 'want', 'warm', 'was', 'wash', 'waste',\n",
       "       'watch', 'water', 'way', 'we', 'weak', 'wear', 'weather',\n",
       "       'wedding', 'week', 'weight', 'welcome', 'were', 'well', 'west',\n",
       "       'wet', 'what', 'wheel', 'when', 'where', 'which', 'while', 'white',\n",
       "       'who', 'why', 'wide', 'wife', 'wild', 'will', 'win', 'wind',\n",
       "       'window', 'wine', 'winter', 'wire', 'wise', 'wish', 'with',\n",
       "       'without', 'woman', 'wonder', 'word', 'work', 'world', 'worry',\n",
       "       'yard', 'yell', 'yesterday', 'yet', 'you', 'young', 'your', 'zero',\n",
       "       'zoo.'], dtype='|S11')"
      ]
     },
     "execution_count": 127,
     "metadata": {},
     "output_type": "execute_result"
    }
   ],
   "source": [
    "words"
   ]
  },
  {
   "cell_type": "markdown",
   "metadata": {
    "collapsed": true
   },
   "source": [
    "##### Ищем ближайшие k слова к картинке, а потом смотрим, встретилась ли в топе близких к этим словам k картинкам, исходная картинка"
   ]
  },
  {
   "cell_type": "code",
   "execution_count": 128,
   "metadata": {},
   "outputs": [
    {
     "name": "stdout",
     "output_type": "stream",
     "text": [
      "5\n",
      "10\n"
     ]
    }
   ],
   "source": [
    "tmp_is_pic_near_pic = []\n",
    "k_range = [5,10]\n",
    "k_mean = []\n",
    "for k in k_range:\n",
    "    print k\n",
    "    for ind_pic in range(len(img_list)):\n",
    "        ind_pic = 0\n",
    "        mse_picture = np.array([mean_squared_error(image_vectors[ind_pic], x)\n",
    "                                for x in words_vectors])\n",
    "        idx_words = np.argpartition(mse_picture, k)\n",
    "        is_pic_near_pic = []\n",
    "        for ind_word in list(idx_words[:k]):\n",
    "            mse_words = np.array([mean_squared_error(words_vectors_f30k[ind_word], x)\n",
    "                                for x in image_vectors_f30k])\n",
    "            idx_images = np.argpartition(mse_words, k)[:k]\n",
    "            tmp_is_pic_near_pic.append(ind_pic in idx_images)\n",
    "        is_pic_near_pic = np.mean(tmp_is_pic_near_pic)\n",
    "    k_mean.append(np.mean(tmp_is_pic_near_pic))"
   ]
  },
  {
   "cell_type": "code",
   "execution_count": 129,
   "metadata": {
    "collapsed": true
   },
   "outputs": [
    {
     "data": {
      "image/png": "[encoded data removed]",
      "text/plain": [
       "<matplotlib.figure.Figure at 0x7fc5675b9290>"
      ]
     },
     "metadata": {},
     "output_type": "display_data"
    }
   ],
   "source": [
    "plt.plot(k_range, k_mean)\n",
    "plt.title('The proportion of images meet in the top-k images \\n for the nearest top-k words \\n images-words - f30k, words-images -coco')\n",
    "plt.xlabel('k')\n",
    "plt.ylabel('Proportion')\n",
    "plt.show()\n"
   ]
  },
  {
   "cell_type": "markdown",
   "metadata": {},
   "source": [
    "### Пишем сетку"
   ]
  },
  {
   "cell_type": "markdown",
   "metadata": {},
   "source": [
    "Берем 5 случайных картинок, из них выбираем одну\n",
    "\n",
    "1) y - ohe номера картинки. \n",
    "\n",
    "2) X1 -  расстояние от картинки до топ 5 слов( часть речи, длина этих слов, сколько раз эти слова встречаются в топ-5 других картинок)\n",
    "\n",
    "3) X2 - расстояние от полученного среднего вектора слов до 5 картинок, сколько раз картинки встречаются в топ-5 этих слов\n",
    "\n",
    "4) Лосс - логлосс при обучении 2 игрока, при обучении 1 игрока - 1.5*p*(1-p)*(1-p) + p*p*(1-p)*1.5\n",
    "\n",
    "\n"
   ]
  },
  {
   "cell_type": "markdown",
   "metadata": {},
   "source": [
    "### Строим модель"
   ]
  },
  {
   "cell_type": "markdown",
   "metadata": {},
   "source": [
    "Матрица, в какой доле картинок слово в топ-5, расстояния от картинкок до слов"
   ]
  },
  {
   "cell_type": "code",
   "execution_count": 212,
   "metadata": {
    "collapsed": true
   },
   "outputs": [],
   "source": [
    "k = 10\n",
    "idx_images_array = []\n",
    "mse_images_array = []\n",
    "mse_images_top_array = []\n",
    "for i in range(len(words_vectors)):\n",
    "    mse_words = np.array([mean_squared_error(words_vectors[i], x)\n",
    "                                    for x in image_vectors])\n",
    "    idx_images = np.argpartition(mse_words, k)[:k]\n",
    "    idx_images_array.append([1 if x in idx_images else 0 for x in range(len(mse_words))])\n",
    "    mse_images_array.append(mse_words)\n",
    "    mse_images_top_array.append(mse_words[idx_images])\n",
    "idx_images_array = np.array(idx_images_array)\n",
    "mse_images_array = np.array(mse_images_array)\n",
    "mse_images_top_array = np.array(mse_images_top_array)"
   ]
  },
  {
   "cell_type": "code",
   "execution_count": 216,
   "metadata": {},
   "outputs": [
    {
     "data": {
      "text/plain": [
       "'bridge'"
      ]
     },
     "execution_count": 216,
     "metadata": {},
     "output_type": "execute_result"
    }
   ],
   "source": [
    "i = 106\n",
    "words[i]"
   ]
  },
  {
   "cell_type": "code",
   "execution_count": 217,
   "metadata": {},
   "outputs": [
    {
     "data": {
      "image/png": "[encoded data removed]",
      "text/plain": [
       "<PIL.Image.Image image mode=RGB size=224x224 at 0x7FC56A365A10>"
      ]
     },
     "execution_count": 217,
     "metadata": {},
     "output_type": "execute_result"
    }
   ],
   "source": [
    "idx_images_array1 = np.array([mean_squared_error(words_vectors[i], x)\n",
    "                                    for x in image_vectors])\n",
    "ind = np.argpartition(idx_images_array1, k)[:k]\n",
    "img_list[ind[0]]"
   ]
  },
  {
   "cell_type": "code",
   "execution_count": 218,
   "metadata": {
    "collapsed": true
   },
   "outputs": [],
   "source": [
    "norm_idx_images_array = idx_images_array.sum(axis = 0) / float(idx_images_array.sum())"
   ]
  },
  {
   "cell_type": "markdown",
   "metadata": {},
   "source": [
    "Матрица, в какой доле слов, эта картинка в топ-5"
   ]
  },
  {
   "cell_type": "code",
   "execution_count": 219,
   "metadata": {
    "collapsed": true
   },
   "outputs": [],
   "source": [
    "k = 10\n",
    "idx_words_array = []\n",
    "mse_words_array = []\n",
    "mse_words_top_array = []\n",
    "for i in range(len(image_vectors)):\n",
    "    mse_words = np.array([mean_squared_error(image_vectors[i], x)\n",
    "                                    for x in words_vectors])\n",
    "    idx_words = np.argpartition(mse_words, k)[:k]\n",
    "    idx_words_array.append([1 if x in idx_words else 0 for x in range(len(mse_words))])\n",
    "    mse_words_array.append(mse_words)\n",
    "    mse_words_top_array.append(mse_words[idx_words])\n",
    "idx_words_array = np.array(idx_words_array)\n",
    "mse_words_array = np.array(mse_words_array)\n",
    "mse_words_top_array = np.array(mse_words_top_array)"
   ]
  },
  {
   "cell_type": "code",
   "execution_count": 220,
   "metadata": {},
   "outputs": [
    {
     "data": {
      "text/plain": [
       "(array([ 39,  76, 240, 317, 503, 560, 610, 778, 824, 995]),)"
      ]
     },
     "execution_count": 220,
     "metadata": {},
     "output_type": "execute_result"
    }
   ],
   "source": [
    "np.where(idx_words_array[0]==1)"
   ]
  },
  {
   "cell_type": "code",
   "execution_count": 221,
   "metadata": {
    "collapsed": true
   },
   "outputs": [],
   "source": [
    "norm_idx_words_array = idx_words_array.sum(axis = 0) / float(idx_words_array.sum())"
   ]
  },
  {
   "cell_type": "markdown",
   "metadata": {},
   "source": [
    "### Обучающая выборка"
   ]
  },
  {
   "cell_type": "code",
   "execution_count": 222,
   "metadata": {
    "collapsed": true
   },
   "outputs": [],
   "source": [
    "X_ind, y_ind, y, X1 = [], [], [], []\n",
    "X_img_freq = []\n",
    "num_samples = 100000\n",
    "k = 10\n",
    "for i in range(num_samples):\n",
    "    X_ind.append(np.array(sample(range(1,len(img_list)), k)))\n",
    "    y_ind.append(sample(X_ind[i], 1))\n",
    "    y.append(np.array([1 if x==y_ind[i] else 0 for x in X_ind[i]]))\n",
    "    dist_words = mse_words_top_array[y_ind[i]]\n",
    "    freq_word = norm_idx_words_array[np.where(idx_words_array[0]==1)]\n",
    "    X1.append(np.concatenate([dist_words.reshape(k,1), freq_word.reshape(k,1)], axis = 1))\n",
    "    freq_image = norm_idx_images_array[np.where(idx_images_array[0]==1)]\n",
    "    X_img_freq.append(freq_word)"
   ]
  },
  {
   "cell_type": "code",
   "execution_count": 223,
   "metadata": {},
   "outputs": [
    {
     "data": {
      "text/plain": [
       "array([[0, 0, 0, ..., 0, 0, 0],\n",
       "       [0, 0, 0, ..., 0, 0, 0],\n",
       "       [0, 0, 0, ..., 0, 0, 0],\n",
       "       ...,\n",
       "       [1, 0, 0, ..., 0, 0, 0],\n",
       "       [0, 0, 1, ..., 0, 0, 0],\n",
       "       [0, 0, 0, ..., 0, 0, 0]])"
      ]
     },
     "execution_count": 223,
     "metadata": {},
     "output_type": "execute_result"
    }
   ],
   "source": [
    "idx_images_array"
   ]
  },
  {
   "cell_type": "code",
   "execution_count": 224,
   "metadata": {
    "collapsed": true
   },
   "outputs": [],
   "source": [
    "X2 = image_vectors[X_ind].reshape(num_samples,1024,k)\n",
    "X1 = np.array(X1).reshape(num_samples,2,k)\n",
    "y = np.array(y).reshape(num_samples,1,k)\n",
    "X3 = X2.reshape(num_samples,k,1024)\n",
    "X30 = X3[:,0,:].reshape(num_samples,1024)\n",
    "X31 = X3[:,1,:].reshape(num_samples,1024)\n",
    "X_img_freq = np.array(X_img_freq)"
   ]
  },
  {
   "cell_type": "code",
   "execution_count": 225,
   "metadata": {
    "collapsed": true
   },
   "outputs": [],
   "source": [
    "def mean_squared_error_keras(y_true, y_pred):\n",
    "    return K.mean(K.square(y_pred - y_true), axis=2)"
   ]
  },
  {
   "cell_type": "markdown",
   "metadata": {},
   "source": [
    "### Сетка, которая пока просто подбирает идеальное слово под случайно выбранную картинку для 1 агента,  а потом 2 агент просто выбирает ближайшее слово (или учит как выбирать dense слоем (тоже такой штраф за небанальность))"
   ]
  },
  {
   "cell_type": "code",
   "execution_count": 377,
   "metadata": {
    "collapsed": true
   },
   "outputs": [],
   "source": [
    "k = 10\n",
    "from keras.models import Model\n",
    "import keras.backend as K\n",
    "from keras.layers import Conv1D, Reshape, Conv2D,Input, Dense, dot, multiply, add, concatenate, Lambda\n",
    "# Сетка, которая пока просто подбирает идеальное слово под случайно выбранную картинку для 1 агента, \n",
    "# а потом 2 агент просто выбирает ближайшее слово\n",
    "\n",
    "# Входы 10 ближайших пар, заранее сгенерированные расстояния между ближайшими словами и картинками, и частоту топ 10 \n",
    "# близости каждого слова к ближайшим 10 картинкам\n",
    "inputs1 = Input(shape=(2,k))\n",
    "# Эмбеддинги для слов\n",
    "inputs2 = Input(shape=(1024,k))\n",
    "inputs21 = Input(shape=(k,1024))\n",
    "# OHE-вектор, какое слово было истинным\n",
    "inputs3 = Input(shape=(1,k))\n",
    "#  Учим свертку, которая делает штраф-поощрения за банальность (дистанция между словами, попсовость слов)\n",
    "# На выходе получили веса для каждого слова\n",
    "conv1d = Conv1D(k, (2), activation='softmax', padding = 'valid')(inputs1)\n",
    "#predictions = Dense(5, activation='softmax')(conv1d)\n",
    "# усредняем слова с весами, выученными сверткой\n",
    "merge_layer = multiply([conv1d, inputs2])\n",
    "# делаем повтор, чтобы потом считать новые минимальные дистанции\n",
    "sum_layer = Lambda(lambda x: K.repeat(K.sum(x, axis = 2), k), output_shape=(1024, k))(merge_layer)\n",
    "\n",
    "# считаем разницу между полученными средними одного и другого\n",
    "distance_layer = Lambda(lambda x: mean_squared_error_keras(x[0], x[1]),\n",
    "                        output_shape=(1,k))([inputs21, sum_layer])\n",
    "#features_img = concatenate([distance_layer, inputs3], axis = 1)\n",
    "#output = Conv1D(5, (2), activation='softmax', padding = 'valid')(features_img)\n",
    "\n",
    "# Выбираем правильный ответ (аналог агента)\n",
    "output = Dense(k, activation='softmax')(distance_layer)\n",
    "\n",
    "#подбираем картинки\n",
    "model_keras = Model(inputs=[inputs1, inputs2, inputs21], outputs=output)\n",
    "model_keras.compile(optimizer='rmsprop',\n",
    "              loss='categorical_crossentropy',\n",
    "              metrics=['accuracy'])\n",
    "\n",
    "\n",
    "\n"
   ]
  },
  {
   "cell_type": "code",
   "execution_count": 227,
   "metadata": {
    "collapsed": true
   },
   "outputs": [
    {
     "name": "stdout",
     "output_type": "stream",
     "text": [
      "Epoch 1/1000\n",
      "100000/100000 [==============================] - 50s 501us/step - loss: 115.1310 - acc: 0.0975\n",
      "Epoch 2/1000\n",
      "100000/100000 [==============================] - 53s 531us/step - loss: 115.1301 - acc: 0.1005\n",
      "Epoch 3/1000\n",
      "100000/100000 [==============================] - 49s 491us/step - loss: 115.1300 - acc: 0.1011\n",
      "Epoch 4/1000\n",
      "100000/100000 [==============================] - 52s 516us/step - loss: 115.1304 - acc: 0.1004\n",
      "Epoch 5/1000\n",
      "100000/100000 [==============================] - 51s 509us/step - loss: 115.1299 - acc: 0.1008\n",
      "Epoch 6/1000\n",
      "100000/100000 [==============================] - 54s 537us/step - loss: 115.1306 - acc: 0.1014\n",
      "Epoch 7/1000\n",
      "100000/100000 [==============================] - 52s 517us/step - loss: 115.1296 - acc: 0.1010\n",
      "Epoch 8/1000\n",
      " 10000/100000 [==>...........................] - ETA: 42s - loss: 115.1346 - acc: 0.0947"
     ]
    },
    {
     "ename": "KeyboardInterrupt",
     "evalue": "",
     "output_type": "error",
     "traceback": [
      "\u001b[0;31m---------------------------------------------------------------------------\u001b[0m",
      "\u001b[0;31mKeyboardInterrupt\u001b[0m                         Traceback (most recent call last)",
      "\u001b[0;32m<ipython-input-227-5039e01a4d8b>\u001b[0m in \u001b[0;36m<module>\u001b[0;34m()\u001b[0m\n\u001b[1;32m      1\u001b[0m model_keras.fit([X1, X2, X2.reshape(num_samples, k,1024)],y, epochs = 1000, \n\u001b[0;32m----> 2\u001b[0;31m                 verbose = True, batch_size = 500, )\n\u001b[0m",
      "\u001b[0;32m/usr/local/lib/python2.7/dist-packages/keras/engine/training.pyc\u001b[0m in \u001b[0;36mfit\u001b[0;34m(self, x, y, batch_size, epochs, verbose, callbacks, validation_split, validation_data, shuffle, class_weight, sample_weight, initial_epoch, steps_per_epoch, validation_steps, **kwargs)\u001b[0m\n\u001b[1;32m   1703\u001b[0m                               \u001b[0minitial_epoch\u001b[0m\u001b[0;34m=\u001b[0m\u001b[0minitial_epoch\u001b[0m\u001b[0;34m,\u001b[0m\u001b[0;34m\u001b[0m\u001b[0m\n\u001b[1;32m   1704\u001b[0m                               \u001b[0msteps_per_epoch\u001b[0m\u001b[0;34m=\u001b[0m\u001b[0msteps_per_epoch\u001b[0m\u001b[0;34m,\u001b[0m\u001b[0;34m\u001b[0m\u001b[0m\n\u001b[0;32m-> 1705\u001b[0;31m                               validation_steps=validation_steps)\n\u001b[0m\u001b[1;32m   1706\u001b[0m \u001b[0;34m\u001b[0m\u001b[0m\n\u001b[1;32m   1707\u001b[0m     def evaluate(self, x=None, y=None,\n",
      "\u001b[0;32m/usr/local/lib/python2.7/dist-packages/keras/engine/training.pyc\u001b[0m in \u001b[0;36m_fit_loop\u001b[0;34m(self, f, ins, out_labels, batch_size, epochs, verbose, callbacks, val_f, val_ins, shuffle, callback_metrics, initial_epoch, steps_per_epoch, validation_steps)\u001b[0m\n\u001b[1;32m   1234\u001b[0m                         \u001b[0mins_batch\u001b[0m\u001b[0;34m[\u001b[0m\u001b[0mi\u001b[0m\u001b[0;34m]\u001b[0m \u001b[0;34m=\u001b[0m \u001b[0mins_batch\u001b[0m\u001b[0;34m[\u001b[0m\u001b[0mi\u001b[0m\u001b[0;34m]\u001b[0m\u001b[0;34m.\u001b[0m\u001b[0mtoarray\u001b[0m\u001b[0;34m(\u001b[0m\u001b[0;34m)\u001b[0m\u001b[0;34m\u001b[0m\u001b[0m\n\u001b[1;32m   1235\u001b[0m \u001b[0;34m\u001b[0m\u001b[0m\n\u001b[0;32m-> 1236\u001b[0;31m                     \u001b[0mouts\u001b[0m \u001b[0;34m=\u001b[0m \u001b[0mf\u001b[0m\u001b[0;34m(\u001b[0m\u001b[0mins_batch\u001b[0m\u001b[0;34m)\u001b[0m\u001b[0;34m\u001b[0m\u001b[0m\n\u001b[0m\u001b[1;32m   1237\u001b[0m                     \u001b[0;32mif\u001b[0m \u001b[0;32mnot\u001b[0m \u001b[0misinstance\u001b[0m\u001b[0;34m(\u001b[0m\u001b[0mouts\u001b[0m\u001b[0;34m,\u001b[0m \u001b[0mlist\u001b[0m\u001b[0;34m)\u001b[0m\u001b[0;34m:\u001b[0m\u001b[0;34m\u001b[0m\u001b[0m\n\u001b[1;32m   1238\u001b[0m                         \u001b[0mouts\u001b[0m \u001b[0;34m=\u001b[0m \u001b[0;34m[\u001b[0m\u001b[0mouts\u001b[0m\u001b[0;34m]\u001b[0m\u001b[0;34m\u001b[0m\u001b[0m\n",
      "\u001b[0;32m/usr/local/lib/python2.7/dist-packages/keras/backend/tensorflow_backend.pyc\u001b[0m in \u001b[0;36m__call__\u001b[0;34m(self, inputs)\u001b[0m\n\u001b[1;32m   2480\u001b[0m         \u001b[0msession\u001b[0m \u001b[0;34m=\u001b[0m \u001b[0mget_session\u001b[0m\u001b[0;34m(\u001b[0m\u001b[0;34m)\u001b[0m\u001b[0;34m\u001b[0m\u001b[0m\n\u001b[1;32m   2481\u001b[0m         updated = session.run(fetches=fetches, feed_dict=feed_dict,\n\u001b[0;32m-> 2482\u001b[0;31m                               **self.session_kwargs)\n\u001b[0m\u001b[1;32m   2483\u001b[0m         \u001b[0;32mreturn\u001b[0m \u001b[0mupdated\u001b[0m\u001b[0;34m[\u001b[0m\u001b[0;34m:\u001b[0m\u001b[0mlen\u001b[0m\u001b[0;34m(\u001b[0m\u001b[0mself\u001b[0m\u001b[0;34m.\u001b[0m\u001b[0moutputs\u001b[0m\u001b[0;34m)\u001b[0m\u001b[0;34m]\u001b[0m\u001b[0;34m\u001b[0m\u001b[0m\n\u001b[1;32m   2484\u001b[0m \u001b[0;34m\u001b[0m\u001b[0m\n",
      "\u001b[0;32m/usr/local/lib/python2.7/dist-packages/tensorflow/python/client/session.pyc\u001b[0m in \u001b[0;36mrun\u001b[0;34m(self, fetches, feed_dict, options, run_metadata)\u001b[0m\n\u001b[1;32m    898\u001b[0m     \u001b[0;32mtry\u001b[0m\u001b[0;34m:\u001b[0m\u001b[0;34m\u001b[0m\u001b[0m\n\u001b[1;32m    899\u001b[0m       result = self._run(None, fetches, feed_dict, options_ptr,\n\u001b[0;32m--> 900\u001b[0;31m                          run_metadata_ptr)\n\u001b[0m\u001b[1;32m    901\u001b[0m       \u001b[0;32mif\u001b[0m \u001b[0mrun_metadata\u001b[0m\u001b[0;34m:\u001b[0m\u001b[0;34m\u001b[0m\u001b[0m\n\u001b[1;32m    902\u001b[0m         \u001b[0mproto_data\u001b[0m \u001b[0;34m=\u001b[0m \u001b[0mtf_session\u001b[0m\u001b[0;34m.\u001b[0m\u001b[0mTF_GetBuffer\u001b[0m\u001b[0;34m(\u001b[0m\u001b[0mrun_metadata_ptr\u001b[0m\u001b[0;34m)\u001b[0m\u001b[0;34m\u001b[0m\u001b[0m\n",
      "\u001b[0;32m/usr/local/lib/python2.7/dist-packages/tensorflow/python/client/session.pyc\u001b[0m in \u001b[0;36m_run\u001b[0;34m(self, handle, fetches, feed_dict, options, run_metadata)\u001b[0m\n\u001b[1;32m   1133\u001b[0m     \u001b[0;32mif\u001b[0m \u001b[0mfinal_fetches\u001b[0m \u001b[0;32mor\u001b[0m \u001b[0mfinal_targets\u001b[0m \u001b[0;32mor\u001b[0m \u001b[0;34m(\u001b[0m\u001b[0mhandle\u001b[0m \u001b[0;32mand\u001b[0m \u001b[0mfeed_dict_tensor\u001b[0m\u001b[0;34m)\u001b[0m\u001b[0;34m:\u001b[0m\u001b[0;34m\u001b[0m\u001b[0m\n\u001b[1;32m   1134\u001b[0m       results = self._do_run(handle, final_targets, final_fetches,\n\u001b[0;32m-> 1135\u001b[0;31m                              feed_dict_tensor, options, run_metadata)\n\u001b[0m\u001b[1;32m   1136\u001b[0m     \u001b[0;32melse\u001b[0m\u001b[0;34m:\u001b[0m\u001b[0;34m\u001b[0m\u001b[0m\n\u001b[1;32m   1137\u001b[0m       \u001b[0mresults\u001b[0m \u001b[0;34m=\u001b[0m \u001b[0;34m[\u001b[0m\u001b[0;34m]\u001b[0m\u001b[0;34m\u001b[0m\u001b[0m\n",
      "\u001b[0;32m/usr/local/lib/python2.7/dist-packages/tensorflow/python/client/session.pyc\u001b[0m in \u001b[0;36m_do_run\u001b[0;34m(self, handle, target_list, fetch_list, feed_dict, options, run_metadata)\u001b[0m\n\u001b[1;32m   1314\u001b[0m     \u001b[0;32mif\u001b[0m \u001b[0mhandle\u001b[0m \u001b[0;32mis\u001b[0m \u001b[0mNone\u001b[0m\u001b[0;34m:\u001b[0m\u001b[0;34m\u001b[0m\u001b[0m\n\u001b[1;32m   1315\u001b[0m       return self._do_call(_run_fn, feeds, fetches, targets, options,\n\u001b[0;32m-> 1316\u001b[0;31m                            run_metadata)\n\u001b[0m\u001b[1;32m   1317\u001b[0m     \u001b[0;32melse\u001b[0m\u001b[0;34m:\u001b[0m\u001b[0;34m\u001b[0m\u001b[0m\n\u001b[1;32m   1318\u001b[0m       \u001b[0;32mreturn\u001b[0m \u001b[0mself\u001b[0m\u001b[0;34m.\u001b[0m\u001b[0m_do_call\u001b[0m\u001b[0;34m(\u001b[0m\u001b[0m_prun_fn\u001b[0m\u001b[0;34m,\u001b[0m \u001b[0mhandle\u001b[0m\u001b[0;34m,\u001b[0m \u001b[0mfeeds\u001b[0m\u001b[0;34m,\u001b[0m \u001b[0mfetches\u001b[0m\u001b[0;34m)\u001b[0m\u001b[0;34m\u001b[0m\u001b[0m\n",
      "\u001b[0;32m/usr/local/lib/python2.7/dist-packages/tensorflow/python/client/session.pyc\u001b[0m in \u001b[0;36m_do_call\u001b[0;34m(self, fn, *args)\u001b[0m\n\u001b[1;32m   1320\u001b[0m   \u001b[0;32mdef\u001b[0m \u001b[0m_do_call\u001b[0m\u001b[0;34m(\u001b[0m\u001b[0mself\u001b[0m\u001b[0;34m,\u001b[0m \u001b[0mfn\u001b[0m\u001b[0;34m,\u001b[0m \u001b[0;34m*\u001b[0m\u001b[0margs\u001b[0m\u001b[0;34m)\u001b[0m\u001b[0;34m:\u001b[0m\u001b[0;34m\u001b[0m\u001b[0m\n\u001b[1;32m   1321\u001b[0m     \u001b[0;32mtry\u001b[0m\u001b[0;34m:\u001b[0m\u001b[0;34m\u001b[0m\u001b[0m\n\u001b[0;32m-> 1322\u001b[0;31m       \u001b[0;32mreturn\u001b[0m \u001b[0mfn\u001b[0m\u001b[0;34m(\u001b[0m\u001b[0;34m*\u001b[0m\u001b[0margs\u001b[0m\u001b[0;34m)\u001b[0m\u001b[0;34m\u001b[0m\u001b[0m\n\u001b[0m\u001b[1;32m   1323\u001b[0m     \u001b[0;32mexcept\u001b[0m \u001b[0merrors\u001b[0m\u001b[0;34m.\u001b[0m\u001b[0mOpError\u001b[0m \u001b[0;32mas\u001b[0m \u001b[0me\u001b[0m\u001b[0;34m:\u001b[0m\u001b[0;34m\u001b[0m\u001b[0m\n\u001b[1;32m   1324\u001b[0m       \u001b[0mmessage\u001b[0m \u001b[0;34m=\u001b[0m \u001b[0mcompat\u001b[0m\u001b[0;34m.\u001b[0m\u001b[0mas_text\u001b[0m\u001b[0;34m(\u001b[0m\u001b[0me\u001b[0m\u001b[0;34m.\u001b[0m\u001b[0mmessage\u001b[0m\u001b[0;34m)\u001b[0m\u001b[0;34m\u001b[0m\u001b[0m\n",
      "\u001b[0;32m/usr/local/lib/python2.7/dist-packages/tensorflow/python/client/session.pyc\u001b[0m in \u001b[0;36m_run_fn\u001b[0;34m(feed_dict, fetch_list, target_list, options, run_metadata)\u001b[0m\n\u001b[1;32m   1305\u001b[0m       \u001b[0mself\u001b[0m\u001b[0;34m.\u001b[0m\u001b[0m_extend_graph\u001b[0m\u001b[0;34m(\u001b[0m\u001b[0;34m)\u001b[0m\u001b[0;34m\u001b[0m\u001b[0m\n\u001b[1;32m   1306\u001b[0m       return self._call_tf_sessionrun(\n\u001b[0;32m-> 1307\u001b[0;31m           options, feed_dict, fetch_list, target_list, run_metadata)\n\u001b[0m\u001b[1;32m   1308\u001b[0m \u001b[0;34m\u001b[0m\u001b[0m\n\u001b[1;32m   1309\u001b[0m     \u001b[0;32mdef\u001b[0m \u001b[0m_prun_fn\u001b[0m\u001b[0;34m(\u001b[0m\u001b[0mhandle\u001b[0m\u001b[0;34m,\u001b[0m \u001b[0mfeed_dict\u001b[0m\u001b[0;34m,\u001b[0m \u001b[0mfetch_list\u001b[0m\u001b[0;34m)\u001b[0m\u001b[0;34m:\u001b[0m\u001b[0;34m\u001b[0m\u001b[0m\n",
      "\u001b[0;32m/usr/local/lib/python2.7/dist-packages/tensorflow/python/client/session.pyc\u001b[0m in \u001b[0;36m_call_tf_sessionrun\u001b[0;34m(self, options, feed_dict, fetch_list, target_list, run_metadata)\u001b[0m\n\u001b[1;32m   1407\u001b[0m       return tf_session.TF_SessionRun_wrapper(\n\u001b[1;32m   1408\u001b[0m           \u001b[0mself\u001b[0m\u001b[0;34m.\u001b[0m\u001b[0m_session\u001b[0m\u001b[0;34m,\u001b[0m \u001b[0moptions\u001b[0m\u001b[0;34m,\u001b[0m \u001b[0mfeed_dict\u001b[0m\u001b[0;34m,\u001b[0m \u001b[0mfetch_list\u001b[0m\u001b[0;34m,\u001b[0m \u001b[0mtarget_list\u001b[0m\u001b[0;34m,\u001b[0m\u001b[0;34m\u001b[0m\u001b[0m\n\u001b[0;32m-> 1409\u001b[0;31m           run_metadata)\n\u001b[0m\u001b[1;32m   1410\u001b[0m     \u001b[0;32melse\u001b[0m\u001b[0;34m:\u001b[0m\u001b[0;34m\u001b[0m\u001b[0m\n\u001b[1;32m   1411\u001b[0m       \u001b[0;32mwith\u001b[0m \u001b[0merrors\u001b[0m\u001b[0;34m.\u001b[0m\u001b[0mraise_exception_on_not_ok_status\u001b[0m\u001b[0;34m(\u001b[0m\u001b[0;34m)\u001b[0m \u001b[0;32mas\u001b[0m \u001b[0mstatus\u001b[0m\u001b[0;34m:\u001b[0m\u001b[0;34m\u001b[0m\u001b[0m\n",
      "\u001b[0;31mKeyboardInterrupt\u001b[0m: "
     ]
    }
   ],
   "source": [
    "model_keras.fit([X1, X2, X2.reshape(num_samples, k,1024)],y, epochs = 10, \n",
    "                verbose = True, batch_size = 500, )"
   ]
  },
  {
   "cell_type": "markdown",
   "metadata": {},
   "source": [
    "#### Отрисовать сетку"
   ]
  },
  {
   "cell_type": "code",
   "execution_count": 405,
   "metadata": {
    "collapsed": true
   },
   "outputs": [
    {
     "data": {
      "image/svg+xml": [
       "<svg height=\"712pt\" viewBox=\"0.00 0.00 578.00 712.00\" width=\"578pt\" xmlns=\"http://www.w3.org/2000/svg\" xmlns:xlink=\"http://www.w3.org/1999/xlink\">\n",
       "<g class=\"graph\" id=\"graph0\" transform=\"scale(1 1) rotate(0) translate(4 708)\">\n",
       "<title>G</title>\n",
       "<polygon fill=\"white\" points=\"-4,4 -4,-708 574,-708 574,4 -4,4\" stroke=\"none\"/>\n",
       "<!-- 140485396595536 -->\n",
       "<g class=\"node\" id=\"node1\"><title>140485396595536</title>\n",
       "<polygon fill=\"none\" points=\"0,-667 0,-703 178,-703 178,-667 0,-667\" stroke=\"black\"/>\n",
       "<text font-family=\"Times,serif\" font-size=\"14.00\" text-anchor=\"middle\" x=\"89\" y=\"-681.3\">input_174: InputLayer</text>\n",
       "</g>\n",
       "<!-- 140485396596560 -->\n",
       "<g class=\"node\" id=\"node4\"><title>140485396596560</title>\n",
       "<polygon fill=\"none\" points=\"216.5,-593 216.5,-629 353.5,-629 353.5,-593 216.5,-593\" stroke=\"black\"/>\n",
       "<text font-family=\"Times,serif\" font-size=\"14.00\" text-anchor=\"middle\" x=\"285\" y=\"-607.3\">dense_61: Dense</text>\n",
       "</g>\n",
       "<!-- 140485396595536&#45;&gt;140485396596560 -->\n",
       "<g class=\"edge\" id=\"edge3\"><title>140485396595536-&gt;140485396596560</title>\n",
       "<path d=\"M135.449,-666.937C163.418,-656.663 199.219,-643.511 228.78,-632.652\" fill=\"none\" stroke=\"black\"/>\n",
       "<polygon fill=\"black\" points=\"230.365,-635.799 238.545,-629.065 227.951,-629.228 230.365,-635.799\" stroke=\"black\"/>\n",
       "</g>\n",
       "<!-- 140485396595728 -->\n",
       "<g class=\"node\" id=\"node2\"><title>140485396595728</title>\n",
       "<polygon fill=\"none\" points=\"196,-667 196,-703 374,-703 374,-667 196,-667\" stroke=\"black\"/>\n",
       "<text font-family=\"Times,serif\" font-size=\"14.00\" text-anchor=\"middle\" x=\"285\" y=\"-681.3\">input_175: InputLayer</text>\n",
       "</g>\n",
       "<!-- 140485396595728&#45;&gt;140485396596560 -->\n",
       "<g class=\"edge\" id=\"edge1\"><title>140485396595728-&gt;140485396596560</title>\n",
       "<path d=\"M285,-666.937C285,-658.807 285,-648.876 285,-639.705\" fill=\"none\" stroke=\"black\"/>\n",
       "<polygon fill=\"black\" points=\"288.5,-639.441 285,-629.441 281.5,-639.441 288.5,-639.441\" stroke=\"black\"/>\n",
       "</g>\n",
       "<!-- 140485396596176 -->\n",
       "<g class=\"node\" id=\"node3\"><title>140485396596176</title>\n",
       "<polygon fill=\"none\" points=\"392,-667 392,-703 570,-703 570,-667 392,-667\" stroke=\"black\"/>\n",
       "<text font-family=\"Times,serif\" font-size=\"14.00\" text-anchor=\"middle\" x=\"481\" y=\"-681.3\">input_176: InputLayer</text>\n",
       "</g>\n",
       "<!-- 140485396596176&#45;&gt;140485396596560 -->\n",
       "<g class=\"edge\" id=\"edge2\"><title>140485396596176-&gt;140485396596560</title>\n",
       "<path d=\"M434.551,-666.937C406.582,-656.663 370.781,-643.511 341.22,-632.652\" fill=\"none\" stroke=\"black\"/>\n",
       "<polygon fill=\"black\" points=\"342.049,-629.228 331.455,-629.065 339.635,-635.799 342.049,-629.228\" stroke=\"black\"/>\n",
       "</g>\n",
       "<!-- 140485396278800 -->\n",
       "<g class=\"node\" id=\"node5\"><title>140485396278800</title>\n",
       "<polygon fill=\"none\" points=\"63.5,-519 63.5,-555 224.5,-555 224.5,-519 63.5,-519\" stroke=\"black\"/>\n",
       "<text font-family=\"Times,serif\" font-size=\"14.00\" text-anchor=\"middle\" x=\"144\" y=\"-533.3\">lambda_53: Lambda</text>\n",
       "</g>\n",
       "<!-- 140485396596560&#45;&gt;140485396278800 -->\n",
       "<g class=\"edge\" id=\"edge4\"><title>140485396596560-&gt;140485396278800</title>\n",
       "<path d=\"M251.585,-592.937C232.148,-583.012 207.453,-570.401 186.626,-559.766\" fill=\"none\" stroke=\"black\"/>\n",
       "<polygon fill=\"black\" points=\"188.162,-556.621 177.664,-555.19 184.978,-562.855 188.162,-556.621\" stroke=\"black\"/>\n",
       "</g>\n",
       "<!-- 140485396466192 -->\n",
       "<g class=\"node\" id=\"node8\"><title>140485396466192</title>\n",
       "<polygon fill=\"none\" points=\"159.5,-445 159.5,-481 328.5,-481 328.5,-445 159.5,-445\" stroke=\"black\"/>\n",
       "<text font-family=\"Times,serif\" font-size=\"14.00\" text-anchor=\"middle\" x=\"244\" y=\"-459.3\">reshape_30: Reshape</text>\n",
       "</g>\n",
       "<!-- 140485396596560&#45;&gt;140485396466192 -->\n",
       "<g class=\"edge\" id=\"edge8\"><title>140485396596560-&gt;140485396466192</title>\n",
       "<path d=\"M316.663,-592.807C334.947,-580.388 354.616,-561.659 356,-538\" fill=\"none\" stroke=\"black\"/>\n",
       "<path d=\"M356,-536C357.377,-512.473 339.893,-496.266 318.353,-485.28\" fill=\"none\" stroke=\"black\"/>\n",
       "<polygon fill=\"black\" points=\"319.799,-482.092 309.257,-481.031 316.836,-488.434 319.799,-482.092\" stroke=\"black\"/>\n",
       "</g>\n",
       "<!-- 140485396002000 -->\n",
       "<g class=\"node\" id=\"node12\"><title>140485396002000</title>\n",
       "<polygon fill=\"none\" points=\"219.5,-75 219.5,-111 380.5,-111 380.5,-75 219.5,-75\" stroke=\"black\"/>\n",
       "<text font-family=\"Times,serif\" font-size=\"14.00\" text-anchor=\"middle\" x=\"300\" y=\"-89.3\">lambda_56: Lambda</text>\n",
       "</g>\n",
       "<!-- 140485396596560&#45;&gt;140485396002000 -->\n",
       "<g class=\"edge\" id=\"edge13\"><title>140485396596560-&gt;140485396002000</title>\n",
       "<path d=\"M356,-536C359.791,-471.222 356,-454.889 356,-390 356,-390 356,-390 356,-240 356,-197.958 350.307,-186.75 334,-148 329.918,-138.299 324.183,-128.362 318.585,-119.7\" fill=\"none\" stroke=\"black\"/>\n",
       "<polygon fill=\"black\" points=\"321.356,-117.548 312.875,-111.197 315.544,-121.45 321.356,-117.548\" stroke=\"black\"/>\n",
       "</g>\n",
       "<!-- 140485396405456 -->\n",
       "<g class=\"node\" id=\"node6\"><title>140485396405456</title>\n",
       "<polygon fill=\"none\" points=\"4.5,-445 4.5,-481 141.5,-481 141.5,-445 4.5,-445\" stroke=\"black\"/>\n",
       "<text font-family=\"Times,serif\" font-size=\"14.00\" text-anchor=\"middle\" x=\"73\" y=\"-459.3\">dense_62: Dense</text>\n",
       "</g>\n",
       "<!-- 140485396278800&#45;&gt;140485396405456 -->\n",
       "<g class=\"edge\" id=\"edge6\"><title>140485396278800-&gt;140485396405456</title>\n",
       "<path d=\"M127.174,-518.937C118.286,-509.924 107.214,-498.696 97.4006,-488.744\" fill=\"none\" stroke=\"black\"/>\n",
       "<polygon fill=\"black\" points=\"99.712,-486.104 90.1984,-481.441 94.7278,-491.019 99.712,-486.104\" stroke=\"black\"/>\n",
       "</g>\n",
       "<!-- 140485396595920 -->\n",
       "<g class=\"node\" id=\"node7\"><title>140485396595920</title>\n",
       "<polygon fill=\"none\" points=\"17.5,-371 17.5,-407 186.5,-407 186.5,-371 17.5,-371\" stroke=\"black\"/>\n",
       "<text font-family=\"Times,serif\" font-size=\"14.00\" text-anchor=\"middle\" x=\"102\" y=\"-385.3\">reshape_29: Reshape</text>\n",
       "</g>\n",
       "<!-- 140485396405456&#45;&gt;140485396595920 -->\n",
       "<g class=\"edge\" id=\"edge7\"><title>140485396405456-&gt;140485396595920</title>\n",
       "<path d=\"M79.8726,-444.937C83.2539,-436.542 87.4087,-426.227 91.2015,-416.81\" fill=\"none\" stroke=\"black\"/>\n",
       "<polygon fill=\"black\" points=\"94.4857,-418.024 94.9753,-407.441 87.9926,-415.409 94.4857,-418.024\" stroke=\"black\"/>\n",
       "</g>\n",
       "<!-- 140485764411024 -->\n",
       "<g class=\"node\" id=\"node9\"><title>140485764411024</title>\n",
       "<polygon fill=\"none\" points=\"156.5,-297 156.5,-333 327.5,-333 327.5,-297 156.5,-297\" stroke=\"black\"/>\n",
       "<text font-family=\"Times,serif\" font-size=\"14.00\" text-anchor=\"middle\" x=\"242\" y=\"-311.3\">multiply_20: Multiply</text>\n",
       "</g>\n",
       "<!-- 140485396595920&#45;&gt;140485764411024 -->\n",
       "<g class=\"edge\" id=\"edge9\"><title>140485396595920-&gt;140485764411024</title>\n",
       "<path d=\"M135.178,-370.937C154.477,-361.012 178.997,-348.401 199.676,-337.766\" fill=\"none\" stroke=\"black\"/>\n",
       "<polygon fill=\"black\" points=\"201.283,-340.876 208.575,-333.19 198.081,-334.651 201.283,-340.876\" stroke=\"black\"/>\n",
       "</g>\n",
       "<!-- 140485396466192&#45;&gt;140485764411024 -->\n",
       "<g class=\"edge\" id=\"edge10\"><title>140485396466192-&gt;140485764411024</title>\n",
       "<path d=\"M243.767,-444.966C243.425,-420.045 242.786,-373.374 242.377,-343.537\" fill=\"none\" stroke=\"black\"/>\n",
       "<polygon fill=\"black\" points=\"245.875,-343.329 242.238,-333.378 238.875,-343.425 245.875,-343.329\" stroke=\"black\"/>\n",
       "</g>\n",
       "<!-- 140485396003280 -->\n",
       "<g class=\"node\" id=\"node10\"><title>140485396003280</title>\n",
       "<polygon fill=\"none\" points=\"163.5,-223 163.5,-259 324.5,-259 324.5,-223 163.5,-223\" stroke=\"black\"/>\n",
       "<text font-family=\"Times,serif\" font-size=\"14.00\" text-anchor=\"middle\" x=\"244\" y=\"-237.3\">lambda_54: Lambda</text>\n",
       "</g>\n",
       "<!-- 140485764411024&#45;&gt;140485396003280 -->\n",
       "<g class=\"edge\" id=\"edge11\"><title>140485764411024-&gt;140485396003280</title>\n",
       "<path d=\"M242.474,-296.937C242.7,-288.807 242.976,-278.876 243.23,-269.705\" fill=\"none\" stroke=\"black\"/>\n",
       "<polygon fill=\"black\" points=\"246.736,-269.534 243.516,-259.441 239.739,-269.34 246.736,-269.534\" stroke=\"black\"/>\n",
       "</g>\n",
       "<!-- 140485396001872 -->\n",
       "<g class=\"node\" id=\"node11\"><title>140485396001872</title>\n",
       "<polygon fill=\"none\" points=\"164.5,-149 164.5,-185 325.5,-185 325.5,-149 164.5,-149\" stroke=\"black\"/>\n",
       "<text font-family=\"Times,serif\" font-size=\"14.00\" text-anchor=\"middle\" x=\"245\" y=\"-163.3\">lambda_55: Lambda</text>\n",
       "</g>\n",
       "<!-- 140485396003280&#45;&gt;140485396001872 -->\n",
       "<g class=\"edge\" id=\"edge12\"><title>140485396003280-&gt;140485396001872</title>\n",
       "<path d=\"M244.237,-222.937C244.35,-214.807 244.488,-204.876 244.615,-195.705\" fill=\"none\" stroke=\"black\"/>\n",
       "<polygon fill=\"black\" points=\"248.118,-195.488 244.758,-185.441 241.119,-195.391 248.118,-195.488\" stroke=\"black\"/>\n",
       "</g>\n",
       "<!-- 140485396001872&#45;&gt;140485396002000 -->\n",
       "<g class=\"edge\" id=\"edge14\"><title>140485396001872-&gt;140485396002000</title>\n",
       "<path d=\"M258.034,-148.937C264.717,-140.189 272.993,-129.354 280.425,-119.626\" fill=\"none\" stroke=\"black\"/>\n",
       "<polygon fill=\"black\" points=\"283.388,-121.512 286.677,-111.441 277.825,-117.263 283.388,-121.512\" stroke=\"black\"/>\n",
       "</g>\n",
       "<!-- 140485396004048 -->\n",
       "<g class=\"node\" id=\"node13\"><title>140485396004048</title>\n",
       "<polygon fill=\"none\" points=\"231.5,-1 231.5,-37 368.5,-37 368.5,-1 231.5,-1\" stroke=\"black\"/>\n",
       "<text font-family=\"Times,serif\" font-size=\"14.00\" text-anchor=\"middle\" x=\"300\" y=\"-15.3\">dense_63: Dense</text>\n",
       "</g>\n",
       "<!-- 140485396002000&#45;&gt;140485396004048 -->\n",
       "<g class=\"edge\" id=\"edge15\"><title>140485396002000-&gt;140485396004048</title>\n",
       "<path d=\"M300,-74.937C300,-66.8072 300,-56.8761 300,-47.7047\" fill=\"none\" stroke=\"black\"/>\n",
       "<polygon fill=\"black\" points=\"303.5,-47.4406 300,-37.4407 296.5,-47.4407 303.5,-47.4406\" stroke=\"black\"/>\n",
       "</g>\n",
       "</g>\n",
       "</svg>"
      ],
      "text/plain": [
       "<IPython.core.display.SVG object>"
      ]
     },
     "execution_count": 405,
     "metadata": {},
     "output_type": "execute_result"
    }
   ],
   "source": [
    "from keras.utils import plot_model\n",
    "#plot_model(model_keras, to_file='models/model.png')\n",
    "\n",
    "from IPython.display import SVG\n",
    "from keras.utils.vis_utils import model_to_dot\n",
    "\n",
    "SVG(model_to_dot(model_hard).create(prog='dot', format='svg' ))\n"
   ]
  },
  {
   "cell_type": "markdown",
   "metadata": {},
   "source": [
    "### Сетка, которая доучивает еще dense слой к эмбеддингам"
   ]
  },
  {
   "cell_type": "code",
   "execution_count": null,
   "metadata": {},
   "outputs": [],
   "source": [
    "# Датасет - подготавливаем наборы из 10 картинок , выбираем из них случайно одну\n",
    "num_samples = 10000\n",
    "k = 10\n",
    "num_words = 998\n",
    "X_images = []\n",
    "y_true_image = []\n",
    "for i in range(num_samples):\n",
    "    img = np.array(sample(range(1,len(img_list)), k))\n",
    "    X_images.append(img)\n",
    "    true_image = sample(img, 1)\n",
    "    y_true_image.append(np.array([1 if x==true_image else 0 for x in X_images[i]]))\n",
    "# Эмбеддинги для всех картинок\n",
    "X_images = image_vectors[X_images].reshape(num_samples,1024,k)\n",
    "# Эмбеддинги для правильной картинки, размноженные 10 раз\n",
    "t =np.array(X_images)[:,:,np.argmax(y_true_image)]\n",
    "X_true_img = np.repeat(t.reshape(t.shape[0],t.shape[1],1),num_words,axis =2).reshape(num_samples, num_words, 1024)\n",
    "# Эмбеддинги для всех текстов\n",
    "X_all_texts = np.repeat(words_vectors.reshape(1, num_words, 1024),num_samples, axis = 0 )\n",
    "# Решейплю\n",
    "X_images = X_images.reshape(num_samples, k,1024)\n",
    "# Ответы\n",
    "y_true_image = np.array(y_true_image).reshape(num_samples,1, k)"
   ]
  },
  {
   "cell_type": "code",
   "execution_count": 459,
   "metadata": {},
   "outputs": [],
   "source": [
    "emb_dim = 100\n",
    "\n",
    "# Вектора для k картинок\n",
    "X_images_net = Input(shape=(k,1024))\n",
    "# Вектор для правильной картинки, размноженной 1000 раз - по количеству слов\n",
    "X_image_true_net = Input(shape=(num_words, 1024))\n",
    "# Вектора для всех слов\n",
    "X_text_all_net = Input(shape = (num_words, 1024))\n",
    "# Вектор для того, какая картинка была авторской\n",
    "y_true_image_net = Input(shape=(1,k))\n",
    "\n",
    "\n",
    "conv_img_words2 = Dense(100, activation = 'softmax')#(X_image_true_net, X_text_all_net)\n",
    "# Эмбеддинги для правильной картинки (размноженной по числу слов)\n",
    "image_net2 = conv_img_words2(X_image_true_net)\n",
    "# Эмбединги для слов\n",
    "word_net2 = conv_img_words2(X_text_all_net)\n",
    "# Считаю расстояния от картинки до текста, представляю картинку как взвешенную сумму слов\n",
    "distance_layer2 = Lambda(lambda x: mean_squared_error_keras(x[0], x[1]),\n",
    "                        output_shape=(1,num_words))([image_net2, word_net2])\n",
    "weights_for_words2 = Dense(num_words, activation='softmax')(distance_layer2)\n",
    "# Меняем форму слоев, чтобы их перемножить\n",
    "weights_for_words2_resh = Reshape((1,num_words))(weights_for_words2)\n",
    "word_net2_resh = Reshape((emb_dim,num_words))(word_net2)\n",
    "# Перемножаем\n",
    "merge_layer2 = multiply([weights_for_words2_resh, word_net2_resh])\n",
    "# Усредняем, получаем вектор для финального слова\n",
    "sum_layer2 = Lambda(lambda x: K.sum(x, axis = 2), output_shape=(1,emb_dim))(merge_layer2)\n",
    "# Обрабатываем Dense слоем k картинок\n",
    "image_all_net2 = conv_img_words2(X_images_net)\n",
    "# Размножаем вектор для финального слова\n",
    "final_word_vector_k = Lambda(lambda x: K.repeat(x, k), output_shape=(10, emb_dim))(sum_layer2)\n",
    "# Считаем расстояния от полученного вектора слов до k картинок\n",
    "distance_layer_final = Lambda(lambda x: mean_squared_error_keras(x[0], x[1]),\n",
    "                        output_shape=(1,k))([image_all_net2, final_word_vector_k])\n",
    "# Подаем в Dense\n",
    "output2 = Dense(k, activation='softmax')(distance_layer_final)\n",
    "\n",
    "#подбираем картинки\n",
    "model_hard = Model(inputs=[X_images_net, X_image_true_net, X_text_all_net], outputs=output2)\n",
    "model_hard.compile(optimizer='rmsprop',\n",
    "              loss='categorical_crossentropy',\n",
    "              metrics=['accuracy'])\n",
    "\n",
    "\n",
    "\n",
    "# Бейзлайн - количество угаданных слов или лосс по фиксированным image captioning эмбеддингам"
   ]
  },
  {
   "cell_type": "code",
   "execution_count": null,
   "metadata": {},
   "outputs": [],
   "source": [
    "model_hard.fit([X_images, X_true_img, X_all_texts],y_true_image, epochs = 5, \n",
    "                verbose = True, batch_size = 500, )"
   ]
  },
  {
   "cell_type": "code",
   "execution_count": 413,
   "metadata": {},
   "outputs": [
    {
     "data": {
      "text/plain": [
       "((50, 1024, 10), <tf.Tensor 'input_178:0' shape=(?, 10, 1024) dtype=float32>)"
      ]
     },
     "execution_count": 413,
     "metadata": {},
     "output_type": "execute_result"
    }
   ],
   "source": [
    "X_images.shape, X_images_net"
   ]
  },
  {
   "cell_type": "code",
   "execution_count": 425,
   "metadata": {},
   "outputs": [
    {
     "data": {
      "text/plain": [
       "((50, 998, 1024), <tf.Tensor 'input_183:0' shape=(?, 998, 1024) dtype=float32>)"
      ]
     },
     "execution_count": 425,
     "metadata": {},
     "output_type": "execute_result"
    }
   ],
   "source": [
    "X_true_img.shape, X_image_true_net"
   ]
  },
  {
   "cell_type": "code",
   "execution_count": 445,
   "metadata": {},
   "outputs": [
    {
     "data": {
      "text/plain": [
       "((50, 998, 1024), <tf.Tensor 'input_192:0' shape=(?, 998, 1024) dtype=float32>)"
      ]
     },
     "execution_count": 445,
     "metadata": {},
     "output_type": "execute_result"
    }
   ],
   "source": [
    "X_all_texts.shape, X_text_all_net"
   ]
  },
  {
   "cell_type": "code",
   "execution_count": 451,
   "metadata": {},
   "outputs": [
    {
     "data": {
      "text/plain": [
       "((1, 50, 10), <tf.Tensor 'dense_81/Softmax:0' shape=(?, 10) dtype=float32>)"
      ]
     },
     "execution_count": 451,
     "metadata": {},
     "output_type": "execute_result"
    }
   ],
   "source": [
    "y_true_image.shape, output2"
   ]
  },
  {
   "cell_type": "code",
   "execution_count": null,
   "metadata": {
    "collapsed": true
   },
   "outputs": [],
   "source": []
  },
  {
   "cell_type": "markdown",
   "metadata": {},
   "source": [
    "# Черновик"
   ]
  },
  {
   "cell_type": "code",
   "execution_count": 1,
   "metadata": {},
   "outputs": [
    {
     "ename": "NameError",
     "evalue": "name 'VGG19' is not defined",
     "output_type": "error",
     "traceback": [
      "\u001b[0;31m---------------------------------------------------------------------------\u001b[0m",
      "\u001b[0;31mNameError\u001b[0m                                 Traceback (most recent call last)",
      "\u001b[0;32m<ipython-input-1-3504ada1b84b>\u001b[0m in \u001b[0;36m<module>\u001b[0;34m()\u001b[0m\n\u001b[1;32m      1\u001b[0m \u001b[0;34m\u001b[0m\u001b[0m\n\u001b[1;32m      2\u001b[0m \u001b[0;34m\u001b[0m\u001b[0m\n\u001b[0;32m----> 3\u001b[0;31m \u001b[0mmodel\u001b[0m \u001b[0;34m=\u001b[0m \u001b[0mVGG19\u001b[0m\u001b[0;34m(\u001b[0m\u001b[0mweights\u001b[0m\u001b[0;34m=\u001b[0m\u001b[0;34m'imagenet'\u001b[0m\u001b[0;34m,\u001b[0m \u001b[0minclude_top\u001b[0m\u001b[0;34m=\u001b[0m\u001b[0mFalse\u001b[0m\u001b[0;34m)\u001b[0m\u001b[0;34m\u001b[0m\u001b[0m\n\u001b[0m\u001b[1;32m      4\u001b[0m \u001b[0;34m\u001b[0m\u001b[0m\n\u001b[1;32m      5\u001b[0m \u001b[0mimg_path\u001b[0m \u001b[0;34m=\u001b[0m \u001b[0;34m'images/'\u001b[0m \u001b[0;34m+\u001b[0m \u001b[0mpath\u001b[0m\u001b[0;34m\u001b[0m\u001b[0m\n",
      "\u001b[0;31mNameError\u001b[0m: name 'VGG19' is not defined"
     ]
    }
   ],
   "source": [
    "\n",
    "\n"
   ]
  },
  {
   "cell_type": "markdown",
   "metadata": {},
   "source": [
    "#### Берем картинки из тестового сета"
   ]
  },
  {
   "cell_type": "code",
   "execution_count": null,
   "metadata": {
    "collapsed": true
   },
   "outputs": [],
   "source": [
    "images_coco = np.load('data_coco_flkr/coco_test_ims.npy')"
   ]
  },
  {
   "cell_type": "code",
   "execution_count": null,
   "metadata": {
    "collapsed": true
   },
   "outputs": [],
   "source": [
    "k = 400\n",
    "plt.imshow(images_coco[k].reshape(64,64,1))\n",
    "plt.show()"
   ]
  },
  {
   "cell_type": "code",
   "execution_count": null,
   "metadata": {
    "collapsed": true
   },
   "outputs": [],
   "source": [
    "%pylab inline\n",
    "# чуть покрасивше картинки:\n",
    "#pd.set_option('display.mpl_style', 'default')\n",
    "import warnings\n",
    "warnings.filterwarnings(\"ignore\")\n",
    "plt.rcParams['figure.figsize'] = 8, 6\n",
    "plt.rcParams['axes.grid'] = True\n",
    "pd.set_option('display.max_columns', None)\n",
    "import matplotlib.pyplot as plt\n",
    "import matplotlib as mpl\n",
    "mpl.rcParams['font.family'] = 'Ubuntu'\n",
    "plt.rc('text', usetex=False)\n",
    "plt.rc('font', family='serif')\n",
    "plt.rc('font', weight='bold')\n",
    "plt.rc('xtick', labelsize=10) \n",
    "plt.rc('ytick', labelsize=10)\n",
    "# чтобы был русский шрифт\n",
    "from matplotlib import rc\n",
    "font = {'family': 'Verdana',\n",
    "        'weight': 'normal'}\n",
    "rc('font', **font)\n",
    "\n"
   ]
  },
  {
   "cell_type": "code",
   "execution_count": null,
   "metadata": {
    "collapsed": true
   },
   "outputs": [],
   "source": []
  }
 ],
 "metadata": {
  "kernelspec": {
   "display_name": "python2",
   "language": "python",
   "name": "py2env"
  },
  "language_info": {
   "codemirror_mode": {
    "name": "ipython",
    "version": 2
   },
   "file_extension": ".py",
   "mimetype": "text/x-python",
   "name": "python",
   "nbconvert_exporter": "python",
   "pygments_lexer": "ipython2",
   "version": "2.7.14"
  }
 },
 "nbformat": 4,
 "nbformat_minor": 2
}
