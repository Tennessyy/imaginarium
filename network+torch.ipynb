{
 "cells": [
  {
   "cell_type": "code",
   "execution_count": 38,
   "metadata": {},
   "outputs": [
    {
     "name": "stdout",
     "output_type": "stream",
     "text": [
      "Populating the interactive namespace from numpy and matplotlib\n"
     ]
    },
    {
     "name": "stderr",
     "output_type": "stream",
     "text": [
      "/Library/Frameworks/Python.framework/Versions/3.6/lib/python3.6/site-packages/IPython/core/magics/pylab.py:160: UserWarning: pylab import has clobbered these variables: ['sample', 'f']\n",
      "`%matplotlib` prevents importing * from pylab and numpy\n",
      "  \"\\n`%matplotlib` prevents importing * from pylab and numpy\"\n"
     ]
    }
   ],
   "source": [
    "#os.chdir('/home/lichi/jupiter/imaginarium')\n",
    "\n",
    "from PIL import Image\n",
    "\n",
    "import matplotlib.pyplot as plt\n",
    "import matplotlib.image as mpimg\n",
    "%pylab inline\n",
    "\n",
    "import pandas as pd\n",
    "import numpy as np\n",
    "import pickle\n",
    "import os\n",
    "from random import sample\n",
    "\n",
    "import torch\n",
    "import torch.nn as nn\n",
    "import torch.nn.functional as F\n",
    "from torch.autograd import Variable"
   ]
  },
  {
   "cell_type": "code",
   "execution_count": 31,
   "metadata": {},
   "outputs": [],
   "source": [
    "with open('preprocessed_data/words_coco_vectors.pickle', 'rb') as f:\n",
    "    words_vec = pickle.load( f, encoding='latin1')\n",
    "with open('preprocessed_data/image_coco_vectors.pickle', 'rb') as f:\n",
    "    img_vec = pickle.load( f, encoding='latin1')"
   ]
  },
  {
   "cell_type": "code",
   "execution_count": 32,
   "metadata": {},
   "outputs": [],
   "source": [
    "from sklearn.decomposition import PCA\n",
    "pca = PCA(n_components=100)\n",
    "pca.fit(np.concatenate([words_vec, img_vec]))\n",
    "words_vec = pca.transform(words_vec)\n",
    "img_vec = pca.transform(img_vec)"
   ]
  },
  {
   "cell_type": "markdown",
   "metadata": {},
   "source": [
    "### Пример обучающей выборки"
   ]
  },
  {
   "cell_type": "code",
   "execution_count": 33,
   "metadata": {},
   "outputs": [],
   "source": [
    "def get_training_data(num_samples, num_cards, num_words, len_emb, img_vec, words_veс):\n",
    "    X_img = []\n",
    "    y_img_true = []\n",
    "    for i in range(num_samples):\n",
    "        img = np.array(sample(range(1,len(img_vec)), num_cards))\n",
    "        X_img.append(img)\n",
    "        img_true = sample(list(img), 1)[0]\n",
    "        y_img_true.append(np.array([1 if x==img_true else 0 for x in X_img[i]]))\n",
    "    # Эмбеддинги для всех картинок\n",
    "    X_img = img_vec[X_img].reshape(num_samples,len_emb,num_cards)\n",
    "    # Эмбеддинги для правильной картинки, размноженные 10 раз\n",
    "    t =np.array(X_img)[:,:,np.argmax(y_img_true)]\n",
    "    #X_img_true = np.repeat(t.reshape(t.shape[0],t.shape[1],1),num_cards,axis =2)\n",
    "    # Эмбеддинги для всех текстов\n",
    "    X_txt = np.repeat(words_veс.reshape(1, num_words, len_emb),num_samples, axis = 0).reshape(\n",
    "        num_samples, len_emb, num_words)\n",
    "    #X_img = X_img.reshape(\n",
    "    #    num_samples, num_cards, len_emb)\n",
    "    return(torch.FloatTensor(X_img),\n",
    "           torch.LongTensor(np.array(y_img_true)),\n",
    "           torch.FloatTensor(X_txt))\n",
    "\n"
   ]
  },
  {
   "cell_type": "markdown",
   "metadata": {},
   "source": [
    "### Сетка"
   ]
  },
  {
   "cell_type": "code",
   "execution_count": 34,
   "metadata": {},
   "outputs": [],
   "source": [
    "def _sample_gumbel(shape, eps=1e-10, out=None):\n",
    "    \"\"\"\n",
    "    Sample from Gumbel(0, 1)\n",
    "    based on\n",
    "    https://github.com/ericjang/gumbel-softmax/blob/3c8584924603869e90ca74ac20a6a03d99a91ef9/Categorical%20VAE.ipynb ,\n",
    "    (MIT license)\n",
    "    \"\"\"\n",
    "    U = out.resize_(shape).uniform_() if out is not None else torch.rand(shape)\n",
    "    return - torch.log(eps - torch.log(U + eps))\n",
    "\n",
    "def _gumbel_softmax_sample(logits, tau=1, eps=1e-10):\n",
    "    \"\"\"\n",
    "    Draw a sample from the Gumbel-Softmax distribution\n",
    "    based on\n",
    "    https://github.com/ericjang/gumbel-softmax/blob/3c8584924603869e90ca74ac20a6a03d99a91ef9/Categorical%20VAE.ipynb\n",
    "    (MIT license)\n",
    "    \"\"\"\n",
    "    dims = logits.dim()\n",
    "    gumbel_noise = Variable(_sample_gumbel(logits.size(), eps=eps, out=logits.data.new()))\n",
    "    y = logits + gumbel_noise\n",
    "    return F.softmax(y / tau, dims - 1)\n",
    "\n",
    "\n",
    "def gumbel_softmax(logits, tau=0.8, hard=False, eps=1e-10):\n",
    "    \"\"\"\n",
    "    Sample from the Gumbel-Softmax distribution and optionally discretize.\n",
    "    Args:\n",
    "      logits: `[batch_size, n_class]` unnormalized log-probs\n",
    "      tau: non-negative scalar temperature\n",
    "      hard: if ``True``, take `argmax`, but differentiate w.r.t. soft sample y\n",
    "    Returns:\n",
    "      [batch_size, n_class] sample from the Gumbel-Softmax distribution.\n",
    "      If hard=True, then the returned sample will be one-hot, otherwise it will\n",
    "      be a probability distribution that sums to 1 across classes\n",
    "    Constraints:\n",
    "    - this implementation only works on batch_size x num_features tensor for now\n",
    "    based on\n",
    "    https://github.com/ericjang/gumbel-softmax/blob/3c8584924603869e90ca74ac20a6a03d99a91ef9/Categorical%20VAE.ipynb ,\n",
    "    (MIT license)\n",
    "    \"\"\"\n",
    "    shape = logits.size()\n",
    "    assert len(shape) == 2\n",
    "    y_soft = _gumbel_softmax_sample(logits, tau=tau, eps=eps)\n",
    "    if hard:\n",
    "        _, k = y_soft.max(-1)\n",
    "        # this bit is based on\n",
    "        # https://discuss.pytorch.org/t/stop-gradients-for-st-gumbel-softmax/530/5\n",
    "        y_hard = torch.zeros_like(logits).scatter_(-1, k.view(-1, 1), 1.0)\n",
    "        # this cool bit of code achieves two things:\n",
    "        # - makes the output value exactly one-hot (since we add then\n",
    "        #   subtract y_soft value)\n",
    "        # - makes the gradient equal to y_soft gradient (since we strip\n",
    "        #   all other gradients)\n",
    "        y = y_hard - y_soft.detach() + y_soft\n",
    "    else:\n",
    "        y = y_soft\n",
    "    return y"
   ]
  },
  {
   "cell_type": "code",
   "execution_count": 51,
   "metadata": {},
   "outputs": [],
   "source": [
    "# Датасет - подготавливаем наборы из 10 картинок , выбираем из них случайно одну\n",
    "num_samples = 32\n",
    "num_cards = 5\n",
    "num_words = 998\n",
    "len_emb = 100\n",
    "len_dense = 20 \n",
    "\n",
    "class ImaginariumModel(torch.nn.Module):\n",
    "    def __init__(self, num_cards, num_words, len_emb, len_dense):\n",
    "        \"\"\"\n",
    "        In the constructor we instantiate two nn.Linear modules and assign them as\n",
    "        member variables.\n",
    "        \"\"\"\n",
    "        super(ImaginariumModel, self).__init__()\n",
    "        self.linear10 = torch.nn.Linear(len_emb, len_dense)\n",
    "        self.linear11 = torch.nn.Linear(len_dense, len_dense)\n",
    "        self.linear2 = torch.nn.Linear(num_cards, num_cards)\n",
    "        self.distance = torch.nn.modules.distance.CosineSimilarity()\n",
    "        self.softmax = torch.nn.Softmax()\n",
    "        self.relu = torch.nn.ReLU()\n",
    "        self.combination = nn.Sequential(self.linear10,\n",
    "                                        self.relu,\n",
    "                                        self.linear11)\n",
    "        \n",
    "        \n",
    "    def distance_mul_sum(self, distance_vec, x_txt_vec):\n",
    "        return torch.sum(torch.mul(\n",
    "            distance_vec,x_txt_vec), dim = 1)\n",
    "\n",
    "    def distance_mul_sum_along_img(self, X_img_elem, X_txt):\n",
    "        X_img_elem = X_img_elem.repeat(\n",
    "            num_words, 1 , 1).reshape(\n",
    "            num_samples, len_dense, num_words)\n",
    "        distance_vector = self.distance(X_txt, X_img_elem)\n",
    "        distance_vector_softmax = gumbel_softmax(distance_vector)\n",
    "        words_final = torch.stack([\n",
    "            self.distance_mul_sum(distance_vector_softmax[i,:], X_txt[i,:,:])\n",
    "            for i in range(num_samples)])\n",
    "        return words_final\n",
    "\n",
    "    def forward(self, x_img, x_txt):\n",
    "        \"\"\"\n",
    "        In the forward function we accept a Tensor of input data and we must return\n",
    "        a Tensor of output data. We can use Modules defined in the constructor as\n",
    "        well as arbitrary (differentiable) operations on Tensors.\n",
    "        \"\"\"\n",
    "        # Пропускаем тексты, правильные картинки и num_cards картинок через линейный слой\n",
    "        x_img_dense = torch.zeros([num_samples, len_dense, num_cards])\n",
    "        x_txt_dense = torch.zeros([num_samples, len_dense, num_words])\n",
    "        for card in range(num_cards):\n",
    "            for sample in range(num_samples):\n",
    "                #x_img_dense[sample,:,card] = self.linear10(x_img[sample,:,card])\n",
    "                x_img_dense[sample,:,card] = self.combination(x_img[sample,:,card])\n",
    "                ### txt\n",
    "                #x_txt_dense[sample,:,card] = self.linear10(x_txt[sample,:,card])\n",
    "                x_txt_dense[sample,:,card] = self.combination(x_txt[sample,:,card])\n",
    "                \n",
    "        words_final_dense = torch.stack([self.distance_mul_sum_along_img(\n",
    "            x_img_dense[:,:,i], x_txt_dense) for i in range(num_cards)]).reshape(\n",
    "            num_samples, len_dense, num_cards)\n",
    "\n",
    "        distance = self.distance(x_img_dense, words_final_dense)\n",
    "        distance = self.linear2(distance)\n",
    "        distance_softmax = self.softmax(distance)\n",
    "        return distance_softmax\n"
   ]
  },
  {
   "cell_type": "code",
   "execution_count": 52,
   "metadata": {},
   "outputs": [],
   "source": [
    "# Construct our model by instantiating the class defined above.\n",
    "model = ImaginariumModel(num_cards, num_words, len_emb, len_dense)"
   ]
  },
  {
   "cell_type": "code",
   "execution_count": 70,
   "metadata": {
    "collapsed": true
   },
   "outputs": [
    {
     "name": "stderr",
     "output_type": "stream",
     "text": [
      "/Library/Frameworks/Python.framework/Versions/3.6/lib/python3.6/site-packages/ipykernel_launcher.py:64: UserWarning: Implicit dimension choice for softmax has been deprecated. Change the call to include dim=X as an argument.\n"
     ]
    },
    {
     "name": "stdout",
     "output_type": "stream",
     "text": [
      "0 nan\n",
      "1 nan\n",
      "2 nan\n",
      "3 nan\n"
     ]
    },
    {
     "ename": "KeyboardInterrupt",
     "evalue": "",
     "output_type": "error",
     "traceback": [
      "\u001b[0;31m---------------------------------------------------------------------------\u001b[0m",
      "\u001b[0;31mKeyboardInterrupt\u001b[0m                         Traceback (most recent call last)",
      "\u001b[0;32m<ipython-input-70-ab997a86e4ed>\u001b[0m in \u001b[0;36m<module>\u001b[0;34m()\u001b[0m\n\u001b[1;32m     12\u001b[0m \u001b[0;34m\u001b[0m\u001b[0m\n\u001b[1;32m     13\u001b[0m     \u001b[0;31m# Forward pass: Compute predicted y by passing x to the model\u001b[0m\u001b[0;34m\u001b[0m\u001b[0;34m\u001b[0m\u001b[0m\n\u001b[0;32m---> 14\u001b[0;31m     \u001b[0my_pred\u001b[0m \u001b[0;34m=\u001b[0m \u001b[0mmodel\u001b[0m\u001b[0;34m(\u001b[0m\u001b[0mX_img\u001b[0m\u001b[0;34m,\u001b[0m \u001b[0mX_txt\u001b[0m\u001b[0;34m)\u001b[0m\u001b[0;34m\u001b[0m\u001b[0m\n\u001b[0m\u001b[1;32m     15\u001b[0m \u001b[0;34m\u001b[0m\u001b[0m\n\u001b[1;32m     16\u001b[0m     \u001b[0;31m# Compute and print loss\u001b[0m\u001b[0;34m\u001b[0m\u001b[0;34m\u001b[0m\u001b[0m\n",
      "\u001b[0;32m/Library/Frameworks/Python.framework/Versions/3.6/lib/python3.6/site-packages/torch/nn/modules/module.py\u001b[0m in \u001b[0;36m__call__\u001b[0;34m(self, *input, **kwargs)\u001b[0m\n\u001b[1;32m    487\u001b[0m             \u001b[0mresult\u001b[0m \u001b[0;34m=\u001b[0m \u001b[0mself\u001b[0m\u001b[0;34m.\u001b[0m\u001b[0m_slow_forward\u001b[0m\u001b[0;34m(\u001b[0m\u001b[0;34m*\u001b[0m\u001b[0minput\u001b[0m\u001b[0;34m,\u001b[0m \u001b[0;34m**\u001b[0m\u001b[0mkwargs\u001b[0m\u001b[0;34m)\u001b[0m\u001b[0;34m\u001b[0m\u001b[0m\n\u001b[1;32m    488\u001b[0m         \u001b[0;32melse\u001b[0m\u001b[0;34m:\u001b[0m\u001b[0;34m\u001b[0m\u001b[0m\n\u001b[0;32m--> 489\u001b[0;31m             \u001b[0mresult\u001b[0m \u001b[0;34m=\u001b[0m \u001b[0mself\u001b[0m\u001b[0;34m.\u001b[0m\u001b[0mforward\u001b[0m\u001b[0;34m(\u001b[0m\u001b[0;34m*\u001b[0m\u001b[0minput\u001b[0m\u001b[0;34m,\u001b[0m \u001b[0;34m**\u001b[0m\u001b[0mkwargs\u001b[0m\u001b[0;34m)\u001b[0m\u001b[0;34m\u001b[0m\u001b[0m\n\u001b[0m\u001b[1;32m    490\u001b[0m         \u001b[0;32mfor\u001b[0m \u001b[0mhook\u001b[0m \u001b[0;32min\u001b[0m \u001b[0mself\u001b[0m\u001b[0;34m.\u001b[0m\u001b[0m_forward_hooks\u001b[0m\u001b[0;34m.\u001b[0m\u001b[0mvalues\u001b[0m\u001b[0;34m(\u001b[0m\u001b[0;34m)\u001b[0m\u001b[0;34m:\u001b[0m\u001b[0;34m\u001b[0m\u001b[0m\n\u001b[1;32m    491\u001b[0m             \u001b[0mhook_result\u001b[0m \u001b[0;34m=\u001b[0m \u001b[0mhook\u001b[0m\u001b[0;34m(\u001b[0m\u001b[0mself\u001b[0m\u001b[0;34m,\u001b[0m \u001b[0minput\u001b[0m\u001b[0;34m,\u001b[0m \u001b[0mresult\u001b[0m\u001b[0;34m)\u001b[0m\u001b[0;34m\u001b[0m\u001b[0m\n",
      "\u001b[0;32m<ipython-input-51-d065195ff558>\u001b[0m in \u001b[0;36mforward\u001b[0;34m(self, x_img, x_txt)\u001b[0m\n\u001b[1;32m     54\u001b[0m                 \u001b[0;31m### txt\u001b[0m\u001b[0;34m\u001b[0m\u001b[0;34m\u001b[0m\u001b[0m\n\u001b[1;32m     55\u001b[0m                 \u001b[0;31m#x_txt_dense[sample,:,card] = self.linear10(x_txt[sample,:,card])\u001b[0m\u001b[0;34m\u001b[0m\u001b[0;34m\u001b[0m\u001b[0m\n\u001b[0;32m---> 56\u001b[0;31m                 \u001b[0mx_txt_dense\u001b[0m\u001b[0;34m[\u001b[0m\u001b[0msample\u001b[0m\u001b[0;34m,\u001b[0m\u001b[0;34m:\u001b[0m\u001b[0;34m,\u001b[0m\u001b[0mcard\u001b[0m\u001b[0;34m]\u001b[0m \u001b[0;34m=\u001b[0m \u001b[0mself\u001b[0m\u001b[0;34m.\u001b[0m\u001b[0mcombination\u001b[0m\u001b[0;34m(\u001b[0m\u001b[0mx_txt\u001b[0m\u001b[0;34m[\u001b[0m\u001b[0msample\u001b[0m\u001b[0;34m,\u001b[0m\u001b[0;34m:\u001b[0m\u001b[0;34m,\u001b[0m\u001b[0mcard\u001b[0m\u001b[0;34m]\u001b[0m\u001b[0;34m)\u001b[0m\u001b[0;34m\u001b[0m\u001b[0m\n\u001b[0m\u001b[1;32m     57\u001b[0m \u001b[0;34m\u001b[0m\u001b[0m\n\u001b[1;32m     58\u001b[0m         words_final_dense = torch.stack([self.distance_mul_sum_along_img(\n",
      "\u001b[0;32m/Library/Frameworks/Python.framework/Versions/3.6/lib/python3.6/site-packages/torch/nn/modules/module.py\u001b[0m in \u001b[0;36m__call__\u001b[0;34m(self, *input, **kwargs)\u001b[0m\n\u001b[1;32m    487\u001b[0m             \u001b[0mresult\u001b[0m \u001b[0;34m=\u001b[0m \u001b[0mself\u001b[0m\u001b[0;34m.\u001b[0m\u001b[0m_slow_forward\u001b[0m\u001b[0;34m(\u001b[0m\u001b[0;34m*\u001b[0m\u001b[0minput\u001b[0m\u001b[0;34m,\u001b[0m \u001b[0;34m**\u001b[0m\u001b[0mkwargs\u001b[0m\u001b[0;34m)\u001b[0m\u001b[0;34m\u001b[0m\u001b[0m\n\u001b[1;32m    488\u001b[0m         \u001b[0;32melse\u001b[0m\u001b[0;34m:\u001b[0m\u001b[0;34m\u001b[0m\u001b[0m\n\u001b[0;32m--> 489\u001b[0;31m             \u001b[0mresult\u001b[0m \u001b[0;34m=\u001b[0m \u001b[0mself\u001b[0m\u001b[0;34m.\u001b[0m\u001b[0mforward\u001b[0m\u001b[0;34m(\u001b[0m\u001b[0;34m*\u001b[0m\u001b[0minput\u001b[0m\u001b[0;34m,\u001b[0m \u001b[0;34m**\u001b[0m\u001b[0mkwargs\u001b[0m\u001b[0;34m)\u001b[0m\u001b[0;34m\u001b[0m\u001b[0m\n\u001b[0m\u001b[1;32m    490\u001b[0m         \u001b[0;32mfor\u001b[0m \u001b[0mhook\u001b[0m \u001b[0;32min\u001b[0m \u001b[0mself\u001b[0m\u001b[0;34m.\u001b[0m\u001b[0m_forward_hooks\u001b[0m\u001b[0;34m.\u001b[0m\u001b[0mvalues\u001b[0m\u001b[0;34m(\u001b[0m\u001b[0;34m)\u001b[0m\u001b[0;34m:\u001b[0m\u001b[0;34m\u001b[0m\u001b[0m\n\u001b[1;32m    491\u001b[0m             \u001b[0mhook_result\u001b[0m \u001b[0;34m=\u001b[0m \u001b[0mhook\u001b[0m\u001b[0;34m(\u001b[0m\u001b[0mself\u001b[0m\u001b[0;34m,\u001b[0m \u001b[0minput\u001b[0m\u001b[0;34m,\u001b[0m \u001b[0mresult\u001b[0m\u001b[0;34m)\u001b[0m\u001b[0;34m\u001b[0m\u001b[0m\n",
      "\u001b[0;32m/Library/Frameworks/Python.framework/Versions/3.6/lib/python3.6/site-packages/torch/nn/modules/container.py\u001b[0m in \u001b[0;36mforward\u001b[0;34m(self, input)\u001b[0m\n\u001b[1;32m     90\u001b[0m     \u001b[0;32mdef\u001b[0m \u001b[0mforward\u001b[0m\u001b[0;34m(\u001b[0m\u001b[0mself\u001b[0m\u001b[0;34m,\u001b[0m \u001b[0minput\u001b[0m\u001b[0;34m)\u001b[0m\u001b[0;34m:\u001b[0m\u001b[0;34m\u001b[0m\u001b[0m\n\u001b[1;32m     91\u001b[0m         \u001b[0;32mfor\u001b[0m \u001b[0mmodule\u001b[0m \u001b[0;32min\u001b[0m \u001b[0mself\u001b[0m\u001b[0;34m.\u001b[0m\u001b[0m_modules\u001b[0m\u001b[0;34m.\u001b[0m\u001b[0mvalues\u001b[0m\u001b[0;34m(\u001b[0m\u001b[0;34m)\u001b[0m\u001b[0;34m:\u001b[0m\u001b[0;34m\u001b[0m\u001b[0m\n\u001b[0;32m---> 92\u001b[0;31m             \u001b[0minput\u001b[0m \u001b[0;34m=\u001b[0m \u001b[0mmodule\u001b[0m\u001b[0;34m(\u001b[0m\u001b[0minput\u001b[0m\u001b[0;34m)\u001b[0m\u001b[0;34m\u001b[0m\u001b[0m\n\u001b[0m\u001b[1;32m     93\u001b[0m         \u001b[0;32mreturn\u001b[0m \u001b[0minput\u001b[0m\u001b[0;34m\u001b[0m\u001b[0m\n\u001b[1;32m     94\u001b[0m \u001b[0;34m\u001b[0m\u001b[0m\n",
      "\u001b[0;32m/Library/Frameworks/Python.framework/Versions/3.6/lib/python3.6/site-packages/torch/nn/modules/module.py\u001b[0m in \u001b[0;36m__call__\u001b[0;34m(self, *input, **kwargs)\u001b[0m\n\u001b[1;32m    487\u001b[0m             \u001b[0mresult\u001b[0m \u001b[0;34m=\u001b[0m \u001b[0mself\u001b[0m\u001b[0;34m.\u001b[0m\u001b[0m_slow_forward\u001b[0m\u001b[0;34m(\u001b[0m\u001b[0;34m*\u001b[0m\u001b[0minput\u001b[0m\u001b[0;34m,\u001b[0m \u001b[0;34m**\u001b[0m\u001b[0mkwargs\u001b[0m\u001b[0;34m)\u001b[0m\u001b[0;34m\u001b[0m\u001b[0m\n\u001b[1;32m    488\u001b[0m         \u001b[0;32melse\u001b[0m\u001b[0;34m:\u001b[0m\u001b[0;34m\u001b[0m\u001b[0m\n\u001b[0;32m--> 489\u001b[0;31m             \u001b[0mresult\u001b[0m \u001b[0;34m=\u001b[0m \u001b[0mself\u001b[0m\u001b[0;34m.\u001b[0m\u001b[0mforward\u001b[0m\u001b[0;34m(\u001b[0m\u001b[0;34m*\u001b[0m\u001b[0minput\u001b[0m\u001b[0;34m,\u001b[0m \u001b[0;34m**\u001b[0m\u001b[0mkwargs\u001b[0m\u001b[0;34m)\u001b[0m\u001b[0;34m\u001b[0m\u001b[0m\n\u001b[0m\u001b[1;32m    490\u001b[0m         \u001b[0;32mfor\u001b[0m \u001b[0mhook\u001b[0m \u001b[0;32min\u001b[0m \u001b[0mself\u001b[0m\u001b[0;34m.\u001b[0m\u001b[0m_forward_hooks\u001b[0m\u001b[0;34m.\u001b[0m\u001b[0mvalues\u001b[0m\u001b[0;34m(\u001b[0m\u001b[0;34m)\u001b[0m\u001b[0;34m:\u001b[0m\u001b[0;34m\u001b[0m\u001b[0m\n\u001b[1;32m    491\u001b[0m             \u001b[0mhook_result\u001b[0m \u001b[0;34m=\u001b[0m \u001b[0mhook\u001b[0m\u001b[0;34m(\u001b[0m\u001b[0mself\u001b[0m\u001b[0;34m,\u001b[0m \u001b[0minput\u001b[0m\u001b[0;34m,\u001b[0m \u001b[0mresult\u001b[0m\u001b[0;34m)\u001b[0m\u001b[0;34m\u001b[0m\u001b[0m\n",
      "\u001b[0;32m/Library/Frameworks/Python.framework/Versions/3.6/lib/python3.6/site-packages/torch/nn/modules/activation.py\u001b[0m in \u001b[0;36mforward\u001b[0;34m(self, input)\u001b[0m\n\u001b[1;32m     48\u001b[0m     \u001b[0;34m@\u001b[0m\u001b[0mweak_script_method\u001b[0m\u001b[0;34m\u001b[0m\u001b[0m\n\u001b[1;32m     49\u001b[0m     \u001b[0;32mdef\u001b[0m \u001b[0mforward\u001b[0m\u001b[0;34m(\u001b[0m\u001b[0mself\u001b[0m\u001b[0;34m,\u001b[0m \u001b[0minput\u001b[0m\u001b[0;34m)\u001b[0m\u001b[0;34m:\u001b[0m\u001b[0;34m\u001b[0m\u001b[0m\n\u001b[0;32m---> 50\u001b[0;31m         \u001b[0;32mreturn\u001b[0m \u001b[0mF\u001b[0m\u001b[0;34m.\u001b[0m\u001b[0mthreshold\u001b[0m\u001b[0;34m(\u001b[0m\u001b[0minput\u001b[0m\u001b[0;34m,\u001b[0m \u001b[0mself\u001b[0m\u001b[0;34m.\u001b[0m\u001b[0mthreshold\u001b[0m\u001b[0;34m,\u001b[0m \u001b[0mself\u001b[0m\u001b[0;34m.\u001b[0m\u001b[0mvalue\u001b[0m\u001b[0;34m,\u001b[0m \u001b[0mself\u001b[0m\u001b[0;34m.\u001b[0m\u001b[0minplace\u001b[0m\u001b[0;34m)\u001b[0m\u001b[0;34m\u001b[0m\u001b[0m\n\u001b[0m\u001b[1;32m     51\u001b[0m \u001b[0;34m\u001b[0m\u001b[0m\n\u001b[1;32m     52\u001b[0m     \u001b[0;32mdef\u001b[0m \u001b[0mextra_repr\u001b[0m\u001b[0;34m(\u001b[0m\u001b[0mself\u001b[0m\u001b[0;34m)\u001b[0m\u001b[0;34m:\u001b[0m\u001b[0;34m\u001b[0m\u001b[0m\n",
      "\u001b[0;32m/Library/Frameworks/Python.framework/Versions/3.6/lib/python3.6/site-packages/torch/nn/functional.py\u001b[0m in \u001b[0;36mthreshold\u001b[0;34m(input, threshold, value, inplace)\u001b[0m\n\u001b[1;32m    838\u001b[0m         \u001b[0mresult\u001b[0m \u001b[0;34m=\u001b[0m \u001b[0m_VF\u001b[0m\u001b[0;34m.\u001b[0m\u001b[0mthreshold_\u001b[0m\u001b[0;34m(\u001b[0m\u001b[0minput\u001b[0m\u001b[0;34m,\u001b[0m \u001b[0mthreshold\u001b[0m\u001b[0;34m,\u001b[0m \u001b[0mvalue\u001b[0m\u001b[0;34m)\u001b[0m\u001b[0;34m\u001b[0m\u001b[0m\n\u001b[1;32m    839\u001b[0m     \u001b[0;32melse\u001b[0m\u001b[0;34m:\u001b[0m\u001b[0;34m\u001b[0m\u001b[0m\n\u001b[0;32m--> 840\u001b[0;31m         \u001b[0mresult\u001b[0m \u001b[0;34m=\u001b[0m \u001b[0m_VF\u001b[0m\u001b[0;34m.\u001b[0m\u001b[0mthreshold\u001b[0m\u001b[0;34m(\u001b[0m\u001b[0minput\u001b[0m\u001b[0;34m,\u001b[0m \u001b[0mthreshold\u001b[0m\u001b[0;34m,\u001b[0m \u001b[0mvalue\u001b[0m\u001b[0;34m)\u001b[0m\u001b[0;34m\u001b[0m\u001b[0m\n\u001b[0m\u001b[1;32m    841\u001b[0m     \u001b[0;32mreturn\u001b[0m \u001b[0mresult\u001b[0m\u001b[0;34m\u001b[0m\u001b[0m\n\u001b[1;32m    842\u001b[0m \u001b[0;34m\u001b[0m\u001b[0m\n",
      "\u001b[0;32m/Library/Frameworks/Python.framework/Versions/3.6/lib/python3.6/site-packages/torch/nn/_VF.py\u001b[0m in \u001b[0;36m__getattr__\u001b[0;34m(self, attr)\u001b[0m\n\u001b[1;32m      9\u001b[0m         \u001b[0mself\u001b[0m\u001b[0;34m.\u001b[0m\u001b[0mvf\u001b[0m \u001b[0;34m=\u001b[0m \u001b[0mtorch\u001b[0m\u001b[0;34m.\u001b[0m\u001b[0m_C\u001b[0m\u001b[0;34m.\u001b[0m\u001b[0m_VariableFunctions\u001b[0m\u001b[0;34m\u001b[0m\u001b[0m\n\u001b[1;32m     10\u001b[0m \u001b[0;34m\u001b[0m\u001b[0m\n\u001b[0;32m---> 11\u001b[0;31m     \u001b[0;32mdef\u001b[0m \u001b[0m__getattr__\u001b[0m\u001b[0;34m(\u001b[0m\u001b[0mself\u001b[0m\u001b[0;34m,\u001b[0m \u001b[0mattr\u001b[0m\u001b[0;34m)\u001b[0m\u001b[0;34m:\u001b[0m\u001b[0;34m\u001b[0m\u001b[0m\n\u001b[0m\u001b[1;32m     12\u001b[0m         \u001b[0;32mreturn\u001b[0m \u001b[0mgetattr\u001b[0m\u001b[0;34m(\u001b[0m\u001b[0mself\u001b[0m\u001b[0;34m.\u001b[0m\u001b[0mvf\u001b[0m\u001b[0;34m,\u001b[0m \u001b[0mattr\u001b[0m\u001b[0;34m)\u001b[0m\u001b[0;34m\u001b[0m\u001b[0m\n\u001b[1;32m     13\u001b[0m \u001b[0;34m\u001b[0m\u001b[0m\n",
      "\u001b[0;31mKeyboardInterrupt\u001b[0m: "
     ]
    }
   ],
   "source": [
    "# Construct our loss function and an Optimizer. The call to model.parameters()\n",
    "# in the SGD constructor will contain the learnable parameters of the two\n",
    "# nn.Linear modules which are members of the model.\n",
    "num_batches = 500\n",
    "#history_loss = []\n",
    "loss_fn = torch.nn.NLLLoss()\n",
    "\n",
    "for t in range(num_batches):\n",
    "    optimizer = torch.optim.SGD(model.parameters(), lr=0.001/(-loss.item())**3)\n",
    "    X_img, y_img_true, X_txt = get_training_data(\n",
    "    num_samples, num_cards, num_words, len_emb, img_vec, words_vec)\n",
    "    \n",
    "    # Forward pass: Compute predicted y by passing x to the model\n",
    "    y_pred = model(X_img, X_txt)\n",
    "    \n",
    "    # Compute and print loss\n",
    "    loss = loss_fn(y_pred, torch.max(y_img_true, 1)[1])\n",
    "    if t % 1. == 0:\n",
    "        print(t, loss.item())\n",
    "    history_loss.append(loss.item())\n",
    "    # Zero gradients, perform a backward pass, and update the weights.\n",
    "    optimizer.zero_grad()\n",
    "    loss.backward()\n",
    "    optimizer.step()   "
   ]
  },
  {
   "cell_type": "code",
   "execution_count": 71,
   "metadata": {},
   "outputs": [
    {
     "name": "stderr",
     "output_type": "stream",
     "text": [
      "/Library/Frameworks/Python.framework/Versions/3.6/lib/python3.6/site-packages/torch/serialization.py:250: UserWarning: Couldn't retrieve source code for container of type ImaginariumModel. It won't be checked for correctness upon loading.\n",
      "  \"type \" + obj.__name__ + \". It won't be checked \"\n"
     ]
    },
    {
     "data": {
      "image/png": "[encoded data removed]",
      "text/plain": [
       "<matplotlib.figure.Figure at 0x10818f2e8>"
      ]
     },
     "metadata": {},
     "output_type": "display_data"
    }
   ],
   "source": [
    "N = 50\n",
    "mean_loss = np.convolve(np.array(history_loss), np.ones((N,))/N, mode='valid')\n",
    "#title = 'Model with 2 dense layers and ReLu and inverted 1 dense distances, num cards = %s' % num_cards\n",
    "title = 'Model with PCA input, 2 dense layer and Relu and cosine gumbel distances, num cards = %s' % num_cards\n",
    "fig = plt.plot(list(range(len(history_loss) - N + 1)), mean_loss)\n",
    "plt.xlabel('Number of batch')\n",
    "plt.ylabel('Smoothed logloss')\n",
    "plt.title(title)\n",
    "savefig('pictures/%s.png'%title)\n",
    "torch.save(ImaginariumModel, 'models/%s'%title) \n"
   ]
  },
  {
   "cell_type": "markdown",
   "metadata": {},
   "source": [
    " Описание экспериментов.\n",
    " \n",
    " Ссылка на скрипт с экспериментами на гитхабе\n",
    " \n",
    " \n",
    " \n",
    " У нас  есть множество картинок и множество слов.  Глобальная задача - в игре из как минимум 3 игороков научиться подбирать нетривиальные ассоциации водящего под выбранную картинку, так чтобы оставшиеся 2 игрока в части случаев понимали, а в части случаев не понимали, кому из игроков принадлежит картинка, под которую подобрана ассоциация. В качестве бейзлайна под эту задачу предлагается рассмотреть задачу 2 игроков - 1 игрок загадывает ассоциацию к 1 картинке из k(5 или 10), а 2 игрок по этой ассоциации пытается понять, какую из k картинок выбрал игрок. \n",
    " \n",
    "В качестве картинок рассматривается коллекция из ~200 изображений из игры \"Имаджинариум\", в качестве слов ~ 1000 самых популярных слов английского языка. Обучающая выборка гененируется следующим образом - из множества картинок случайно выбираем k картинок, из них случайно одну картинку. Задача сети - по картинке подобрать такое текстовое описание, чтобы сеть догадалась, какая из k картинок была выбрана. Набор из k картинок и всех слов подается в некую сеть (полносязную). Полученные после этого представления идут в  часть сетки, которая считает расстояние между представлением k картинок и всеми словами, пропускает через softmax, усредняя после этого полученные векторы слов. Далее к полученному вектору слов ищется ближайшая из k картинок картинка.\n",
    " \n",
    " Какие параметры пробовала менять:\n",
    " \n",
    " 1) Менять количество карт на руках у игрока\n",
    " \n",
    " 2) После подсчета финальных расстояний между всеми картами у ведущего игрока и его текстовой ассоциации, обрабатывать его полносвязной сетью\n",
    " \n",
    " 3) Различные конфигурации сетки, которая обрабатывает картинко-текстовове пространство (полносвязная, 2 полносвязные+ relu, полносвязная+relu)\n",
    " \n",
    " 4) Пропускать изначальное пространство кросс-эмбеддингов через PCA, чтобы сократить размерность пространства с 1024 до, например, 100.\n",
    " \n",
    " 5) Вместо softmax при выборе текстовых векторов, ближайших к ставить gumbel softmax\n",
    " \n",
    " 6) Различные метрики расстояния \n",
    " \n",
    " \n",
    " Текущие успехи(по сравнению с предыдущим):\n",
    " \n",
    " 1) Модель переведена на торч \n",
    " \n",
    " 2) По модели текут градиенты, на повторяющихся данных удается добиться переобучения :)\n",
    " \n",
    " 3) Попробованы и выписаны разные варианты сети, которые можно быстро запихнуть в другие модели\n",
    " \n",
    " 4) Модель как-то учится\n",
    " \n",
    " \n",
    " Примеры более или менее удачных попыток:\n",
    " \n",
    " Пример переобучения\n",
    " \n",
    " \n",
    " \n",
    " \n",
    "  Актуальные проблемы:\n",
    " \n",
    " 1) Учится очень медленно\n",
    " \n",
    " 2) Гумбеловский софтмакс не очень помогает\n",
    " \n",
    "\n",
    " \n",
    " \n",
    " Планы на ближайшее будущее:\n",
    " \n",
    " 1) Распространить бейзлайн на игру из трех игроков - возможно это поможет с обучением.\n",
    " \n",
    " 2) Сделать как в attention - вместо расстояний подставить dense слои с attention\n",
    " \n",
    " 2) Переписать применение dense слоев более оптимально\n",
    " \n",
    " 3) Провести эксперименты с предложениями вместо слов и другими картинками\n",
    " \n",
    " 4) Влезть в ImageCaptioning"
   ]
  },
  {
   "cell_type": "code",
   "execution_count": null,
   "metadata": {},
   "outputs": [],
   "source": []
  },
  {
   "cell_type": "code",
   "execution_count": null,
   "metadata": {},
   "outputs": [],
   "source": []
  },
  {
   "cell_type": "code",
   "execution_count": null,
   "metadata": {},
   "outputs": [],
   "source": []
  },
  {
   "cell_type": "code",
   "execution_count": null,
   "metadata": {},
   "outputs": [],
   "source": []
  },
  {
   "cell_type": "markdown",
   "metadata": {},
   "source": [
    "# Черновик"
   ]
  },
  {
   "cell_type": "markdown",
   "metadata": {},
   "source": [
    "### Текущая сеть"
   ]
  },
  {
   "cell_type": "code",
   "execution_count": null,
   "metadata": {},
   "outputs": [],
   "source": [
    "\n",
    "\n",
    "\n",
    "class Net(nn.Module):\n",
    "\n",
    "    def __init__(self):\n",
    "        super(Net, self).__init__()\n",
    "        self.dense = nn.Linear(1024, 100)\n",
    "\n",
    "    def forward(self, input_true_image,\n",
    "                input_k_images, input_all_words):\n",
    "        \n",
    "        prepr_true_image = self.dense(input_true_image)\n",
    "        print(prepr_true_image.shape)\n",
    "        prepr_all_words = self.dense(input_all_words)\n",
    "        prepr_k_images = self.dense(input_k_images)\n",
    "        \n",
    "        distance_words = nn.modules.distance.PairwiseDistance(prepr_true_image, prepr_all_words)\n",
    "        weights_words = nn.Softmax(distance_words)\n",
    "        one_word = torch.prod(weights_words, prepr_all_words)\n",
    "        k_same_words = one_word.repeat(k).resize_(998,k).transpose(-2,1)\n",
    "        \n",
    "        distance_images = nn.modules.distance.PairwiseDistance(prepr_true_image, k_same_words)\n",
    "        output_probs_images = nn.Softmax(distance_images)\n",
    "        \n",
    "        return output_probs_images\n",
    "\n",
    "\n",
    "net = Net()\n",
    "print(net)"
   ]
  },
  {
   "cell_type": "code",
   "execution_count": null,
   "metadata": {},
   "outputs": [],
   "source": [
    "class Print(nn.Module):\n",
    "    def __init__(self):\n",
    "        super(Print, self).__init__()\n",
    "\n",
    "    def forward(self, x):\n",
    "        print(x.shape)\n",
    "        return x"
   ]
  },
  {
   "cell_type": "code",
   "execution_count": null,
   "metadata": {},
   "outputs": [],
   "source": [
    "Print()"
   ]
  },
  {
   "cell_type": "markdown",
   "metadata": {},
   "source": [
    "### Решейпим"
   ]
  },
  {
   "cell_type": "code",
   "execution_count": null,
   "metadata": {},
   "outputs": [],
   "source": [
    "X_true_img = X_true_img.reshape( num_samples, num_words, 1024)\n",
    "# Эмбеддинги для всех текстов\n",
    "X_all_texts = X_all_texts.reshape(num_samples, num_words, 1024)\n",
    "# Решейплю\n",
    "X_images = X_images.reshape(k, num_samples, 1024)\n",
    "# Ответы\n",
    "y_true_image = np.array(y_true_image).reshape(1, num_samples, k)\n"
   ]
  },
  {
   "cell_type": "code",
   "execution_count": null,
   "metadata": {},
   "outputs": [],
   "source": [
    "from torch.utils.data import DataLoader\n",
    "\n",
    "X_true_img_torch = torch.FloatTensor(np.array(X_true_img))\n",
    "X_images_torch = torch.FloatTensor(np.array(X_images))\n",
    "X_all_texts_torch = torch.FloatTensor(np.array(X_all_texts))\n",
    "#X = torch.stack([X_true_img, X_images, X_all_texts], dim = 2)\n",
    "y_torch = torch.FloatTensor(y_true_image)\n",
    "trainloader = DataLoader([X_true_img_torch,\n",
    "                                X_images_torch,\n",
    "                                X_all_texts_torch,\n",
    "                                y_torch],\n",
    "                               batch_size=4,\n",
    "                               shuffle=False,\n",
    "                               num_workers=2)\n"
   ]
  },
  {
   "cell_type": "markdown",
   "metadata": {},
   "source": [
    "### Дебажим"
   ]
  },
  {
   "cell_type": "code",
   "execution_count": null,
   "metadata": {},
   "outputs": [],
   "source": [
    "for epoch in range(2):  # loop over the dataset multiple times\n",
    "    running_loss = 0.0\n",
    "    for i, data in enumerate(trainloader, 0):\n",
    "        # get the inputs\n",
    "        inputs, labels = data\n",
    "        # zero the parameter gradients\n",
    "        optimizer.zero_grad()\n",
    "\n",
    "        # forward + backward + optimize\n",
    "        outputs = net(inputs)\n",
    "        loss = criterion(outputs, labels)\n",
    "        loss.backward()\n",
    "        optimizer.step()\n",
    "\n",
    "        # print statistics\n",
    "        running_loss += loss.item()\n",
    "        if i % 2000 == 1999:    # print every 2000 mini-batches\n",
    "            print('[%d, %5d] loss: %.3f' %\n",
    "                  (epoch + 1, i + 1, running_loss / 2000))\n",
    "            running_loss = 0.0\n",
    "\n",
    "print('Finished Training')"
   ]
  },
  {
   "cell_type": "markdown",
   "metadata": {},
   "source": [
    "### Модели"
   ]
  },
  {
   "cell_type": "code",
   "execution_count": null,
   "metadata": {},
   "outputs": [],
   "source": [
    "model_hard.fit([X_images, X_true_img, X_all_texts],y_true_image, epochs = 10, \n",
    "                verbose = True, batch_size = 50, validation_split=0.1) "
   ]
  },
  {
   "cell_type": "code",
   "execution_count": null,
   "metadata": {},
   "outputs": [],
   "source": []
  },
  {
   "cell_type": "code",
   "execution_count": null,
   "metadata": {},
   "outputs": [],
   "source": []
  },
  {
   "cell_type": "markdown",
   "metadata": {},
   "source": [
    "### Генератор"
   ]
  },
  {
   "cell_type": "code",
   "execution_count": null,
   "metadata": {},
   "outputs": [],
   "source": [
    "# Сэмплируем случайные num_cards векторов\n",
    "def generate_arrays_from_file(image_vectors, words_vectors,\n",
    "                              batch_size = 50, num_cards = 10,\n",
    "                              num_words = 998):\n",
    "    while 1:\n",
    "        X_images = []\n",
    "        y_true_image = []\n",
    "        for i in range(batch_size):\n",
    "            img = np.array(sample(range(1,len(image_vectors)), num_cards))\n",
    "            X_images.append(img)\n",
    "            true_image = sample(img, 1)\n",
    "            y_true_image.append(np.array([1 if x==true_image\n",
    "                                          else 0 for x in X_images[i]]))\n",
    "        # Эмбеддинги для всех картинок\n",
    "        X_images = image_vectors[X_images].reshape(num_samples,\n",
    "                                                   1024, num_cards)\n",
    "        # Эмбеддинги для правильной картинки, размноженные 10 раз\n",
    "        t =np.array(X_images)[:,:,np.argmax(y_true_image)]\n",
    "        X_true_img = np.repeat(t.reshape(t.shape[0],t.shape[1],1),\n",
    "                               num_words,axis =2).reshape(num_samples,\n",
    "                                                          num_words, 1024)\n",
    "        # Эмбеддинги для всех текстов\n",
    "        X_all_texts = np.repeat(words_vectors.reshape(\n",
    "            1, num_words, 1024),num_samples, axis = 0 )\n",
    "        # Решейплю\n",
    "        X_images = X_images.reshape(batch_size,\n",
    "                                    num_cards, 1024)\n",
    "        # Ответы\n",
    "        y_true_image = np.array(y_true_image).reshape(batch_size,\n",
    "                                                      1, num_cards)\n",
    "        yield ([X_images, X_true_img, X_all_texts], y_true_image)\n",
    "   "
   ]
  },
  {
   "cell_type": "code",
   "execution_count": null,
   "metadata": {},
   "outputs": [],
   "source": [
    "# Дампим массив, в котором содержатся индексы  топ10,\n",
    "# близких по mse слов-ассоциаций к картинке для каждой картинки\n",
    "with open('preprocessed_data/idx_words_array.pickle', 'rb') as f:\n",
    "    idx_words_array = pickle.load( f)\n",
    "# Дампим массив, в котором содержатся индексы  топ10,\n",
    "# близких по mse слов-ассоциаций к картинке для каждого ckjdf\n",
    "with open('preprocessed_data/idx_images_array.pickle', 'rb') as f:\n",
    "    idx_images_array = pickle.load( f)\n",
    "# Дампим массив, в котором содержатся инфа о том,\n",
    "# в скольки процентах случаев это слово входит в топ-10 ближайших для всех картинок\n",
    "with open('preprocessed_data/norm_idx_words_array.pickle', 'rb') as f:\n",
    "    norm_idx_words_array = pickle.load( f, encoding='latin1')\n",
    "# Дампим массив, в котором содержатся инфа о том,\n",
    "# в скольки процентах случаев эта картинка входит в топ-10 ближайших для всех слов\n",
    "with open('preprocessed_data/norm_idx_images_array.pickle', 'rb') as f:\n",
    "    norm_idx_images_array = pickle.load( f, encoding='latin1')\n",
    "# Дампим массив, в котором содержатся расстояние до топ k слов \n",
    "with open('preprocessed_data/mse_words_top_array.pickle', 'rb') as f:\n",
    "    mse_words_top_array = pickle.load( f, encoding='latin1')\n",
    "# Дампим массив, в котором содержатся расстояние до топ k слов \n",
    "with open('preprocessed_data/mse_words_top_array.pickle', 'rb') as f:\n",
    "    mse_words_top_array = pickle.load( f, encoding='latin1')"
   ]
  }
 ],
 "metadata": {
  "kernelspec": {
   "display_name": "Python 3",
   "language": "python",
   "name": "python3"
  },
  "language_info": {
   "codemirror_mode": {
    "name": "ipython",
    "version": 3
   },
   "file_extension": ".py",
   "mimetype": "text/x-python",
   "name": "python",
   "nbconvert_exporter": "python",
   "pygments_lexer": "ipython3",
   "version": "3.6.2"
  }
 },
 "nbformat": 4,
 "nbformat_minor": 2
}
