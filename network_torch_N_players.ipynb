{
 "cells": [
  {
   "cell_type": "code",
   "execution_count": 1,
   "metadata": {},
   "outputs": [
    {
     "name": "stdout",
     "output_type": "stream",
     "text": [
      "Populating the interactive namespace from numpy and matplotlib\n"
     ]
    },
    {
     "name": "stderr",
     "output_type": "stream",
     "text": [
      "/home/lichi/venv/python3/lib/python3.5/site-packages/IPython/core/magics/pylab.py:160: UserWarning: pylab import has clobbered these variables: ['sample']\n",
      "`%matplotlib` prevents importing * from pylab and numpy\n",
      "  \"\\n`%matplotlib` prevents importing * from pylab and numpy\"\n"
     ]
    }
   ],
   "source": [
    "#os.chdir('/home/lichi/jupiter/imaginarium')\n",
    "import pandas as pd\n",
    "import numpy as np\n",
    "import pickle\n",
    "import os\n",
    "from random import sample\n",
    "\n",
    "import torch\n",
    "import torch.nn as nn\n",
    "import torch.nn.functional as F\n",
    "from torch.autograd import Variable\n",
    "from sklearn.decomposition import PCA\n",
    "from PIL import Image\n",
    "import matplotlib.pyplot as plt\n",
    "import matplotlib.image as mpimg\n",
    "%pylab inline\n",
    "\n",
    "from lib.gumbel_softmax import gumbel_softmax\n",
    "from lib.data_preprocessing import get_training_data, pca_transfrom\n",
    "\n",
    "device = torch.device('cuda:0' if torch.cuda.is_available() else 'cpu')\n",
    "device = 'cpu'"
   ]
  },
  {
   "cell_type": "code",
   "execution_count": 2,
   "metadata": {},
   "outputs": [],
   "source": [
    "logits = torch.FloatTensor([[0.2, 0.8, 0.]])\n",
    "#gumbel_softmax(logits)"
   ]
  },
  {
   "cell_type": "code",
   "execution_count": 3,
   "metadata": {},
   "outputs": [
    {
     "data": {
      "text/plain": [
       "tensor([[0., 0., 1.]])"
      ]
     },
     "execution_count": 3,
     "metadata": {},
     "output_type": "execute_result"
    }
   ],
   "source": [
    "gumbel_softmax(logits, tau=0.99, hard=True, eps=1e-10)"
   ]
  },
  {
   "cell_type": "markdown",
   "metadata": {},
   "source": [
    "#### Загружаем данные"
   ]
  },
  {
   "cell_type": "code",
   "execution_count": 4,
   "metadata": {},
   "outputs": [],
   "source": [
    "with open('preprocessed_data/words_coco_vectors.pickle', 'rb') as f:\n",
    "    words_vec = pickle.load(f, encoding='latin1')\n",
    "with open('preprocessed_data/image_coco_vectors.pickle', 'rb') as f:\n",
    "    img_vec = pickle.load( f, encoding='latin1')"
   ]
  },
  {
   "cell_type": "markdown",
   "metadata": {},
   "source": [
    "#### Бьем на трейн и тест"
   ]
  },
  {
   "cell_type": "code",
   "execution_count": 5,
   "metadata": {},
   "outputs": [],
   "source": [
    "words_vec_train = words_vec\n",
    "words_vec_test = words_vec\n",
    "img_vec_train = img_vec[:150,:]\n",
    "img_vec_test = img_vec[150:,:]"
   ]
  },
  {
   "cell_type": "markdown",
   "metadata": {},
   "source": [
    "### Делаем модель"
   ]
  },
  {
   "cell_type": "code",
   "execution_count": 17,
   "metadata": {},
   "outputs": [],
   "source": [
    "# Датасет - подготавливаем наборы из 10 картинок , выбираем из них случайно одну\n",
    "params = {\n",
    "    'num_samples': 500,\n",
    "    'num_cards': 5,\n",
    "    'num_words': 998,\n",
    "    'len_emb': 20,\n",
    "    'len_dense': 20,\n",
    "    'num_players':2\n",
    "}\n",
    "\n",
    "words_vec_train_pca, img_vec_train_pca, words_vec_test_pca, img_vec_test_pca  = pca_transfrom(\n",
    "    words_vec_train, img_vec_train, words_vec_test, img_vec_test, n_components = params['len_emb'])\n"
   ]
  },
  {
   "cell_type": "markdown",
   "metadata": {},
   "source": [
    "### Учим модель"
   ]
  },
  {
   "cell_type": "code",
   "execution_count": 18,
   "metadata": {
    "collapsed": true
   },
   "outputs": [
    {
     "name": "stdout",
     "output_type": "stream",
     "text": [
      "\n",
      " new_model, batch = 0, loss = -0.20489, acc = 0.276, probs = [0.20303097367286682, 0.2113690972328186, 0.1776033192873001, 0.19668729603290558, 0.21130932867527008]\n",
      "\n",
      " new_model, batch = 10, loss = -0.20388, acc = 0.2684, probs = [0.19750869274139404, 0.1752653867006302, 0.19953346252441406, 0.21284928917884827, 0.21484321355819702]\n",
      "\n",
      " new_model, batch = 20, loss = -0.2044, acc = 0.2772, probs = [0.17601805925369263, 0.21218344569206238, 0.19939960539340973, 0.20176571607589722, 0.21063314378261566]\n",
      "\n",
      " new_model, batch = 30, loss = -0.20399, acc = 0.2812, probs = [0.19056911766529083, 0.20984438061714172, 0.18617482483386993, 0.2095945030450821, 0.2038172036409378]\n",
      "\n",
      " new_model, batch = 40, loss = -0.20404, acc = 0.2776, probs = [0.19996197521686554, 0.19236449897289276, 0.20062267780303955, 0.21668675541877747, 0.19036412239074707]\n",
      "\n",
      " new_model, batch = 50, loss = -0.20393, acc = 0.2712, probs = [0.18557198345661163, 0.22047512233257294, 0.1904531717300415, 0.22739054262638092, 0.1761091947555542]\n",
      "\n",
      " new_model, batch = 60, loss = -0.20385, acc = 0.2664, probs = [0.20184557139873505, 0.1781855970621109, 0.1945992261171341, 0.22681771218776703, 0.1985519677400589]\n",
      "\n",
      " new_model, batch = 70, loss = -0.20373, acc = 0.2556, probs = [0.20001718401908875, 0.20636533200740814, 0.19885651767253876, 0.19661928713321686, 0.1981416791677475]\n",
      "\n",
      " new_model, batch = 80, loss = -0.20448, acc = 0.27880000000000005, probs = [0.19965289533138275, 0.17062591016292572, 0.2180720418691635, 0.2104012668132782, 0.20124785602092743]\n",
      "\n",
      " new_model, batch = 90, loss = -0.20431, acc = 0.2852, probs = [0.19551213085651398, 0.19343015551567078, 0.2006281316280365, 0.20675382018089294, 0.20367573201656342]\n",
      "\n",
      " new_model, batch = 100, loss = -0.20354, acc = 0.2484, probs = [0.195835143327713, 0.2010440081357956, 0.20322248339653015, 0.2087612897157669, 0.19113701581954956]\n",
      "\n",
      " new_model, batch = 110, loss = -0.20386, acc = 0.27, probs = [0.20471222698688507, 0.204793781042099, 0.20108568668365479, 0.1723000705242157, 0.21710820496082306]\n",
      "\n",
      " new_model, batch = 120, loss = -0.20387, acc = 0.2832, probs = [0.22070814669132233, 0.18976062536239624, 0.18963800370693207, 0.20053766667842865, 0.19935552775859833]\n",
      "\n",
      " new_model, batch = 130, loss = -0.20356, acc = 0.2616, probs = [0.20516084134578705, 0.17853201925754547, 0.2112458497285843, 0.1875281184911728, 0.2175331860780716]\n",
      "\n",
      " new_model, batch = 140, loss = -0.20416, acc = 0.27840000000000004, probs = [0.19904391467571259, 0.1790521740913391, 0.208089217543602, 0.1957126408815384, 0.21810202300548553]\n"
     ]
    },
    {
     "ename": "KeyboardInterrupt",
     "evalue": "",
     "output_type": "error",
     "traceback": [
      "\u001b[0;31m---------------------------------------------------------------------------\u001b[0m",
      "\u001b[0;31mKeyboardInterrupt\u001b[0m                         Traceback (most recent call last)",
      "\u001b[0;32m<ipython-input-18-20b81f73c8e0>\u001b[0m in \u001b[0;36m<module>\u001b[0;34m\u001b[0m\n\u001b[1;32m     24\u001b[0m \u001b[0;34m\u001b[0m\u001b[0m\n\u001b[1;32m     25\u001b[0m     y_pred = model(\n\u001b[0;32m---> 26\u001b[0;31m         \u001b[0mX_img\u001b[0m\u001b[0;34m,\u001b[0m \u001b[0mX_txt\u001b[0m\u001b[0;34m,\u001b[0m \u001b[0my_which_players_leader\u001b[0m\u001b[0;34m,\u001b[0m \u001b[0my_what_card_leader_choose\u001b[0m\u001b[0;34m\u001b[0m\u001b[0m\n\u001b[0m\u001b[1;32m     27\u001b[0m     )\n\u001b[1;32m     28\u001b[0m \u001b[0;34m\u001b[0m\u001b[0m\n",
      "\u001b[0;32m~/venv/python3/lib/python3.5/site-packages/torch/nn/modules/module.py\u001b[0m in \u001b[0;36m__call__\u001b[0;34m(self, *input, **kwargs)\u001b[0m\n\u001b[1;32m    487\u001b[0m             \u001b[0mresult\u001b[0m \u001b[0;34m=\u001b[0m \u001b[0mself\u001b[0m\u001b[0;34m.\u001b[0m\u001b[0m_slow_forward\u001b[0m\u001b[0;34m(\u001b[0m\u001b[0;34m*\u001b[0m\u001b[0minput\u001b[0m\u001b[0;34m,\u001b[0m \u001b[0;34m**\u001b[0m\u001b[0mkwargs\u001b[0m\u001b[0;34m)\u001b[0m\u001b[0;34m\u001b[0m\u001b[0m\n\u001b[1;32m    488\u001b[0m         \u001b[0;32melse\u001b[0m\u001b[0;34m:\u001b[0m\u001b[0;34m\u001b[0m\u001b[0m\n\u001b[0;32m--> 489\u001b[0;31m             \u001b[0mresult\u001b[0m \u001b[0;34m=\u001b[0m \u001b[0mself\u001b[0m\u001b[0;34m.\u001b[0m\u001b[0mforward\u001b[0m\u001b[0;34m(\u001b[0m\u001b[0;34m*\u001b[0m\u001b[0minput\u001b[0m\u001b[0;34m,\u001b[0m \u001b[0;34m**\u001b[0m\u001b[0mkwargs\u001b[0m\u001b[0;34m)\u001b[0m\u001b[0;34m\u001b[0m\u001b[0m\n\u001b[0m\u001b[1;32m    490\u001b[0m         \u001b[0;32mfor\u001b[0m \u001b[0mhook\u001b[0m \u001b[0;32min\u001b[0m \u001b[0mself\u001b[0m\u001b[0;34m.\u001b[0m\u001b[0m_forward_hooks\u001b[0m\u001b[0;34m.\u001b[0m\u001b[0mvalues\u001b[0m\u001b[0;34m(\u001b[0m\u001b[0;34m)\u001b[0m\u001b[0;34m:\u001b[0m\u001b[0;34m\u001b[0m\u001b[0m\n\u001b[1;32m    491\u001b[0m             \u001b[0mhook_result\u001b[0m \u001b[0;34m=\u001b[0m \u001b[0mhook\u001b[0m\u001b[0;34m(\u001b[0m\u001b[0mself\u001b[0m\u001b[0;34m,\u001b[0m \u001b[0minput\u001b[0m\u001b[0;34m,\u001b[0m \u001b[0mresult\u001b[0m\u001b[0;34m)\u001b[0m\u001b[0;34m\u001b[0m\u001b[0m\n",
      "\u001b[0;32m<ipython-input-14-7899a64cb47a>\u001b[0m in \u001b[0;36mforward\u001b[0;34m(self, x_img, x_txt, y_which_players_leader, y_what_card_leader_choose)\u001b[0m\n\u001b[1;32m     88\u001b[0m                   for num,ind in enumerate(index_chose_img)]\n\u001b[1;32m     89\u001b[0m         \u001b[0mx_leader_dense_repeat\u001b[0m \u001b[0;34m=\u001b[0m \u001b[0mtorch\u001b[0m\u001b[0;34m.\u001b[0m\u001b[0mstack\u001b[0m\u001b[0;34m(\u001b[0m\u001b[0moutput\u001b[0m\u001b[0;34m,\u001b[0m \u001b[0;36m0\u001b[0m\u001b[0;34m)\u001b[0m\u001b[0;34m\u001b[0m\u001b[0m\n\u001b[0;32m---> 90\u001b[0;31m         \u001b[0mlogits\u001b[0m \u001b[0;34m=\u001b[0m \u001b[0mself\u001b[0m\u001b[0;34m.\u001b[0m\u001b[0m_distance2axis\u001b[0m\u001b[0;34m(\u001b[0m\u001b[0mx_leader_dense_repeat\u001b[0m\u001b[0;34m,\u001b[0m \u001b[0mx_txt_dense\u001b[0m\u001b[0;34m)\u001b[0m\u001b[0;34m\u001b[0m\u001b[0m\n\u001b[0m\u001b[1;32m     91\u001b[0m         \u001b[0mweights_words\u001b[0m \u001b[0;34m=\u001b[0m \u001b[0mself\u001b[0m\u001b[0;34m.\u001b[0m\u001b[0m_softmax\u001b[0m\u001b[0;34m(\u001b[0m\u001b[0mlogits\u001b[0m\u001b[0;34m)\u001b[0m\u001b[0;34m\u001b[0m\u001b[0m\n\u001b[1;32m     92\u001b[0m         \u001b[0;31m#weights_words = gumbel_softmax(logits, hard = False, eps=1e-10)\u001b[0m\u001b[0;34m\u001b[0m\u001b[0;34m\u001b[0m\u001b[0m\n",
      "\u001b[0;32m~/venv/python3/lib/python3.5/site-packages/torch/nn/modules/module.py\u001b[0m in \u001b[0;36m__call__\u001b[0;34m(self, *input, **kwargs)\u001b[0m\n\u001b[1;32m    487\u001b[0m             \u001b[0mresult\u001b[0m \u001b[0;34m=\u001b[0m \u001b[0mself\u001b[0m\u001b[0;34m.\u001b[0m\u001b[0m_slow_forward\u001b[0m\u001b[0;34m(\u001b[0m\u001b[0;34m*\u001b[0m\u001b[0minput\u001b[0m\u001b[0;34m,\u001b[0m \u001b[0;34m**\u001b[0m\u001b[0mkwargs\u001b[0m\u001b[0;34m)\u001b[0m\u001b[0;34m\u001b[0m\u001b[0m\n\u001b[1;32m    488\u001b[0m         \u001b[0;32melse\u001b[0m\u001b[0;34m:\u001b[0m\u001b[0;34m\u001b[0m\u001b[0m\n\u001b[0;32m--> 489\u001b[0;31m             \u001b[0mresult\u001b[0m \u001b[0;34m=\u001b[0m \u001b[0mself\u001b[0m\u001b[0;34m.\u001b[0m\u001b[0mforward\u001b[0m\u001b[0;34m(\u001b[0m\u001b[0;34m*\u001b[0m\u001b[0minput\u001b[0m\u001b[0;34m,\u001b[0m \u001b[0;34m**\u001b[0m\u001b[0mkwargs\u001b[0m\u001b[0;34m)\u001b[0m\u001b[0;34m\u001b[0m\u001b[0m\n\u001b[0m\u001b[1;32m    490\u001b[0m         \u001b[0;32mfor\u001b[0m \u001b[0mhook\u001b[0m \u001b[0;32min\u001b[0m \u001b[0mself\u001b[0m\u001b[0;34m.\u001b[0m\u001b[0m_forward_hooks\u001b[0m\u001b[0;34m.\u001b[0m\u001b[0mvalues\u001b[0m\u001b[0;34m(\u001b[0m\u001b[0;34m)\u001b[0m\u001b[0;34m:\u001b[0m\u001b[0;34m\u001b[0m\u001b[0m\n\u001b[1;32m    491\u001b[0m             \u001b[0mhook_result\u001b[0m \u001b[0;34m=\u001b[0m \u001b[0mhook\u001b[0m\u001b[0;34m(\u001b[0m\u001b[0mself\u001b[0m\u001b[0;34m,\u001b[0m \u001b[0minput\u001b[0m\u001b[0;34m,\u001b[0m \u001b[0mresult\u001b[0m\u001b[0;34m)\u001b[0m\u001b[0;34m\u001b[0m\u001b[0m\n",
      "\u001b[0;32m~/venv/python3/lib/python3.5/site-packages/torch/nn/modules/distance.py\u001b[0m in \u001b[0;36mforward\u001b[0;34m(self, x1, x2)\u001b[0m\n\u001b[1;32m     78\u001b[0m     \u001b[0;34m@\u001b[0m\u001b[0mweak_script_method\u001b[0m\u001b[0;34m\u001b[0m\u001b[0m\n\u001b[1;32m     79\u001b[0m     \u001b[0;32mdef\u001b[0m \u001b[0mforward\u001b[0m\u001b[0;34m(\u001b[0m\u001b[0mself\u001b[0m\u001b[0;34m,\u001b[0m \u001b[0mx1\u001b[0m\u001b[0;34m,\u001b[0m \u001b[0mx2\u001b[0m\u001b[0;34m)\u001b[0m\u001b[0;34m:\u001b[0m\u001b[0;34m\u001b[0m\u001b[0m\n\u001b[0;32m---> 80\u001b[0;31m         \u001b[0;32mreturn\u001b[0m \u001b[0mF\u001b[0m\u001b[0;34m.\u001b[0m\u001b[0mcosine_similarity\u001b[0m\u001b[0;34m(\u001b[0m\u001b[0mx1\u001b[0m\u001b[0;34m,\u001b[0m \u001b[0mx2\u001b[0m\u001b[0;34m,\u001b[0m \u001b[0mself\u001b[0m\u001b[0;34m.\u001b[0m\u001b[0mdim\u001b[0m\u001b[0;34m,\u001b[0m \u001b[0mself\u001b[0m\u001b[0;34m.\u001b[0m\u001b[0meps\u001b[0m\u001b[0;34m)\u001b[0m\u001b[0;34m\u001b[0m\u001b[0m\n\u001b[0m",
      "\u001b[0;31mKeyboardInterrupt\u001b[0m: "
     ]
    }
   ],
   "source": [
    "model = ImaginariumModel(params).to(device)\n",
    "loss_fn = torch.nn.NLLLoss().to(device)\n",
    "accuracy_list, loss_list = [], []\n",
    "\n",
    "\n",
    "num_batches = 1000\n",
    "end_lr = 1.0\n",
    "factor = 1000\n",
    "step_size = 10\n",
    "\n",
    "for t in range(num_batches):\n",
    "    \n",
    "    optimizer = torch.optim.SGD(model.parameters(), lr=1)\n",
    "    \n",
    "    clr = cyclical_lr(step_size, min_lr = end_lr / factor, max_lr = end_lr)\n",
    "    scheduler = torch.optim.lr_scheduler.LambdaLR(optimizer, [clr])\n",
    "    \n",
    "    X_img, y_what_card_leader_choose, X_txt, X_img_ind = get_training_data(\n",
    "        params, img_vec_train_pca, words_vec_train_pca\n",
    "    )\n",
    "    y_which_players_leader = torch.LongTensor([np.random.randint(\n",
    "        0,params['num_players']) for x in range(params['num_samples'])\n",
    "                             ])\n",
    "    \n",
    "    y_pred = model(\n",
    "        X_img, X_txt, y_which_players_leader, y_what_card_leader_choose\n",
    "    )\n",
    "    \n",
    "    y_pred_ind = np.argmax(\n",
    "        y_pred.detach().numpy(),\n",
    "        axis = 1\n",
    "    )\n",
    "    \n",
    "    if params['num_players'] < 3:\n",
    "        target = np.argmax(y_what_card_leader_choose, axis = 1)\n",
    "    else:\n",
    "        target = y_which_players_leader\n",
    "    \n",
    "    accuracy = np.mean([x == y for x,y\n",
    "                    in zip(y_pred_ind, target)])\n",
    "    accuracy_list.append(accuracy)\n",
    "    \n",
    "    loss = loss_fn(y_pred, target)\n",
    "    loss_list.append(loss.item())\n",
    "    if t % 10. == 0:\n",
    "        print('\\n new_model, batch = {0}, loss = {1}, acc = {3}, probs = {2}'.format(\n",
    "            t, round(mean(loss_list[-5:]),5), str(y_pred[0,:].tolist()), mean(accuracy_list[-5:])))\n",
    "    optimizer.zero_grad()\n",
    "    loss.backward()\n",
    "    #scheduler.step()\n",
    "    optimizer.step()\n",
    "    "
   ]
  },
  {
   "cell_type": "markdown",
   "metadata": {},
   "source": [
    "### Класс новый"
   ]
  },
  {
   "cell_type": "code",
   "execution_count": 14,
   "metadata": {},
   "outputs": [],
   "source": [
    "class ImaginariumModel(torch.nn.Module):\n",
    "    def __init__(self, params, inference = False, categorical = False):\n",
    "        \"\"\"\n",
    "        In the constructor we instantiate two nn.Linear modules and assign them as\n",
    "        member variables.\n",
    "        \"\"\"\n",
    "        super(ImaginariumModel, self).__init__()\n",
    "        self._params = params\n",
    "        \n",
    "        self._linear10 = torch.nn.Linear(params['len_emb'], params['len_dense'])\n",
    "        self._linear11 = torch.nn.Linear(params['len_emb'], params['len_dense'])\n",
    "        self._linear12 = torch.nn.Linear(params['len_emb'], params['len_dense'])\n",
    "        self._linear13 = torch.nn.Linear(params['len_emb'], params['len_dense'])\n",
    "        self._linear2 = torch.nn.Linear(params['num_cards'], params['num_cards'])\n",
    "        self._distance0axis = torch.nn.modules.distance.CosineSimilarity(dim = 0)\n",
    "        self._distance1axis = torch.nn.modules.distance.CosineSimilarity(dim = 1)\n",
    "        self._distance2axis = torch.nn.modules.distance.CosineSimilarity(dim = 2)\n",
    "        self._distance3axis = torch.nn.modules.distance.CosineSimilarity(dim = 3)\n",
    "        self._softmax = torch.nn.Softmax()\n",
    "        self._softmax1dim = torch.nn.Softmax(dim=1)\n",
    "        self._softmax2dim = torch.nn.Softmax(dim=2)\n",
    "        self._relu = torch.nn.ReLU()\n",
    "        self._combination = nn.Sequential(self._linear10, self._softmax1dim, self._linear12)\n",
    "        self._combination2 = nn.Sequential(self._linear11, self._relu, self._linear13)\n",
    "        self._inference = inference\n",
    "        self._categorical = categorical\n",
    "        \n",
    "    def plus_images(self, X_all, X_leader, final_words, index_chose_img):\n",
    "        final_words_repeat = final_words.repeat(params['num_cards'],1,1).permute(1,0,2)\n",
    "        final_words_loss_repeat = final_words.repeat(\n",
    "            params['num_players'],1,1\n",
    "        ).permute(1,0,2)\n",
    "        final_words_weights_images = final_words.repeat(\n",
    "            params['num_cards'],1,1\n",
    "        ).permute(1,0,2).repeat(\n",
    "            params['num_players'],1,1,1\n",
    "        )\n",
    "        # Считаем расстояние от каждой картинки до слова лидера\n",
    "        weights_images = (\n",
    "            self._distance3axis(\n",
    "                X_all, final_words_weights_images\n",
    "            )\n",
    "        )\n",
    "\n",
    "        weights_images = self._softmax2dim(weights_images)\n",
    "\n",
    "        # Получаем по картинке для каждого игрока и ведущего\n",
    "        final_images = torch.mul(weights_images,\n",
    "                                 X_all.permute(3,0,1,2)).permute(1,2,3,0).sum(dim = 2)\n",
    "        ### Выбираем между ними и картинкой ведущего\n",
    "        X_leader_true = torch.stack([X_leader[num,ind,:]\n",
    "                                     for num,ind in enumerate(index_chose_img)]).unsqueeze(0)\n",
    "        #all_final_images = torch.cat((X_leader_true, final_images))\n",
    "        all_final_images = final_images\n",
    "        \n",
    "        ### Опять считаем расстояния (от размноженных на 3 игрока слов\n",
    "        \n",
    "        distance_works_leader_images_players = self._distance2axis(\n",
    "            final_words_loss_repeat.permute(1,0,2), all_final_images\n",
    "        )\n",
    "        return self._softmax1dim(\n",
    "            distance_works_leader_images_players.permute(1,0)\n",
    "        )\n",
    "\n",
    "    def forward(self, x_img, x_txt, y_which_players_leader, y_what_card_leader_choose):\n",
    "        \"\"\"\n",
    "        In the forward function we accept a Tensor of input data and we must return\n",
    "        a Tensor of output data. We can use Modules defined in the constructor as\n",
    "        well as arbitrary (differentiable) operations on Tensors.\n",
    "        \"\"\"\n",
    "        \n",
    "        if not self._inference:\n",
    "            x_img_dense = self._linear10(x_img)\n",
    "            x_txt_dense = x_txt\n",
    "        else:\n",
    "            x_img_dense = x_img\n",
    "            x_txt_dense = x_txt\n",
    "            \n",
    "        if params['num_players']<3:\n",
    "            x_leader_dense = x_img_dense\n",
    "        else:\n",
    "            x_leader_dense = torch.stack([x_img_dense[ind,i,:,:]\n",
    "                                      for i,ind in enumerate(y_which_players_leader)])\n",
    "\n",
    "        ### Делаем наиболее подходящие картинки\n",
    "        index_chose_img = torch.argmax(y_what_card_leader_choose, dim=1)\n",
    "        output = [x_leader_dense[num,ind,:].repeat(self._params['num_words'],1)\n",
    "                  for num,ind in enumerate(index_chose_img)]\n",
    "        x_leader_dense_repeat = torch.stack(output, 0)\n",
    "        logits = self._distance2axis(x_leader_dense_repeat, x_txt_dense)\n",
    "        weights_words = self._softmax(logits)\n",
    "        #weights_words = gumbel_softmax(logits, hard = False, eps=1e-10)\n",
    "        \n",
    "        final_words = torch.mul(weights_words, x_txt_dense.permute(2,0,1)).permute(1,2,0).sum(dim = 1)\n",
    "        \n",
    "        if params['num_players']<3:\n",
    "            final_words_repeat = final_words.repeat(params['num_cards'],1,1).permute(1,0,2)\n",
    "            logits = self._distance2axis(\n",
    "                    final_words_repeat, x_leader_dense\n",
    "                )\n",
    "            return self._softmax(logits)\n",
    "        \n",
    "\n",
    "        distance_works_leader_images_players = self.plus_images(x_img_dense, x_leader_dense,\n",
    "                                              final_words, index_chose_img)\n",
    "        return distance_works_leader_images_players\n",
    "\n"
   ]
  },
  {
   "cell_type": "code",
   "execution_count": null,
   "metadata": {},
   "outputs": [],
   "source": []
  },
  {
   "cell_type": "markdown",
   "metadata": {},
   "source": [
    "### Бейзлайн"
   ]
  },
  {
   "cell_type": "code",
   "execution_count": 61,
   "metadata": {},
   "outputs": [],
   "source": [
    "def count_baseline_results(params):\n",
    "    X_img, y_what_card_leader_choose, X_txt, X_img_ind = get_training_data(\n",
    "    params, img_vec_test_pca, words_vec_test_pca\n",
    "    )\n",
    "    y_which_players_leader = torch.LongTensor([np.random.randint(\n",
    "        0,params['num_players']) for x in range(params['num_samples'])\n",
    "                             ])\n",
    "\n",
    "    model_base = ImaginariumModel(params, inference = True, categorical = False).to(device)\n",
    "\n",
    "    y_pred = model_base(\n",
    "            X_img, X_txt, y_which_players_leader, y_what_card_leader_choose\n",
    "        )\n",
    "    y_pred_ind = np.argmax(\n",
    "        y_pred.detach().numpy(),\n",
    "        axis = 1\n",
    "    )\n",
    "    accuracy_baseline = np.mean([x==y for x,y\n",
    "                    in zip(y_pred_ind, y_which_players_leader)])\n",
    "    return accuracy_baseline\n",
    "    \n"
   ]
  },
  {
   "cell_type": "code",
   "execution_count": 128,
   "metadata": {
    "collapsed": true
   },
   "outputs": [
    {
     "name": "stderr",
     "output_type": "stream",
     "text": [
      "/home/lichi/venv/python3/lib/python3.5/site-packages/ipykernel_launcher.py:106: UserWarning: Implicit dimension choice for softmax has been deprecated. Change the call to include dim=X as an argument.\n",
      "/home/lichi/venv/python3/lib/python3.5/site-packages/ipykernel_launcher.py:106: UserWarning: Implicit dimension choice for softmax has been deprecated. Change the call to include dim=X as an argument.\n",
      "/home/lichi/venv/python3/lib/python3.5/site-packages/ipykernel_launcher.py:106: UserWarning: Implicit dimension choice for softmax has been deprecated. Change the call to include dim=X as an argument.\n",
      "/home/lichi/venv/python3/lib/python3.5/site-packages/ipykernel_launcher.py:106: UserWarning: Implicit dimension choice for softmax has been deprecated. Change the call to include dim=X as an argument.\n"
     ]
    },
    {
     "ename": "KeyboardInterrupt",
     "evalue": "",
     "output_type": "error",
     "traceback": [
      "\u001b[0;31m---------------------------------------------------------------------------\u001b[0m",
      "\u001b[0;31mKeyboardInterrupt\u001b[0m                         Traceback (most recent call last)",
      "\u001b[0;32m<ipython-input-128-4bc8eee8326c>\u001b[0m in \u001b[0;36m<module>\u001b[0;34m\u001b[0m\n\u001b[1;32m     13\u001b[0m     words_vec_train_pca, img_vec_train_pca, words_vec_test_pca, img_vec_test_pca  = pca_transfrom(\n\u001b[1;32m     14\u001b[0m         words_vec_train, img_vec_train, words_vec_test, img_vec_test, n_components = params['len_emb'])\n\u001b[0;32m---> 15\u001b[0;31m     \u001b[0maccuracy_list_baseline\u001b[0m\u001b[0;34m.\u001b[0m\u001b[0mappend\u001b[0m\u001b[0;34m(\u001b[0m\u001b[0mcount_baseline_results\u001b[0m\u001b[0;34m(\u001b[0m\u001b[0mparams\u001b[0m\u001b[0;34m)\u001b[0m\u001b[0;34m)\u001b[0m\u001b[0;34m\u001b[0m\u001b[0m\n\u001b[0m",
      "\u001b[0;32m<ipython-input-61-04cb11afbea7>\u001b[0m in \u001b[0;36mcount_baseline_results\u001b[0;34m(params)\u001b[0m\n\u001b[1;32m     10\u001b[0m \u001b[0;34m\u001b[0m\u001b[0m\n\u001b[1;32m     11\u001b[0m     y_pred = model_base(\n\u001b[0;32m---> 12\u001b[0;31m             \u001b[0mX_img\u001b[0m\u001b[0;34m,\u001b[0m \u001b[0mX_txt\u001b[0m\u001b[0;34m,\u001b[0m \u001b[0my_which_players_leader\u001b[0m\u001b[0;34m,\u001b[0m \u001b[0my_what_card_leader_choose\u001b[0m\u001b[0;34m\u001b[0m\u001b[0m\n\u001b[0m\u001b[1;32m     13\u001b[0m         )\n\u001b[1;32m     14\u001b[0m     y_pred_ind = np.argmax(\n",
      "\u001b[0;32m~/venv/python3/lib/python3.5/site-packages/torch/nn/modules/module.py\u001b[0m in \u001b[0;36m__call__\u001b[0;34m(self, *input, **kwargs)\u001b[0m\n\u001b[1;32m    487\u001b[0m             \u001b[0mresult\u001b[0m \u001b[0;34m=\u001b[0m \u001b[0mself\u001b[0m\u001b[0;34m.\u001b[0m\u001b[0m_slow_forward\u001b[0m\u001b[0;34m(\u001b[0m\u001b[0;34m*\u001b[0m\u001b[0minput\u001b[0m\u001b[0;34m,\u001b[0m \u001b[0;34m**\u001b[0m\u001b[0mkwargs\u001b[0m\u001b[0;34m)\u001b[0m\u001b[0;34m\u001b[0m\u001b[0m\n\u001b[1;32m    488\u001b[0m         \u001b[0;32melse\u001b[0m\u001b[0;34m:\u001b[0m\u001b[0;34m\u001b[0m\u001b[0m\n\u001b[0;32m--> 489\u001b[0;31m             \u001b[0mresult\u001b[0m \u001b[0;34m=\u001b[0m \u001b[0mself\u001b[0m\u001b[0;34m.\u001b[0m\u001b[0mforward\u001b[0m\u001b[0;34m(\u001b[0m\u001b[0;34m*\u001b[0m\u001b[0minput\u001b[0m\u001b[0;34m,\u001b[0m \u001b[0;34m**\u001b[0m\u001b[0mkwargs\u001b[0m\u001b[0;34m)\u001b[0m\u001b[0;34m\u001b[0m\u001b[0m\n\u001b[0m\u001b[1;32m    490\u001b[0m         \u001b[0;32mfor\u001b[0m \u001b[0mhook\u001b[0m \u001b[0;32min\u001b[0m \u001b[0mself\u001b[0m\u001b[0;34m.\u001b[0m\u001b[0m_forward_hooks\u001b[0m\u001b[0;34m.\u001b[0m\u001b[0mvalues\u001b[0m\u001b[0;34m(\u001b[0m\u001b[0;34m)\u001b[0m\u001b[0;34m:\u001b[0m\u001b[0;34m\u001b[0m\u001b[0m\n\u001b[1;32m    491\u001b[0m             \u001b[0mhook_result\u001b[0m \u001b[0;34m=\u001b[0m \u001b[0mhook\u001b[0m\u001b[0;34m(\u001b[0m\u001b[0mself\u001b[0m\u001b[0;34m,\u001b[0m \u001b[0minput\u001b[0m\u001b[0;34m,\u001b[0m \u001b[0mresult\u001b[0m\u001b[0;34m)\u001b[0m\u001b[0;34m\u001b[0m\u001b[0m\n",
      "\u001b[0;32m<ipython-input-109-4f6dba897691>\u001b[0m in \u001b[0;36mforward\u001b[0;34m(self, x_img, x_txt, y_which_players_leader, y_what_card_leader_choose)\u001b[0m\n\u001b[1;32m     99\u001b[0m         \u001b[0mindex_chose_img\u001b[0m \u001b[0;34m=\u001b[0m \u001b[0mtorch\u001b[0m\u001b[0;34m.\u001b[0m\u001b[0margmax\u001b[0m\u001b[0;34m(\u001b[0m\u001b[0my_what_card_leader_choose\u001b[0m\u001b[0;34m,\u001b[0m \u001b[0mdim\u001b[0m\u001b[0;34m=\u001b[0m\u001b[0;36m1\u001b[0m\u001b[0;34m)\u001b[0m\u001b[0;34m\u001b[0m\u001b[0m\n\u001b[1;32m    100\u001b[0m         output = [x_leader_dense[num,ind,:].repeat(self._params['num_words'],1)\n\u001b[0;32m--> 101\u001b[0;31m                   for num,ind in enumerate(index_chose_img)]\n\u001b[0m\u001b[1;32m    102\u001b[0m         \u001b[0mx_leader_dense_repeat\u001b[0m \u001b[0;34m=\u001b[0m \u001b[0mtorch\u001b[0m\u001b[0;34m.\u001b[0m\u001b[0mstack\u001b[0m\u001b[0;34m(\u001b[0m\u001b[0moutput\u001b[0m\u001b[0;34m,\u001b[0m \u001b[0;36m0\u001b[0m\u001b[0;34m)\u001b[0m\u001b[0;34m\u001b[0m\u001b[0m\n\u001b[1;32m    103\u001b[0m         weights_words = self._softmax(\n",
      "\u001b[0;32m<ipython-input-109-4f6dba897691>\u001b[0m in \u001b[0;36m<listcomp>\u001b[0;34m(.0)\u001b[0m\n\u001b[1;32m     99\u001b[0m         \u001b[0mindex_chose_img\u001b[0m \u001b[0;34m=\u001b[0m \u001b[0mtorch\u001b[0m\u001b[0;34m.\u001b[0m\u001b[0margmax\u001b[0m\u001b[0;34m(\u001b[0m\u001b[0my_what_card_leader_choose\u001b[0m\u001b[0;34m,\u001b[0m \u001b[0mdim\u001b[0m\u001b[0;34m=\u001b[0m\u001b[0;36m1\u001b[0m\u001b[0;34m)\u001b[0m\u001b[0;34m\u001b[0m\u001b[0m\n\u001b[1;32m    100\u001b[0m         output = [x_leader_dense[num,ind,:].repeat(self._params['num_words'],1)\n\u001b[0;32m--> 101\u001b[0;31m                   for num,ind in enumerate(index_chose_img)]\n\u001b[0m\u001b[1;32m    102\u001b[0m         \u001b[0mx_leader_dense_repeat\u001b[0m \u001b[0;34m=\u001b[0m \u001b[0mtorch\u001b[0m\u001b[0;34m.\u001b[0m\u001b[0mstack\u001b[0m\u001b[0;34m(\u001b[0m\u001b[0moutput\u001b[0m\u001b[0;34m,\u001b[0m \u001b[0;36m0\u001b[0m\u001b[0;34m)\u001b[0m\u001b[0;34m\u001b[0m\u001b[0m\n\u001b[1;32m    103\u001b[0m         weights_words = self._softmax(\n",
      "\u001b[0;31mKeyboardInterrupt\u001b[0m: "
     ]
    }
   ],
   "source": [
    "len_emb_list = [2,3,4,5,10, 15, 20, 50, 100, 150, 200, 250, 500, 900, 1000, 1024, 1023]\n",
    "accuracy_list_baseline = []\n",
    "for len_emb in len_emb_list:\n",
    "    params = {\n",
    "        'num_samples': 2000,\n",
    "        'num_cards': 5,\n",
    "        'num_words': 998,\n",
    "        'len_emb': len_emb,\n",
    "        'len_dense': 50,\n",
    "        'num_players':5,\n",
    "    }\n",
    "    \n",
    "    words_vec_train_pca, img_vec_train_pca, words_vec_test_pca, img_vec_test_pca  = pca_transfrom(\n",
    "        words_vec_train, img_vec_train, words_vec_test, img_vec_test, n_components = params['len_emb'])\n",
    "    accuracy_list_baseline.append(count_baseline_results(params))"
   ]
  },
  {
   "cell_type": "code",
   "execution_count": 57,
   "metadata": {},
   "outputs": [
    {
     "name": "stderr",
     "output_type": "stream",
     "text": [
      "No handles with labels found to put in legend.\n"
     ]
    },
    {
     "data": {
      "image/png": "[encoded data removed]",
      "text/plain": [
       "<Figure size 576x432 with 1 Axes>"
      ]
     },
     "metadata": {
      "needs_background": "light"
     },
     "output_type": "display_data"
    }
   ],
   "source": [
    "N = len(len_emb_list)\n",
    "folder = 'N_players/cooperative'\n",
    "title = 'Baseline accuracy, depends on num pca components, num_players = {0}'.format(params['num_players'])\n",
    "fig = plt.plot(len_emb_list[:N], accuracy_list_baseline[:N])\n",
    "plt.ylabel('Accuracy on test')\n",
    "plt.title(title)\n",
    "plt.legend()\n",
    "savefig('pictures/{0}/{1}.png'.format(folder, title))"
   ]
  },
  {
   "cell_type": "markdown",
   "metadata": {},
   "source": [
    "# Рисуем графики"
   ]
  },
  {
   "cell_type": "code",
   "execution_count": 192,
   "metadata": {},
   "outputs": [
    {
     "data": {
      "image/png": "[encoded data removed]",
      "text/plain": [
       "<Figure size 576x432 with 1 Axes>"
      ]
     },
     "metadata": {
      "needs_background": "light"
     },
     "output_type": "display_data"
    }
   ],
   "source": [
    "mean_acc = accuracy_list\n",
    "title = 'Test accuracy, 2 image layers + relu,\\n len_emb = {0}, len_dense = {1}'.format(\n",
    "    params['len_emb'], params['len_dense'])\n",
    "folder = 'N_players/cooperative'\n",
    "fig = plt.plot(list(range( len(mean_acc))), mean_acc, label = 'model')\n",
    "plt.xlabel('Number of epoch')\n",
    "plt.ylabel('Accuracy on test')\n",
    "plt.title(title)\n",
    "savefig('pictures/{0}/{1}.png'.format(folder, title))"
   ]
  },
  {
   "cell_type": "markdown",
   "metadata": {},
   "source": [
    "#### Функция, которая берет тестовую и тренировочную выборку"
   ]
  },
  {
   "cell_type": "code",
   "execution_count": null,
   "metadata": {},
   "outputs": [],
   "source": [
    "def probs_metrics_test_train(model, params, img_vec_pca, words_vec_pca):\n",
    "    X_img, y_what_card_leader_choose, X_txt, X_img_ind = get_training_data(\n",
    "        params, img_vec_pca, words_vec_pca\n",
    "    )\n",
    "    y_which_players_leader = torch.LongTensor([np.random.randint(\n",
    "        0,params['num_players']) for x in range(params['num_samples'])\n",
    "                             ])\n",
    "    y_pred = model(\n",
    "        X_img, X_txt, y_which_players_leader, y_what_card_leader_choose\n",
    "    )\n",
    "    y_pred_ind = np.argmax(\n",
    "        y_pred.detach().numpy(),\n",
    "        axis = 1\n",
    "    )\n",
    "    return (y_pred, y_which_players_leader, np.mean([x==y for x,y\n",
    "                    in zip(y_pred_ind, y_which_players_leader)]))"
   ]
  },
  {
   "cell_type": "markdown",
   "metadata": {},
   "source": [
    "### Логирование в tensorboard"
   ]
  },
  {
   "cell_type": "code",
   "execution_count": null,
   "metadata": {},
   "outputs": [],
   "source": [
    "from tensorboardX import SummaryWriter\n",
    "tensorboard = SummaryWriter('runs')\n",
    "\n",
    "\n",
    "x = np.arange(1,101)\n",
    "y = 20 + 3 * x + np.random.random(100) * 100\n",
    "\n",
    "# Log simple values\n",
    "for i in range(0,100):\n",
    "    tensorboard.add_scalar('value', y[i], i)\n",
    "\n",
    "# Log images \n",
    "#img = skimage.io.imread(r'C:\\Users\\212551241\\Downloads\\example_img.jpg')\n",
    "#tensorboard.add_image('example_image', img, 0)\n",
    "\n",
    "# Log plots\n",
    "fig = plt.figure()\n",
    "plt.plot(x, y, 'o')\n",
    "plt.close()\n",
    "tensorboard.add_figure('example_plot', fig, 0)\n",
    "\n",
    "# Log histograms\n",
    "rng = np.random.RandomState(10)\n",
    "a = np.hstack((rng.normal(size=1000), rng.normal(loc=5, scale=2, size=1000)))\n",
    "tensorboard.add_histogram('example_hist', a, 0, 'auto')\n",
    "\n",
    "tensorboard.close()"
   ]
  },
  {
   "cell_type": "markdown",
   "metadata": {},
   "source": [
    "### Дебажим"
   ]
  },
  {
   "cell_type": "code",
   "execution_count": 10,
   "metadata": {},
   "outputs": [],
   "source": [
    "def cyclical_lr(stepsize, min_lr=3e-2, max_lr=3e-3):\n",
    "\n",
    "    # Scaler: we can adapt this if we do not want the triangular CLR\n",
    "    scaler = lambda x: 1.\n",
    "\n",
    "    # Lambda function to calculate the LR\n",
    "    lr_lambda = lambda it: min_lr + (max_lr - min_lr) * relative(it, stepsize)\n",
    "\n",
    "    # Additional function to see where on the cycle we are\n",
    "    def relative(it, stepsize):\n",
    "        cycle = math.floor(1 + it / (2 * stepsize))\n",
    "        x = abs(it / stepsize - 2 * cycle + 1)\n",
    "        return max(0, (1 - x)) * scaler(cycle)\n",
    "\n",
    "    return lr_lambda"
   ]
  },
  {
   "cell_type": "markdown",
   "metadata": {},
   "source": [
    "### Шапка для картинок"
   ]
  },
  {
   "cell_type": "code",
   "execution_count": 12,
   "metadata": {},
   "outputs": [
    {
     "name": "stdout",
     "output_type": "stream",
     "text": [
      "Populating the interactive namespace from numpy and matplotlib\n"
     ]
    },
    {
     "name": "stderr",
     "output_type": "stream",
     "text": [
      "/home/lichi/venv/python3/lib/python3.5/site-packages/IPython/core/magics/pylab.py:160: UserWarning: pylab import has clobbered these variables: ['f']\n",
      "`%matplotlib` prevents importing * from pylab and numpy\n",
      "  \"\\n`%matplotlib` prevents importing * from pylab and numpy\"\n"
     ]
    }
   ],
   "source": [
    "%pylab inline\n",
    "import warnings\n",
    "warnings.filterwarnings(\"ignore\")\n",
    "plt.rcParams['figure.figsize'] = 8, 6\n",
    "plt.rcParams['axes.grid'] = True\n",
    "pd.set_option('display.max_columns', None)\n",
    "import matplotlib.pyplot as plt\n",
    "import matplotlib as mpl\n",
    "mpl.rcParams['font.family'] = 'Ubuntu'\n",
    "plt.rc('text', usetex=False)\n",
    "plt.rc('font', family='serif')\n",
    "plt.rc('font', weight='bold')\n",
    "plt.rc('xtick', labelsize=10) \n",
    "plt.rc('ytick', labelsize=10)\n",
    "# чтобы был русский шрифт\n",
    "from matplotlib import rc\n",
    "font = {'family': 'Verdana',\n",
    "        'weight': 'normal'}\n",
    "rc('font', **font)\n"
   ]
  },
  {
   "cell_type": "code",
   "execution_count": null,
   "metadata": {},
   "outputs": [],
   "source": []
  }
 ],
 "metadata": {
  "kernelspec": {
   "display_name": "python3",
   "language": "python",
   "name": "py3env"
  },
  "language_info": {
   "codemirror_mode": {
    "name": "ipython",
    "version": 3
   },
   "file_extension": ".py",
   "mimetype": "text/x-python",
   "name": "python",
   "nbconvert_exporter": "python",
   "pygments_lexer": "ipython3",
   "version": "3.5.2"
  }
 },
 "nbformat": 4,
 "nbformat_minor": 2
}
