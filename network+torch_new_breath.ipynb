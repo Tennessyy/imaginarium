{
 "cells": [
  {
   "cell_type": "code",
   "execution_count": 1,
   "metadata": {},
   "outputs": [
    {
     "name": "stdout",
     "output_type": "stream",
     "text": [
      "Populating the interactive namespace from numpy and matplotlib\n"
     ]
    }
   ],
   "source": [
    "#os.chdir('/home/lichi/jupiter/imaginarium')\n",
    "from PIL import Image\n",
    "\n",
    "import matplotlib.pyplot as plt\n",
    "import matplotlib.image as mpimg\n",
    "%pylab inline\n",
    "\n",
    "import pandas as pd\n",
    "import numpy as np\n",
    "import pickle\n",
    "import os\n",
    "from random import sample\n",
    "\n",
    "import torch\n",
    "import torch.nn as nn\n",
    "import torch.nn.functional as F\n",
    "from torch.autograd import Variable\n",
    "device = torch.device('cuda:0' if torch.cuda.is_available() else 'cpu')\n",
    "device = 'cpu'"
   ]
  },
  {
   "cell_type": "code",
   "execution_count": 2,
   "metadata": {},
   "outputs": [],
   "source": [
    "with open('preprocessed_data/words_coco_vectors.pickle', 'rb') as f:\n",
    "    words_vec = pickle.load( f, encoding='latin1')\n",
    "with open('preprocessed_data/image_coco_vectors.pickle', 'rb') as f:\n",
    "    img_vec = pickle.load( f, encoding='latin1')"
   ]
  },
  {
   "cell_type": "code",
   "execution_count": 150,
   "metadata": {},
   "outputs": [],
   "source": [
    "words_vec_train = words_vec\n",
    "words_vec_test = words_vec\n",
    "img_vec_train = img_vec[:150,:]\n",
    "img_vec_test = img_vec[150:,:]"
   ]
  },
  {
   "cell_type": "code",
   "execution_count": 160,
   "metadata": {},
   "outputs": [
    {
     "data": {
      "text/plain": [
       "PCA(copy=True, iterated_power='auto', n_components=50, random_state=None,\n",
       "  svd_solver='auto', tol=0.0, whiten=False)"
      ]
     },
     "execution_count": 160,
     "metadata": {},
     "output_type": "execute_result"
    }
   ],
   "source": [
    "from sklearn.decomposition import PCA\n",
    "pca = PCA(n_components=50)\n",
    "pca.fit(np.concatenate([words_vec_train, img_vec_train]))\n",
    "\n",
    "#words_vec_train_pca = pca.transform(words_vec_train)\n",
    "#img_vec_train_pca = pca.transform(img_vec_train)\n",
    "#\n",
    "#words_vec_test_pca = pca.transform(words_vec_test)\n",
    "#img_vec_test_pca = pca.transform(img_vec_test)"
   ]
  },
  {
   "cell_type": "code",
   "execution_count": 161,
   "metadata": {},
   "outputs": [],
   "source": [
    "words_vec_train_pca = words_vec_train\n",
    "img_vec_train_pca = img_vec_train\n",
    "\n",
    "words_vec_test_pca = words_vec_test\n",
    "img_vec_test_pca = img_vec_test"
   ]
  },
  {
   "cell_type": "code",
   "execution_count": 162,
   "metadata": {},
   "outputs": [],
   "source": [
    "#from lib.torch_models import ImaginariumModel as ImaginariumModel_lib\n",
    "from lib.gumbel_softmax import gumbel_softmax"
   ]
  },
  {
   "cell_type": "code",
   "execution_count": 163,
   "metadata": {},
   "outputs": [],
   "source": [
    "from lib.data_preprocessing import get_training_data as get_training_data_lib"
   ]
  },
  {
   "cell_type": "markdown",
   "metadata": {},
   "source": [
    "### Делаем данные"
   ]
  },
  {
   "cell_type": "code",
   "execution_count": 164,
   "metadata": {},
   "outputs": [],
   "source": [
    "# Датасет - подготавливаем наборы из 10 картинок , выбираем из них случайно одну\n",
    "num_samples = 1000\n",
    "num_cards = 5\n",
    "num_words = 998\n",
    "len_emb = 1024\n",
    "len_dense = 20"
   ]
  },
  {
   "cell_type": "markdown",
   "metadata": {},
   "source": [
    "### Делаем модель"
   ]
  },
  {
   "cell_type": "code",
   "execution_count": 181,
   "metadata": {},
   "outputs": [],
   "source": [
    "model = ImaginariumModel(num_cards, num_words, len_emb, len_dense).to(device)\n",
    "num_batches = 40\n",
    "history_loss = []\n",
    "loss_fn = torch.nn.NLLLoss().to(device)"
   ]
  },
  {
   "cell_type": "code",
   "execution_count": null,
   "metadata": {},
   "outputs": [
    {
     "name": "stderr",
     "output_type": "stream",
     "text": [
      "/home/lichi/venv/python3/lib/python3.5/site-packages/ipykernel_launcher.py:30: UserWarning: Implicit dimension choice for softmax has been deprecated. Change the call to include dim=X as an argument.\n",
      "/home/lichi/venv/python3/lib/python3.5/site-packages/ipykernel_launcher.py:70: UserWarning: Implicit dimension choice for softmax has been deprecated. Change the call to include dim=X as an argument.\n"
     ]
    },
    {
     "name": "stdout",
     "output_type": "stream",
     "text": [
      "accuracy=0.261\n",
      "0 -0.1999499499797821\n",
      "accuracy=0.325\n",
      "1 -0.20002111792564392\n",
      "accuracy=0.398\n",
      "2 -0.20009596645832062\n",
      "accuracy=0.491\n",
      "3 -0.20017877221107483\n",
      "accuracy=0.546\n",
      "4 -0.20027275383472443\n",
      "accuracy=0.613\n",
      "5 -0.2003965526819229\n",
      "accuracy=0.613\n",
      "6 -0.20057718455791473\n",
      "accuracy=0.555\n",
      "7 -0.2008415013551712\n",
      "accuracy=0.469\n",
      "8 -0.20119954645633698\n",
      "accuracy=0.42\n",
      "9 -0.2016281932592392\n",
      "accuracy=0.402\n",
      "10 -0.20206966996192932\n",
      "accuracy=0.42\n",
      "11 -0.20254471898078918\n",
      "accuracy=0.446\n",
      "12 -0.2030981481075287\n",
      "accuracy=0.45\n",
      "13 -0.20374935865402222\n",
      "accuracy=0.476\n",
      "14 -0.20453906059265137\n",
      "accuracy=0.492\n",
      "15 -0.20550532639026642\n",
      "accuracy=0.505\n",
      "16 -0.20671136677265167\n",
      "accuracy=0.522\n",
      "17 -0.20821231603622437\n",
      "accuracy=0.539\n",
      "18 -0.21004846692085266\n",
      "accuracy=0.553\n",
      "19 -0.21239686012268066\n",
      "accuracy=0.575\n",
      "20 -0.2156793475151062\n",
      "accuracy=0.599\n",
      "21 -0.22109273076057434\n",
      "accuracy=0.425\n",
      "22 -0.21496310830116272\n",
      "accuracy=0.263\n",
      "23 -0.20026986300945282\n",
      "accuracy=0.282\n",
      "24 -0.20047172904014587\n",
      "accuracy=0.314\n",
      "25 -0.20068727433681488\n",
      "accuracy=0.352\n",
      "26 -0.20095416903495789\n",
      "accuracy=0.377\n",
      "27 -0.20128674805164337\n",
      "accuracy=0.389\n",
      "28 -0.20160402357578278\n",
      "accuracy=0.392\n",
      "29 -0.2018454223871231\n",
      "accuracy=0.408\n",
      "30 -0.2020433098077774\n",
      "accuracy=0.411\n",
      "31 -0.2022276073694229\n",
      "accuracy=0.414\n",
      "32 -0.20240381360054016\n"
     ]
    }
   ],
   "source": [
    "accuracy_list = []\n",
    "for t in range(num_batches):\n",
    "    # Считаем точность модели на тесте\n",
    "    X_img_test, y_img_true_test, X_txt_test, X_img_ind_test = get_training_data_lib(\n",
    "    num_samples, num_cards, num_words, len_emb, img_vec_test_pca, words_vec_test_pca)\n",
    "    \n",
    "    y_pred = model(X_img, X_txt, y_img_true)\n",
    "    y_pred_ind = np.argmax(y_pred.detach().numpy(), axis = 1)\n",
    "    y_img_true_ind = np.argmax(y_img_true, axis = 1) \n",
    "    accuracy = np.mean([x==y for x,y in zip(y_pred_ind, y_img_true_ind)])\n",
    "    print('accuracy={}'.format(accuracy))\n",
    "    \n",
    "    # Тренируем модель\n",
    "    X_img_train, y_img_true_train, X_txt_train, X_img_ind_train = get_training_data_lib(\n",
    "    num_samples, num_cards, num_words, len_emb, img_vec_train_pca, words_vec_train_pca)\n",
    "    \n",
    "    optimizer = torch.optim.SGD(model.parameters(), lr=1)\n",
    "    # Forward pass: Compute predicted y by passing x to the model\n",
    "    y_pred = model(X_img, X_txt, y_img_true).to(device)\n",
    "    # Compute and print loss\n",
    "    loss = loss_fn(y_pred, torch.max(y_img_true, 1)[1])\n",
    "    if t % 1. == 0:\n",
    "        print(t, loss.item())\n",
    "    history_loss.append(loss.item())\n",
    "    # Zero gradients, perform a backward pass, and update the weights.\n",
    "    optimizer.zero_grad()\n",
    "    loss.backward()\n",
    "    optimizer.step()\n",
    "    \n",
    "    accuracy_list.append(accuracy)"
   ]
  },
  {
   "cell_type": "code",
   "execution_count": 30,
   "metadata": {},
   "outputs": [],
   "source": [
    "#accuracy_list_linear = accuracy_list\n",
    "accuracy_list_combo = accuracy_list"
   ]
  },
  {
   "cell_type": "code",
   "execution_count": 46,
   "metadata": {
    "collapsed": true
   },
   "outputs": [
    {
     "ename": "PicklingError",
     "evalue": "Can't pickle <class '__main__.ImaginariumModel'>: it's not the same object as __main__.ImaginariumModel",
     "output_type": "error",
     "traceback": [
      "\u001b[0;31m---------------------------------------------------------------------------\u001b[0m",
      "\u001b[0;31mPicklingError\u001b[0m                             Traceback (most recent call last)",
      "\u001b[0;32m<ipython-input-46-36ff3d723c20>\u001b[0m in \u001b[0;36m<module>\u001b[0;34m\u001b[0m\n\u001b[1;32m     10\u001b[0m \u001b[0mplt\u001b[0m\u001b[0;34m.\u001b[0m\u001b[0mlegend\u001b[0m\u001b[0;34m(\u001b[0m\u001b[0;34m)\u001b[0m\u001b[0;34m\u001b[0m\u001b[0m\n\u001b[1;32m     11\u001b[0m \u001b[0msavefig\u001b[0m\u001b[0;34m(\u001b[0m\u001b[0;34m'pictures/%s.png'\u001b[0m\u001b[0;34m%\u001b[0m\u001b[0mtitle\u001b[0m\u001b[0;34m)\u001b[0m\u001b[0;34m\u001b[0m\u001b[0m\n\u001b[0;32m---> 12\u001b[0;31m \u001b[0mtorch\u001b[0m\u001b[0;34m.\u001b[0m\u001b[0msave\u001b[0m\u001b[0;34m(\u001b[0m\u001b[0mmodel\u001b[0m\u001b[0;34m,\u001b[0m \u001b[0;34m'models/%s'\u001b[0m\u001b[0;34m%\u001b[0m\u001b[0mtitle\u001b[0m\u001b[0;34m)\u001b[0m\u001b[0;34m\u001b[0m\u001b[0m\n\u001b[0m",
      "\u001b[0;32m~/venv/python3/lib/python3.5/site-packages/torch/serialization.py\u001b[0m in \u001b[0;36msave\u001b[0;34m(obj, f, pickle_module, pickle_protocol)\u001b[0m\n\u001b[1;32m    217\u001b[0m         \u001b[0;34m>>\u001b[0m\u001b[0;34m>\u001b[0m \u001b[0mtorch\u001b[0m\u001b[0;34m.\u001b[0m\u001b[0msave\u001b[0m\u001b[0;34m(\u001b[0m\u001b[0mx\u001b[0m\u001b[0;34m,\u001b[0m \u001b[0mbuffer\u001b[0m\u001b[0;34m)\u001b[0m\u001b[0;34m\u001b[0m\u001b[0m\n\u001b[1;32m    218\u001b[0m     \"\"\"\n\u001b[0;32m--> 219\u001b[0;31m     \u001b[0;32mreturn\u001b[0m \u001b[0m_with_file_like\u001b[0m\u001b[0;34m(\u001b[0m\u001b[0mf\u001b[0m\u001b[0;34m,\u001b[0m \u001b[0;34m\"wb\"\u001b[0m\u001b[0;34m,\u001b[0m \u001b[0;32mlambda\u001b[0m \u001b[0mf\u001b[0m\u001b[0;34m:\u001b[0m \u001b[0m_save\u001b[0m\u001b[0;34m(\u001b[0m\u001b[0mobj\u001b[0m\u001b[0;34m,\u001b[0m \u001b[0mf\u001b[0m\u001b[0;34m,\u001b[0m \u001b[0mpickle_module\u001b[0m\u001b[0;34m,\u001b[0m \u001b[0mpickle_protocol\u001b[0m\u001b[0;34m)\u001b[0m\u001b[0;34m)\u001b[0m\u001b[0;34m\u001b[0m\u001b[0m\n\u001b[0m\u001b[1;32m    220\u001b[0m \u001b[0;34m\u001b[0m\u001b[0m\n\u001b[1;32m    221\u001b[0m \u001b[0;34m\u001b[0m\u001b[0m\n",
      "\u001b[0;32m~/venv/python3/lib/python3.5/site-packages/torch/serialization.py\u001b[0m in \u001b[0;36m_with_file_like\u001b[0;34m(f, mode, body)\u001b[0m\n\u001b[1;32m    142\u001b[0m         \u001b[0mf\u001b[0m \u001b[0;34m=\u001b[0m \u001b[0mopen\u001b[0m\u001b[0;34m(\u001b[0m\u001b[0mf\u001b[0m\u001b[0;34m,\u001b[0m \u001b[0mmode\u001b[0m\u001b[0;34m)\u001b[0m\u001b[0;34m\u001b[0m\u001b[0m\n\u001b[1;32m    143\u001b[0m     \u001b[0;32mtry\u001b[0m\u001b[0;34m:\u001b[0m\u001b[0;34m\u001b[0m\u001b[0m\n\u001b[0;32m--> 144\u001b[0;31m         \u001b[0;32mreturn\u001b[0m \u001b[0mbody\u001b[0m\u001b[0;34m(\u001b[0m\u001b[0mf\u001b[0m\u001b[0;34m)\u001b[0m\u001b[0;34m\u001b[0m\u001b[0m\n\u001b[0m\u001b[1;32m    145\u001b[0m     \u001b[0;32mfinally\u001b[0m\u001b[0;34m:\u001b[0m\u001b[0;34m\u001b[0m\u001b[0m\n\u001b[1;32m    146\u001b[0m         \u001b[0;32mif\u001b[0m \u001b[0mnew_fd\u001b[0m\u001b[0;34m:\u001b[0m\u001b[0;34m\u001b[0m\u001b[0m\n",
      "\u001b[0;32m~/venv/python3/lib/python3.5/site-packages/torch/serialization.py\u001b[0m in \u001b[0;36m<lambda>\u001b[0;34m(f)\u001b[0m\n\u001b[1;32m    217\u001b[0m         \u001b[0;34m>>\u001b[0m\u001b[0;34m>\u001b[0m \u001b[0mtorch\u001b[0m\u001b[0;34m.\u001b[0m\u001b[0msave\u001b[0m\u001b[0;34m(\u001b[0m\u001b[0mx\u001b[0m\u001b[0;34m,\u001b[0m \u001b[0mbuffer\u001b[0m\u001b[0;34m)\u001b[0m\u001b[0;34m\u001b[0m\u001b[0m\n\u001b[1;32m    218\u001b[0m     \"\"\"\n\u001b[0;32m--> 219\u001b[0;31m     \u001b[0;32mreturn\u001b[0m \u001b[0m_with_file_like\u001b[0m\u001b[0;34m(\u001b[0m\u001b[0mf\u001b[0m\u001b[0;34m,\u001b[0m \u001b[0;34m\"wb\"\u001b[0m\u001b[0;34m,\u001b[0m \u001b[0;32mlambda\u001b[0m \u001b[0mf\u001b[0m\u001b[0;34m:\u001b[0m \u001b[0m_save\u001b[0m\u001b[0;34m(\u001b[0m\u001b[0mobj\u001b[0m\u001b[0;34m,\u001b[0m \u001b[0mf\u001b[0m\u001b[0;34m,\u001b[0m \u001b[0mpickle_module\u001b[0m\u001b[0;34m,\u001b[0m \u001b[0mpickle_protocol\u001b[0m\u001b[0;34m)\u001b[0m\u001b[0;34m)\u001b[0m\u001b[0;34m\u001b[0m\u001b[0m\n\u001b[0m\u001b[1;32m    220\u001b[0m \u001b[0;34m\u001b[0m\u001b[0m\n\u001b[1;32m    221\u001b[0m \u001b[0;34m\u001b[0m\u001b[0m\n",
      "\u001b[0;32m~/venv/python3/lib/python3.5/site-packages/torch/serialization.py\u001b[0m in \u001b[0;36m_save\u001b[0;34m(obj, f, pickle_module, pickle_protocol)\u001b[0m\n\u001b[1;32m    290\u001b[0m     \u001b[0mpickler\u001b[0m \u001b[0;34m=\u001b[0m \u001b[0mpickle_module\u001b[0m\u001b[0;34m.\u001b[0m\u001b[0mPickler\u001b[0m\u001b[0;34m(\u001b[0m\u001b[0mf\u001b[0m\u001b[0;34m,\u001b[0m \u001b[0mprotocol\u001b[0m\u001b[0;34m=\u001b[0m\u001b[0mpickle_protocol\u001b[0m\u001b[0;34m)\u001b[0m\u001b[0;34m\u001b[0m\u001b[0m\n\u001b[1;32m    291\u001b[0m     \u001b[0mpickler\u001b[0m\u001b[0;34m.\u001b[0m\u001b[0mpersistent_id\u001b[0m \u001b[0;34m=\u001b[0m \u001b[0mpersistent_id\u001b[0m\u001b[0;34m\u001b[0m\u001b[0m\n\u001b[0;32m--> 292\u001b[0;31m     \u001b[0mpickler\u001b[0m\u001b[0;34m.\u001b[0m\u001b[0mdump\u001b[0m\u001b[0;34m(\u001b[0m\u001b[0mobj\u001b[0m\u001b[0;34m)\u001b[0m\u001b[0;34m\u001b[0m\u001b[0m\n\u001b[0m\u001b[1;32m    293\u001b[0m \u001b[0;34m\u001b[0m\u001b[0m\n\u001b[1;32m    294\u001b[0m     \u001b[0mserialized_storage_keys\u001b[0m \u001b[0;34m=\u001b[0m \u001b[0msorted\u001b[0m\u001b[0;34m(\u001b[0m\u001b[0mserialized_storages\u001b[0m\u001b[0;34m.\u001b[0m\u001b[0mkeys\u001b[0m\u001b[0;34m(\u001b[0m\u001b[0;34m)\u001b[0m\u001b[0;34m)\u001b[0m\u001b[0;34m\u001b[0m\u001b[0m\n",
      "\u001b[0;31mPicklingError\u001b[0m: Can't pickle <class '__main__.ImaginariumModel'>: it's not the same object as __main__.ImaginariumModel"
     ]
    },
    {
     "data": {
      "image/png": "[encoded data removed]",
      "text/plain": [
       "<Figure size 432x288 with 1 Axes>"
      ]
     },
     "metadata": {
      "needs_background": "light"
     },
     "output_type": "display_data"
    }
   ],
   "source": [
    "N = 2\n",
    "mean_acc = accuracy_list_combo\n",
    "title = 'Test accuracy, combo layer,num cards={0},num_samples={1}\\n,len_emb={2},len_dense={3}' .format(\n",
    "    num_cards, num_samples, len_emb, len_dense)\n",
    "fig = plt.plot(list(range(40, len(mean_acc)+40)), mean_acc, label = 'model')\n",
    "plt.plot(list(range(40, len(mean_acc)+40)), [baseline_acc]*80, label = 'baseline')\n",
    "plt.xlabel('Number of epoch')\n",
    "plt.ylabel('Accuracy on test')\n",
    "plt.title(title)\n",
    "plt.legend()\n",
    "savefig('pictures/%s.png'%title)\n",
    "torch.save(model, 'models/%s'%title) \n"
   ]
  },
  {
   "cell_type": "markdown",
   "metadata": {},
   "source": [
    "#### Считаем бейзлайн"
   ]
  },
  {
   "cell_type": "code",
   "execution_count": 172,
   "metadata": {},
   "outputs": [],
   "source": [
    "X_img, y_img_true, X_txt, X_img_ind = get_training_data_lib(\n",
    "    num_samples, num_cards, num_words, len_emb, img_vec, words_vec)"
   ]
  },
  {
   "cell_type": "code",
   "execution_count": 176,
   "metadata": {},
   "outputs": [],
   "source": [
    "model_base = ImaginariumModel(num_cards, num_words, len_emb, len_dense, inference = True, categorical = False)"
   ]
  },
  {
   "cell_type": "code",
   "execution_count": 177,
   "metadata": {},
   "outputs": [
    {
     "name": "stderr",
     "output_type": "stream",
     "text": [
      "/home/lichi/venv/python3/lib/python3.5/site-packages/ipykernel_launcher.py:30: UserWarning: Implicit dimension choice for softmax has been deprecated. Change the call to include dim=X as an argument.\n",
      "/home/lichi/venv/python3/lib/python3.5/site-packages/ipykernel_launcher.py:70: UserWarning: Implicit dimension choice for softmax has been deprecated. Change the call to include dim=X as an argument.\n"
     ]
    }
   ],
   "source": [
    "y_pred = model_base(X_img, X_txt, y_img_true)\n",
    "y_pred_ind = np.argmax(y_pred.detach().numpy(), axis = 1)\n",
    "y_img_true_ind = np.argmax(y_img_true, axis = 1) #200, 5"
   ]
  },
  {
   "cell_type": "code",
   "execution_count": 178,
   "metadata": {},
   "outputs": [
    {
     "data": {
      "text/plain": [
       "0.185"
      ]
     },
     "execution_count": 178,
     "metadata": {},
     "output_type": "execute_result"
    }
   ],
   "source": [
    "baseline_acc = np.mean([x==y for x,y in zip(y_pred_ind, y_img_true_ind)])\n",
    "baseline_acc"
   ]
  },
  {
   "cell_type": "markdown",
   "metadata": {},
   "source": [
    "### Сетка"
   ]
  },
  {
   "cell_type": "code",
   "execution_count": 171,
   "metadata": {},
   "outputs": [],
   "source": [
    "class ImaginariumModel(torch.nn.Module):\n",
    "    def __init__(self, num_cards, num_words, len_emb, len_dense, inference = False, categorical = False):\n",
    "        \"\"\"\n",
    "        In the constructor we instantiate two nn.Linear modules and assign them as\n",
    "        member variables.\n",
    "        \"\"\"\n",
    "        super(ImaginariumModel, self).__init__()\n",
    "        self.linear10 = torch.nn.Linear(len_emb, len_dense)\n",
    "        self.linear11 = torch.nn.Linear(len_dense, len_dense)\n",
    "        self.linear2 = torch.nn.Linear(num_cards, num_cards)\n",
    "        self.distance0axis = torch.nn.modules.distance.CosineSimilarity(dim = 0)\n",
    "        self.distance1axis = torch.nn.modules.distance.CosineSimilarity(dim = 1)\n",
    "        self.distance2axis = torch.nn.modules.distance.CosineSimilarity(dim = 2)\n",
    "        self.softmax = torch.nn.Softmax()\n",
    "        self.relu = torch.nn.ReLU()\n",
    "        self.combination = nn.Sequential(self.linear10,\n",
    "                                        self.relu,\n",
    "                                        self.linear11)\n",
    "        self.inference = inference\n",
    "        self.categorical = categorical\n",
    "        \n",
    "    def distance_mul_sum(self, distance_vec, x_txt_vec):\n",
    "        return torch.sum(torch.mul(\n",
    "            distance_vec,x_txt_vec), dim = 0)\n",
    "\n",
    "    def distance_mul_sum_along_img(self, X_img_elem, X_txt):\n",
    "        X_img_elem = X_img_elem.repeat(\n",
    "            num_words,  1)\n",
    "        distance_vector = ((X_txt - X_img_elem)**2).sum(dim = 0)\n",
    "        distance_vector_softmax = self.softmax(distance_vector )\n",
    "        words_final = self.distance_mul_sum(distance_vector_softmax, X_txt)\n",
    "        return words_final\n",
    "    \n",
    "    def distance_word_max_along_img(self, X_img_elem, X_txt):\n",
    "        X_img_elem = X_img_elem.repeat(\n",
    "            num_words,  1)\n",
    "        distance_vector = ((X_txt - X_img_elem)**2).sum(dim = 0)\n",
    "        num_max = torch.argmax(distance_vector, dim = 0)\n",
    "        max_len = distance_vector.shape[0]\n",
    "        distance_vector_cat = torch.cat((torch.zeros(num_max), torch.ones(1), torch.zeros(max_len - num_max-1)))\n",
    "        words_final = self.distance_mul_sum(distance_vector_cat, X_txt)\n",
    "        return words_final\n",
    "\n",
    "    def forward(self, x_img, x_txt, y_img_true):\n",
    "        \"\"\"\n",
    "        In the forward function we accept a Tensor of input data and we must return\n",
    "        a Tensor of output data. We can use Modules defined in the constructor as\n",
    "        well as arbitrary (differentiable) operations on Tensors.\n",
    "        \"\"\"\n",
    "        if not self.inference:\n",
    "            x_img_dense = self.combination(x_img)\n",
    "            x_txt_dense = self.combination(x_txt)\n",
    "        else:\n",
    "            x_img_dense = x_img\n",
    "            x_txt_dense = x_txt\n",
    "            \n",
    "        num_hidden_card = torch.argmax(y_img_true, dim=1)\n",
    "        \n",
    "        if not self.categorical:\n",
    "            words_final_dense = torch.stack([self.distance_mul_sum_along_img(\n",
    "                x_img_dense[i,j,:], x_txt_dense[i,:,:]) for i,j in enumerate(num_hidden_card)])\n",
    "        else:\n",
    "            words_final_dense = torch.stack([self.distance_word_max_along_img(\n",
    "                x_img_dense[i,j,:], x_txt_dense[i,:,:]) for i,j in enumerate(num_hidden_card)])\n",
    "        \n",
    "        words_final_dense_repeat = words_final_dense.repeat(num_cards, 1, 1)\n",
    "        words_final_dense_repeat = words_final_dense_repeat.permute(1,0,2)\n",
    "        distance = self.distance2axis(words_final_dense_repeat, x_img_dense)\n",
    "           \n",
    "        distance_softmax = self.softmax(distance)\n",
    "        return distance_softmax\n"
   ]
  },
  {
   "cell_type": "markdown",
   "metadata": {},
   "source": [
    "### Экспериментируем с матричным умножением"
   ]
  },
  {
   "cell_type": "code",
   "execution_count": null,
   "metadata": {},
   "outputs": [],
   "source": [
    "layer_test = torch.nn.Linear(10, 2)"
   ]
  },
  {
   "cell_type": "code",
   "execution_count": null,
   "metadata": {},
   "outputs": [],
   "source": [
    "X_test = torch.FloatTensor([[range(10)]*5]*7)"
   ]
  },
  {
   "cell_type": "code",
   "execution_count": null,
   "metadata": {},
   "outputs": [],
   "source": [
    "layer_test(X_test[0,0,:]).re"
   ]
  },
  {
   "cell_type": "code",
   "execution_count": null,
   "metadata": {},
   "outputs": [],
   "source": [
    "layer_test(X_test)"
   ]
  },
  {
   "cell_type": "markdown",
   "metadata": {},
   "source": [
    "### Дебажим"
   ]
  },
  {
   "cell_type": "code",
   "execution_count": null,
   "metadata": {},
   "outputs": [],
   "source": [
    "\n",
    "X_txt_el = X_txt[0,:,:]\n",
    "X_img_elem = X_img[0,:,0].repeat(\n",
    "            num_words,  1).permute(1, 0)"
   ]
  },
  {
   "cell_type": "code",
   "execution_count": null,
   "metadata": {},
   "outputs": [],
   "source": [
    "((X_txt_el - X_img_elem)**2).sum(dim = 0)\n",
    "fun = torch.nn.modules.distance.CosineSimilarity(dim = 0)\n",
    "fun(X_txt_el, X_img_elem).max()"
   ]
  },
  {
   "cell_type": "code",
   "execution_count": null,
   "metadata": {},
   "outputs": [],
   "source": [
    "#plt.plot(img_vec_pca.sum(axis=0))\n",
    "plt.plot(img_vec.sum(axis=0))\n",
    "\n"
   ]
  },
  {
   "cell_type": "code",
   "execution_count": null,
   "metadata": {},
   "outputs": [],
   "source": [
    "for num_comp in range(num_cards):\n",
    "    plt.plot([X_img[i][:,num_comp].sum() for i in range(num_samples)], label = '{0} component'.format(num_comp))\n",
    "plt.legend()"
   ]
  },
  {
   "cell_type": "markdown",
   "metadata": {},
   "source": [
    "### Отрисовываем на графике"
   ]
  },
  {
   "cell_type": "code",
   "execution_count": null,
   "metadata": {},
   "outputs": [],
   "source": [
    "N = 2\n",
    "mean_loss = np.convolve(np.array(history_loss), np.ones((N,))/N, mode='valid')\n",
    "#title = 'Model with 2 dense layers and ReLu and inverted 1 dense distances, num cards = %s' % num_cards\n",
    "title = 'Model with same input, overfitting, num cards = %s' % num_cards\n",
    "fig = plt.plot(list(range(len(mean_loss))), mean_loss)\n",
    "plt.xlabel('Number of batch')\n",
    "plt.ylabel('Smoothed logloss')\n",
    "plt.title(title)\n",
    "savefig('pictures/%s.png'%title)\n",
    "torch.save(ImaginariumModel, 'models/%s'%title) \n"
   ]
  },
  {
   "cell_type": "markdown",
   "metadata": {},
   "source": [
    "### Смотрим, что получилось на выходе"
   ]
  },
  {
   "cell_type": "code",
   "execution_count": null,
   "metadata": {},
   "outputs": [],
   "source": [
    "torch.FloatTensor([[1,2,3], [1,2,3]]).reshape(3,2)"
   ]
  },
  {
   "cell_type": "code",
   "execution_count": null,
   "metadata": {},
   "outputs": [],
   "source": [
    "torch.FloatTensor([[1,2,3], [1,2,3]]).permute(1,0)"
   ]
  },
  {
   "cell_type": "code",
   "execution_count": null,
   "metadata": {},
   "outputs": [],
   "source": []
  },
  {
   "cell_type": "code",
   "execution_count": null,
   "metadata": {},
   "outputs": [],
   "source": []
  },
  {
   "cell_type": "markdown",
   "metadata": {},
   "source": [
    "###  Описание экспериментов.\n",
    " \n",
    " Ссылка на скрипт с экспериментами на гитхабе\n",
    " https://github.com/Tennessyy/imaginarium/blob/master/network%2Btorch.ipynb\n",
    " \n",
    " \n",
    " У нас  есть множество картинок и множество слов.  Глобальная задача - в игре из как минимум 3 игороков научиться подбирать нетривиальные ассоциации водящего под выбранную картинку, так чтобы оставшиеся 2 игрока в части случаев понимали, а в части случаев не понимали, кому из игроков принадлежит картинка, под которую подобрана ассоциация. В качестве бейзлайна под эту задачу предлагается рассмотреть задачу 2 игроков - 1 игрок загадывает ассоциацию к 1 картинке из k(5 или 10), а 2 игрок по этой ассоциации пытается понять, какую из k картинок выбрал игрок. \n",
    " \n",
    "В качестве картинок рассматривается коллекция из ~200 изображений из игры \"Имаджинариум\", в качестве слов ~ 1000 самых популярных слов английского языка. Обучающая выборка гененируется следующим образом - из множества картинок случайно выбираем k картинок, из них случайно одну картинку. Задача сети - по картинке подобрать такое текстовое описание, чтобы сеть догадалась, какая из k картинок была выбрана. Набор из k картинок и всех слов подается в некую сеть (полносязную). Полученные после этого представления идут в  часть сетки, которая считает расстояние между представлением k картинок и всеми словами, пропускает через softmax, усредняя после этого полученные векторы слов. Далее к полученному вектору слов ищется ближайшая из k картинок картинка.\n",
    " \n",
    " Какие параметры пробовала менять:\n",
    " \n",
    " 1) Менять количество карт на руках у игрока\n",
    " \n",
    " 2) После подсчета финальных расстояний между всеми картами у ведущего игрока и его текстовой ассоциации, обрабатывать его полносвязной сетью\n",
    " \n",
    " 3) Различные конфигурации сетки, которая обрабатывает картинко-текстовове пространство (полносвязная, 2 полносвязные+ relu, полносвязная+relu)\n",
    " \n",
    " 4) Пропускать изначальное пространство кросс-эмбеддингов через PCA, чтобы сократить размерность пространства с 1024 до, например, 100.\n",
    " \n",
    " 5) Вместо softmax при выборе текстовых векторов, ближайших к ставить gumbel softmax\n",
    " \n",
    " 6) Различные метрики расстояния \n",
    " \n",
    " \n",
    " Текущие успехи(по сравнению с предыдущим):\n",
    " \n",
    " 1) Модель переведена на торч \n",
    " \n",
    " 2) По модели текут градиенты, на повторяющихся данных удается добиться переобучения :)\n",
    " \n",
    " 3) Попробованы и выписаны разные варианты сети, которые можно быстро запихнуть в другие модели\n",
    " \n",
    " 4) Модель как-то учится\n",
    " \n",
    " \n",
    " Примеры более или менее удачных попыток:\n",
    " \n",
    " Пример переобучения\n",
    " \n",
    " \n",
    " \n",
    " \n",
    "  Актуальные проблемы:\n",
    " \n",
    " 1) Учится очень медленно\n",
    " \n",
    " 2) Гумбеловский софтмакс не очень помогает\n",
    " \n",
    "\n",
    " \n",
    " \n",
    " Планы на ближайшее будущее:\n",
    " \n",
    " 1) Распространить бейзлайн на игру из трех игроков - возможно это поможет с обучением.\n",
    " \n",
    " 2) Сделать как в attention - вместо расстояний подставить dense слои с attention\n",
    " \n",
    " 2) Переписать применение dense слоев более оптимально\n",
    " \n",
    " 3) Провести эксперименты с предложениями вместо слов и другими картинками\n",
    " \n",
    " 4) Влезть в ImageCaptioning"
   ]
  },
  {
   "cell_type": "code",
   "execution_count": null,
   "metadata": {},
   "outputs": [],
   "source": []
  },
  {
   "cell_type": "code",
   "execution_count": null,
   "metadata": {},
   "outputs": [],
   "source": []
  },
  {
   "cell_type": "code",
   "execution_count": null,
   "metadata": {},
   "outputs": [],
   "source": []
  },
  {
   "cell_type": "code",
   "execution_count": null,
   "metadata": {},
   "outputs": [],
   "source": []
  },
  {
   "cell_type": "code",
   "execution_count": null,
   "metadata": {},
   "outputs": [],
   "source": [
    "# Дампим массив, в котором содержатся индексы  топ10,\n",
    "# близких по mse слов-ассоциаций к картинке для каждой картинки\n",
    "with open('preprocessed_data/idx_words_array.pickle', 'rb') as f:\n",
    "    idx_words_array = pickle.load( f)\n",
    "# Дампим массив, в котором содержатся индексы  топ10,\n",
    "# близких по mse слов-ассоциаций к картинке для каждого ckjdf\n",
    "with open('preprocessed_data/idx_images_array.pickle', 'rb') as f:\n",
    "    idx_images_array = pickle.load( f)\n",
    "# Дампим массив, в котором содержатся инфа о том,\n",
    "# в скольки процентах случаев это слово входит в топ-10 ближайших для всех картинок\n",
    "with open('preprocessed_data/norm_idx_words_array.pickle', 'rb') as f:\n",
    "    norm_idx_words_array = pickle.load( f, encoding='latin1')\n",
    "# Дампим массив, в котором содержатся инфа о том,\n",
    "# в скольки процентах случаев эта картинка входит в топ-10 ближайших для всех слов\n",
    "with open('preprocessed_data/norm_idx_images_array.pickle', 'rb') as f:\n",
    "    norm_idx_images_array = pickle.load( f, encoding='latin1')\n",
    "# Дампим массив, в котором содержатся расстояние до топ k слов \n",
    "with open('preprocessed_data/mse_words_top_array.pickle', 'rb') as f:\n",
    "    mse_words_top_array = pickle.load( f, encoding='latin1')\n",
    "# Дампим массив, в котором содержатся расстояние до топ k слов \n",
    "with open('preprocessed_data/mse_words_top_array.pickle', 'rb') as f:\n",
    "    mse_words_top_array = pickle.load( f, encoding='latin1')"
   ]
  },
  {
   "cell_type": "code",
   "execution_count": null,
   "metadata": {},
   "outputs": [],
   "source": [
    "# Сэмплируем случайные num_cards векторов\n",
    "def generate_arrays_from_file(image_vectors, words_vectors,\n",
    "                              batch_size = 50, num_cards = 10,\n",
    "                              num_words = 998):\n",
    "    while 1:\n",
    "        X_images = []\n",
    "        y_true_image = []\n",
    "        for i in range(batch_size):\n",
    "            img = np.array(sample(range(1,len(image_vectors)), num_cards))\n",
    "            X_images.append(img)\n",
    "            true_image = sample(img, 1)\n",
    "            y_true_image.append(np.array([1 if x==true_image\n",
    "                                          else 0 for x in X_images[i]]))\n",
    "        # Эмбеддинги для всех картинок\n",
    "        X_images = image_vectors[X_images].reshape(num_samples,\n",
    "                                                   1024, num_cards)\n",
    "        # Эмбеддинги для правильной картинки, размноженные 10 раз\n",
    "        t =np.array(X_images)[:,:,np.argmax(y_true_image)]\n",
    "        X_true_img = np.repeat(t.reshape(t.shape[0],t.shape[1],1),\n",
    "                               num_words,axis =2).reshape(num_samples,\n",
    "                                                          num_words, 1024)\n",
    "        # Эмбеддинги для всех текстов\n",
    "        X_all_texts = np.repeat(words_vectors.reshape(\n",
    "            1, num_words, 1024),num_samples, axis = 0 )\n",
    "        # Решейплю\n",
    "        X_images = X_images.reshape(batch_size,\n",
    "                                    num_cards, 1024)\n",
    "        # Ответы\n",
    "        y_true_image = np.array(y_true_image).reshape(batch_size,\n",
    "                                                      1, num_cards)\n",
    "        yield ([X_images, X_true_img, X_all_texts], y_true_image)\n",
    "   "
   ]
  },
  {
   "cell_type": "markdown",
   "metadata": {},
   "source": [
    "### Генератор"
   ]
  },
  {
   "cell_type": "code",
   "execution_count": null,
   "metadata": {},
   "outputs": [],
   "source": [
    "for card in range(num_cards):\n",
    "            for sample in range(num_samples):\n",
    "                x_img_dense[sample,:,card] = self.combination(x_img[sample,:,card])\n",
    "        for sample in range(num_samples):\n",
    "            for word in range(num_words):\n",
    "                x_txt_dense[sample,:,word] = self.combination(x_txt[sample,:,word])\n",
    "            "
   ]
  }
 ],
 "metadata": {
  "kernelspec": {
   "display_name": "python3",
   "language": "python",
   "name": "py3env"
  },
  "language_info": {
   "codemirror_mode": {
    "name": "ipython",
    "version": 3
   },
   "file_extension": ".py",
   "mimetype": "text/x-python",
   "name": "python",
   "nbconvert_exporter": "python",
   "pygments_lexer": "ipython3",
   "version": "3.5.2"
  }
 },
 "nbformat": 4,
 "nbformat_minor": 2
}
