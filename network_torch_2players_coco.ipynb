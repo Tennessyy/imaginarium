{
 "cells": [
  {
   "cell_type": "code",
   "execution_count": 1,
   "metadata": {},
   "outputs": [
    {
     "name": "stdout",
     "output_type": "stream",
     "text": [
      "Populating the interactive namespace from numpy and matplotlib\n"
     ]
    }
   ],
   "source": [
    "#os.chdir('/home/lichi/jupiter/imaginarium')\n",
    "import pandas as pd\n",
    "import numpy as np\n",
    "import torch\n",
    "import pickle\n",
    "\n",
    "import matplotlib.pyplot as plt\n",
    "import matplotlib.image as mpimg\n",
    "%pylab inline\n",
    "\n",
    "from lib.tools import cyclical_lr, learning_pipeline\n",
    "from lib.data_preprocessing import pca_transfrom\n"
   ]
  },
  {
   "cell_type": "markdown",
   "metadata": {},
   "source": [
    "#### Загружаем данные"
   ]
  },
  {
   "cell_type": "code",
   "execution_count": 2,
   "metadata": {},
   "outputs": [],
   "source": [
    "words_vec = pd.read_csv('data/words/coco/4000_coco.csv')\n",
    "del words_vec['Unnamed: 0']\n",
    "words_vec = np.array(words_vec)\n",
    "img_vec = pd.read_csv('data/images/coco/coco_img.csv')\n",
    "del img_vec['Unnamed: 0']\n",
    "img_vec = np.array(img_vec)"
   ]
  },
  {
   "cell_type": "markdown",
   "metadata": {},
   "source": [
    "#### Бьем на трейн и тест"
   ]
  },
  {
   "cell_type": "markdown",
   "metadata": {},
   "source": [
    "### Делаем модель"
   ]
  },
  {
   "cell_type": "code",
   "execution_count": 5,
   "metadata": {},
   "outputs": [],
   "source": [
    "# Датасет - подготавливаем наборы из 10 картинок , выбираем из них случайно одну\n",
    "params = {\n",
    "    'num_samples': 200,\n",
    "    'num_cards': 5,\n",
    "    'num_words': 1000,\n",
    "    'len_emb': 50,\n",
    "    'len_dense': 50,\n",
    "    'num_players':2,\n",
    "    'gumbel': False,\n",
    "    'comb_layer': False,\n",
    "    'img_layer':True,\n",
    "    'words_layer':False,\n",
    "    'img_layer_player': False,\n",
    "    'words_layer_player': False,\n",
    "    'same_img_words_layer': False\n",
    "}\n",
    "\n",
    "config_train = {\n",
    "    'num_batches': 200,\n",
    "    'end_lr': 0.5,\n",
    "    'factor': 10,\n",
    "    'step_size': 300,\n",
    "    'model_name': ''\n",
    "}\n",
    "#120715ab7154e"
   ]
  },
  {
   "cell_type": "markdown",
   "metadata": {},
   "source": [
    "### Учим модель"
   ]
  },
  {
   "cell_type": "code",
   "execution_count": 6,
   "metadata": {},
   "outputs": [
    {
     "name": "stderr",
     "output_type": "stream",
     "text": [
      "Procent done 0 0/home/lichi/games_communicate/lib/model_classes.py:78: UserWarning: Implicit dimension choice for softmax has been deprecated. Change the call to include dim=X as an argument.\n",
      "  weights_words = self._softmax_words(logits)\n",
      "/home/lichi/games_communicate/lib/model_classes.py:91: UserWarning: Implicit dimension choice for softmax has been deprecated. Change the call to include dim=X as an argument.\n",
      "  return self._softmax_final(logits_final)\n",
      "Procent done 0.61%          accuracy = 0.23\n"
     ]
    },
    {
     "ename": "KeyboardInterrupt",
     "evalue": "",
     "output_type": "error",
     "traceback": [
      "\u001b[0;31m---------------------------------------------------------------------------\u001b[0m",
      "\u001b[0;31mKeyboardInterrupt\u001b[0m                         Traceback (most recent call last)",
      "\u001b[0;32m<ipython-input-6-97c12196d052>\u001b[0m in \u001b[0;36m<module>\u001b[0;34m\u001b[0m\n\u001b[1;32m      1\u001b[0m \u001b[0mconfig_train\u001b[0m\u001b[0;34m[\u001b[0m\u001b[0;34m'model_name'\u001b[0m\u001b[0;34m]\u001b[0m \u001b[0;34m=\u001b[0m \u001b[0;34m'model_50_comb_pca_coco'\u001b[0m\u001b[0;34m\u001b[0m\u001b[0m\n\u001b[0;32m----> 2\u001b[0;31m \u001b[0mresult\u001b[0m \u001b[0;34m=\u001b[0m \u001b[0mlearning_pipeline\u001b[0m\u001b[0;34m(\u001b[0m\u001b[0mimg_vec\u001b[0m\u001b[0;34m,\u001b[0m \u001b[0mwords_vec\u001b[0m\u001b[0;34m,\u001b[0m \u001b[0mparams\u001b[0m\u001b[0;34m,\u001b[0m \u001b[0mconfig_train\u001b[0m\u001b[0;34m)\u001b[0m\u001b[0;34m\u001b[0m\u001b[0m\n\u001b[0m",
      "\u001b[0;32m~/games_communicate/lib/tools.py\u001b[0m in \u001b[0;36mlearning_pipeline\u001b[0;34m(img_vec, words_vec, params, config_train)\u001b[0m\n\u001b[1;32m     38\u001b[0m                 params, img_vec_train_pca, words_vec_train_pca)\n\u001b[1;32m     39\u001b[0m             X_img_test, y_what_card_leader_choose_test, X_txt_test, X_img_ind_test = get_training_data(\n\u001b[0;32m---> 40\u001b[0;31m                 params, img_vec_test_pca, words_vec_test_pca)\n\u001b[0m\u001b[1;32m     41\u001b[0m             \u001b[0;31m# считаем метрики\u001b[0m\u001b[0;34m\u001b[0m\u001b[0;34m\u001b[0m\u001b[0m\n\u001b[1;32m     42\u001b[0m             y_pred_test = model(X_img_test, X_txt_test,\n",
      "\u001b[0;32m~/games_communicate/lib/data_preprocessing.py\u001b[0m in \u001b[0;36mget_training_data\u001b[0;34m(params, img_vec, words_vec)\u001b[0m\n\u001b[1;32m      8\u001b[0m     X_img_ind = np.array([[[np.random.choice(range(len(img_vec)))\n\u001b[1;32m      9\u001b[0m       for card in range(params['num_cards'])] for sample in range(params['num_samples'])]\n\u001b[0;32m---> 10\u001b[0;31m                  for i in range(params['num_players'])])\n\u001b[0m\u001b[1;32m     11\u001b[0m     \u001b[0mX_img\u001b[0m \u001b[0;34m=\u001b[0m \u001b[0mimg_vec\u001b[0m\u001b[0;34m[\u001b[0m\u001b[0mnp\u001b[0m\u001b[0;34m.\u001b[0m\u001b[0marray\u001b[0m\u001b[0;34m(\u001b[0m\u001b[0mX_img_ind\u001b[0m\u001b[0;34m)\u001b[0m\u001b[0;34m]\u001b[0m\u001b[0;34m\u001b[0m\u001b[0m\n\u001b[1;32m     12\u001b[0m \u001b[0;34m\u001b[0m\u001b[0m\n",
      "\u001b[0;32m~/games_communicate/lib/data_preprocessing.py\u001b[0m in \u001b[0;36m<listcomp>\u001b[0;34m(.0)\u001b[0m\n\u001b[1;32m      8\u001b[0m     X_img_ind = np.array([[[np.random.choice(range(len(img_vec)))\n\u001b[1;32m      9\u001b[0m       for card in range(params['num_cards'])] for sample in range(params['num_samples'])]\n\u001b[0;32m---> 10\u001b[0;31m                  for i in range(params['num_players'])])\n\u001b[0m\u001b[1;32m     11\u001b[0m     \u001b[0mX_img\u001b[0m \u001b[0;34m=\u001b[0m \u001b[0mimg_vec\u001b[0m\u001b[0;34m[\u001b[0m\u001b[0mnp\u001b[0m\u001b[0;34m.\u001b[0m\u001b[0marray\u001b[0m\u001b[0;34m(\u001b[0m\u001b[0mX_img_ind\u001b[0m\u001b[0;34m)\u001b[0m\u001b[0;34m]\u001b[0m\u001b[0;34m\u001b[0m\u001b[0m\n\u001b[1;32m     12\u001b[0m \u001b[0;34m\u001b[0m\u001b[0m\n",
      "\u001b[0;32m~/games_communicate/lib/data_preprocessing.py\u001b[0m in \u001b[0;36m<listcomp>\u001b[0;34m(.0)\u001b[0m\n\u001b[1;32m      7\u001b[0m     \u001b[0;31m# Смотрим, кто будет лидером?\u001b[0m\u001b[0;34m\u001b[0m\u001b[0;34m\u001b[0m\u001b[0m\n\u001b[1;32m      8\u001b[0m     X_img_ind = np.array([[[np.random.choice(range(len(img_vec)))\n\u001b[0;32m----> 9\u001b[0;31m       for card in range(params['num_cards'])] for sample in range(params['num_samples'])]\n\u001b[0m\u001b[1;32m     10\u001b[0m                  for i in range(params['num_players'])])\n\u001b[1;32m     11\u001b[0m     \u001b[0mX_img\u001b[0m \u001b[0;34m=\u001b[0m \u001b[0mimg_vec\u001b[0m\u001b[0;34m[\u001b[0m\u001b[0mnp\u001b[0m\u001b[0;34m.\u001b[0m\u001b[0marray\u001b[0m\u001b[0;34m(\u001b[0m\u001b[0mX_img_ind\u001b[0m\u001b[0;34m)\u001b[0m\u001b[0;34m]\u001b[0m\u001b[0;34m\u001b[0m\u001b[0m\n",
      "\u001b[0;32m~/games_communicate/lib/data_preprocessing.py\u001b[0m in \u001b[0;36m<listcomp>\u001b[0;34m(.0)\u001b[0m\n\u001b[1;32m      7\u001b[0m     \u001b[0;31m# Смотрим, кто будет лидером?\u001b[0m\u001b[0;34m\u001b[0m\u001b[0;34m\u001b[0m\u001b[0m\n\u001b[1;32m      8\u001b[0m     X_img_ind = np.array([[[np.random.choice(range(len(img_vec)))\n\u001b[0;32m----> 9\u001b[0;31m       for card in range(params['num_cards'])] for sample in range(params['num_samples'])]\n\u001b[0m\u001b[1;32m     10\u001b[0m                  for i in range(params['num_players'])])\n\u001b[1;32m     11\u001b[0m     \u001b[0mX_img\u001b[0m \u001b[0;34m=\u001b[0m \u001b[0mimg_vec\u001b[0m\u001b[0;34m[\u001b[0m\u001b[0mnp\u001b[0m\u001b[0;34m.\u001b[0m\u001b[0marray\u001b[0m\u001b[0;34m(\u001b[0m\u001b[0mX_img_ind\u001b[0m\u001b[0;34m)\u001b[0m\u001b[0;34m]\u001b[0m\u001b[0;34m\u001b[0m\u001b[0m\n",
      "\u001b[0;31mKeyboardInterrupt\u001b[0m: "
     ]
    }
   ],
   "source": [
    "config_train['model_name'] = 'model_50_comb_pca_coco'\n",
    "result = learning_pipeline(img_vec, words_vec, params, config_train)"
   ]
  },
  {
   "cell_type": "markdown",
   "metadata": {},
   "source": [
    "для коко\n",
    "\n",
    "0) один слой-разные слои для картинок и слов не работают, баг в словах +\n",
    "\n",
    "1) сетка  и 4к слов учиться оч хорошо () +\n",
    "\n",
    "3) 10 слов вместо 5 слов учиться нормас (4 к слов, 50 + пса) +\n",
    "\n",
    "2) сетка с 100 словами тоже\n",
    "\n",
    "4) если это не коко, а картинки из имаджинариума - хуево\n",
    "\n",
    "\n",
    "\n",
    "\n",
    "\n"
   ]
  },
  {
   "cell_type": "markdown",
   "metadata": {},
   "source": [
    "Сейчас, когда учу, сеть ведущий видит все карты (сделать как-то так, чтобы видела только одну - свою)\n"
   ]
  },
  {
   "cell_type": "code",
   "execution_count": null,
   "metadata": {},
   "outputs": [],
   "source": []
  },
  {
   "cell_type": "markdown",
   "metadata": {},
   "source": [
    "### Проводим эксперименты"
   ]
  },
  {
   "cell_type": "code",
   "execution_count": null,
   "metadata": {},
   "outputs": [],
   "source": [
    "result_list = []\n",
    "list_len_layers = [20]\n",
    "comb_list = [False, True]\n",
    "same_img_words_layer_list = [False, True]\n",
    "use_pca_before = [True, False]\n",
    "words_layer_list = [False, True]\n",
    "img_layer_list = [True, True]\n"
   ]
  },
  {
   "cell_type": "code",
   "execution_count": null,
   "metadata": {},
   "outputs": [],
   "source": [
    "\n",
    "for len_layer in list_len_layers: \n",
    "    for comb_layer in comb_list:\n",
    "        for same_img_words_layer in same_img_words_layer_list:\n",
    "            for pca_use in use_pca_before:\n",
    "                for words_layer in words_layer_list:\n",
    "                    for img_layer in img_layer_list:\n",
    "                        if (words_layer == False) & (img_layer == False):\n",
    "                            pass\n",
    "                        else:\n",
    "                            config_train['model_name'] = ''\n",
    "                            params_tmp = params\n",
    "                            config_train_tmp = config_train\n",
    "\n",
    "                            if pca_use:\n",
    "                                params_tmp['len_emb'] = len_layer\n",
    "\n",
    "                            params_tmp['len_dense'] = len_layer\n",
    "                            params_tmp['words_layer'] = words_layer\n",
    "                            params_tmp['img_layer'] = img_layer\n",
    "                            params_tmp['comb_layer'] = comb_layer\n",
    "                            params_tmp['same_img_words_layer'] = same_img_words_layer\n",
    "\n",
    "                            config_train_tmp['model_name'] = \\\n",
    "                            'Model, len_layer={0}, comb_layer={1}, same_img_words_layer={2}, pca_use={3}, words_layer={4}, img_layer={5}'.format(\n",
    "                                len_layer, comb_layer, same_img_words_layer, pca_use,words_layer,img_layer)\n",
    "                            print(config_train_tmp['model_name'])\n",
    "                            result_list.append(\n",
    "                                learning_pipeline(img_vec, words_vec, params_tmp, config_train_tmp))\n"
   ]
  },
  {
   "cell_type": "code",
   "execution_count": null,
   "metadata": {},
   "outputs": [],
   "source": [
    "same_img_words_layer"
   ]
  },
  {
   "cell_type": "markdown",
   "metadata": {},
   "source": [
    "### Рисуем картинки"
   ]
  },
  {
   "cell_type": "code",
   "execution_count": null,
   "metadata": {},
   "outputs": [],
   "source": [
    "folder = '2_players/'\n",
    "title = 'Accuracy network after pca, depends on len_emb, num_players = {0}, num_cards = {2}'.format(\n",
    "    params['num_players'], params['len_emb'], params['num_cards'])\n",
    "for r,l in zip(result_list, list_len_layers):\n",
    "    plt.plot(r['accuracy_list'],\n",
    "             label = 'network, len embedding = {0}'.format(l))#r['config_network']['len_emb']))\n",
    "    plt.plot([r['base_accuracy']]*1000, \n",
    "             label = 'pca baseline, len embedding = {0}'.format(l))#r['config_network']['len_emb']))\n",
    "\n",
    "\n",
    "\n",
    "plt.ylabel('Accuracy')\n",
    "plt.title(title)\n",
    "plt.xlim((-50,1000))\n",
    "plt.legend()\n",
    "savefig('pictures/{0}/{1}.png'.format(folder, title))\n",
    "\n",
    "!mkdir experiments_pickle\n",
    "with open('experiments_pickle/{0}.pickle'.format(title), 'wb') as f:\n",
    "    pickle.dump(result_list, f)"
   ]
  },
  {
   "cell_type": "code",
   "execution_count": null,
   "metadata": {},
   "outputs": [],
   "source": [
    "r['base_accuracy']"
   ]
  },
  {
   "cell_type": "markdown",
   "metadata": {},
   "source": [
    "### Шапка для картинок\n"
   ]
  },
  {
   "cell_type": "code",
   "execution_count": null,
   "metadata": {},
   "outputs": [],
   "source": [
    "%pylab inline\n",
    "import warnings\n",
    "warnings.filterwarnings(\"ignore\")\n",
    "plt.rcParams['figure.figsize'] = 20, 10\n",
    "plt.rcParams['axes.grid'] = True\n",
    "pd.set_option('display.max_columns', None)\n",
    "import matplotlib.pyplot as plt\n",
    "import matplotlib as mpl\n",
    "mpl.rcParams['font.family'] = 'Ubuntu'\n",
    "plt.rc('text', usetex=False)\n",
    "plt.rc('font', family='serif')\n",
    "plt.rc('font', weight='bold')\n",
    "plt.rc('xtick', labelsize=10) \n",
    "plt.rc('ytick', labelsize=10)\n",
    "# чтобы был русский шрифт\n",
    "from matplotlib import rc\n",
    "font = {'family': 'Verdana',\n",
    "        'weight': 'normal'}\n",
    "rc('font', **font)\n"
   ]
  },
  {
   "cell_type": "code",
   "execution_count": null,
   "metadata": {},
   "outputs": [],
   "source": []
  }
 ],
 "metadata": {
  "kernelspec": {
   "display_name": "python3",
   "language": "python",
   "name": "py3env"
  },
  "language_info": {
   "codemirror_mode": {
    "name": "ipython",
    "version": 3
   },
   "file_extension": ".py",
   "mimetype": "text/x-python",
   "name": "python",
   "nbconvert_exporter": "python",
   "pygments_lexer": "ipython3",
   "version": "3.5.2"
  }
 },
 "nbformat": 4,
 "nbformat_minor": 2
}
